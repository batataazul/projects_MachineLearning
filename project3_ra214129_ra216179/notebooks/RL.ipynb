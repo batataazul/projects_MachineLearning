{
 "cells": [
  {
   "cell_type": "code",
   "execution_count": 1,
   "metadata": {},
   "outputs": [
    {
     "name": "stdout",
     "output_type": "stream",
     "text": [
      "/home/gabriel/Documentos/Tarefas/Universidade/MC886/projects_MachineLearning/project3_ra214129_ra216179/search/search\n"
     ]
    }
   ],
   "source": [
    "%cd ../search/search\n",
    "#! python pacman.py --layout originalClassic"
   ]
  },
  {
   "cell_type": "markdown",
   "metadata": {},
   "source": [
    "# Parte II: Reinforcement Learning"
   ]
  },
  {
   "cell_type": "markdown",
   "metadata": {},
   "source": [
    "Essa parte do projeto tentará resolver o problema do Pacman utilizando o paradigma de Reinforcement Learning por meio do algoritmo de Qlearning"
   ]
  },
  {
   "attachments": {
    "3ecc1e7d-a1a1-4c74-a3cd-b6b7f71518db.png": {
     "image/png": "[encoded data removed]"
    }
   },
   "cell_type": "markdown",
   "metadata": {},
   "source": [
    "![image.png](attachment:3ecc1e7d-a1a1-4c74-a3cd-b6b7f71518db.png)  \n",
    "<b>Imagem 1:</b> Equação Qlearning"
   ]
  },
  {
   "cell_type": "markdown",
   "metadata": {},
   "source": [
    "O algoritmo Qlearning aprende atualizando a função ação-valor Q por meio dessa equação acima, em que ele atualiza o valor de um estado para a ação que escolhemos comparando com o valor de uma ação alternativa para o próximo estado. Detalharemos como isso está sendo feito a seguir."
   ]
  },
  {
   "cell_type": "markdown",
   "metadata": {},
   "source": [
    "%cd ../search/search\n",
    "#! python pacman.py --layout originalClassic"
   ]
  },
  {
   "cell_type": "code",
   "execution_count": 2,
   "metadata": {
    "tags": []
   },
   "outputs": [],
   "source": [
    "from pacman import runGames, readCommand\n",
    "from game import Agent, Directions\n",
    "from util import manhattanDistance\n",
    "import numpy as np\n",
    "import random\n",
    "import json\n",
    "import matplotlib.pyplot as plt"
   ]
  },
  {
   "cell_type": "code",
   "execution_count": 3,
   "metadata": {
    "tags": []
   },
   "outputs": [],
   "source": [
    "random.seed(7)"
   ]
  },
  {
   "cell_type": "code",
   "execution_count": 4,
   "metadata": {},
   "outputs": [],
   "source": [
    "def getState(state):\n",
    "    currentState = (state.getPacmanPosition(),Qlearn.getNearestFoodDis(state),state.getNumFood() + len(state.getCapsules()),Qlearn.nearestGhostPos(state))\n",
    "    return currentState"
   ]
  },
  {
   "cell_type": "code",
   "execution_count": 23,
   "metadata": {},
   "outputs": [],
   "source": [
    "def plotGraph(x,y,title,xlabel,ylabel):\n",
    "    plt.plot(x,y)\n",
    "    plt.title(title)\n",
    "    plt.xscale(\"log\")\n",
    "    plt.xlabel(xlabel)\n",
    "    plt.ylabel(ylabel)\n",
    "    plt.grid(True)"
   ]
  },
  {
   "cell_type": "markdown",
   "metadata": {},
   "source": [
    "## Modelo"
   ]
  },
  {
   "cell_type": "markdown",
   "metadata": {},
   "source": [
    "Para a interface com o sistema do Pacman, nós criamos classes que herdam da classe Agent. Nós passamos as instâncias da classe como parâmetro para cada execução do jogo. O aprendizado é feito a cada chamada de getAction, em que o algoritmo escolhe uma ação e aprende a partir do resultado dela, chamando o método generatePacmanSuccessor."
   ]
  },
  {
   "cell_type": "markdown",
   "metadata": {},
   "source": [
    "Dentro de getAction(), o agente registra o estado atual e o seguinte, então ele escolhe uma ação com base no que já foi aprendido, ele também pega o reforço e, então, chama a função learn, que utiliza os estados e o reforço para aprender."
   ]
  },
  {
   "cell_type": "markdown",
   "metadata": {},
   "source": [
    "Para definir o estado utilizamos as seguintes informações: Posição do Pacman, distância para a comida mais próxima, quantidade de comidas e cápsulas, e a distância para o fantasma mais próximo. As distâncias utilizadas são distâncias manhattan, que são utilizadas pela biblioteca do Pacman e a função que calcula está disponível no script util.py. Para calcular a quantidade de comida, é chamada a função de game.state que retorna quantas comidas ainda faltam e calculando o tamanho da lista retornada pela função que pega a lista de cápsulas."
   ]
  },
  {
   "cell_type": "markdown",
   "metadata": {},
   "source": [
    "Para a função recompensa a princípio tentou-se utilizar como recompensa a pontuação gargsVSa cada ação, no entanto essa abordagem não apresentou bons resultados nos treinamentos iniciais, então optou-se por outra abordagem. A recompensa então é calculada utilizando a pontuação ganha, a distância que o pacman se aproximou ou afastou do fantasma mais próximo, a distância que ele se aproxima ou afastou da comida/cápsula mais próxima e quantas comidas ele comeu a cada ação. Isso é calculado subtraindo os dados do estado atual com o seguinte e a pontuação do próximo estado com a do estado atual. Esses valores são ponderados por constantes que foram escolhidas por meio de treinamento de forma a maximizar a quantidade de vitórias e também a pontuação a cada episódio. As contantes podem ser diferentes caso o valor do fator seja positivo ou negativo. A função reforço então fica:  \n",
    "$$R(S_i,S_{i+1}) = c_1*ghostAproximation + c_2*foodAproximation + c_3*eatenFood + c_4*scoreGained$$"
   ]
  },
  {
   "cell_type": "code",
   "execution_count": 6,
   "metadata": {},
   "outputs": [],
   "source": [
    "class Qlearn(Agent):\n",
    "    def __init__(self, alpha,gamma,epsilon = 1,Qtable = {}):\n",
    "        self.Qtable = Qtable\n",
    "        self.alpha = alpha\n",
    "        self.gamma = gamma\n",
    "        self.epsilon = epsilon\n",
    "        self.score = 0\n",
    "        self.action = None\n",
    "        self.currentState = None\n",
    "        self.actions = []\n",
    "        self.currentActions = 0\n",
    "        self.rewards = []\n",
    "        self.reward = 0\n",
    "        self.scores = []\n",
    "    \n",
    "    def getQvalue(self,state,action):\n",
    "        pair = str((state,action))\n",
    "        return self.Qtable.get(pair,0.0)\n",
    "    \n",
    "    def getAction(self, state):\n",
    "        actions = state.getLegalPacmanActions()\n",
    "        self.score = state.getScore()\n",
    "        currentState = getState(state)\n",
    "        action = self.getBestAction(currentState,actions)\n",
    "        state2 = state.generatePacmanSuccessor(action)\n",
    "        nextState = getState(state2)\n",
    "        if state2.isLose():\n",
    "            reinforcement = -20000\n",
    "        elif state2.isWin():\n",
    "            reinforcement = 20000\n",
    "        else:\n",
    "            reinforcement = self.getReward(currentState,nextState,state2.getScore())\n",
    "        self.learn(currentState,nextState,action,actions,reinforcement)\n",
    "        self.action = action\n",
    "        self.currentState = currentState\n",
    "        self.currentActions += 1\n",
    "        self.reward += reinforcement\n",
    "        return action\n",
    "        \n",
    "        \n",
    "    def nearestGhostPos(state):\n",
    "        ghostList = state.getGhostPositions()\n",
    "        nearestDistance = Qlearn.getNearGhost(state.getPacmanPosition(),ghostList)\n",
    "        return nearestDistance\n",
    "\n",
    "    def getNearGhost(pacman,ghosts):\n",
    "        minDis = float(\"inf\")\n",
    "        minPos = -1\n",
    "        for i in range(len(ghosts)):\n",
    "            distance = manhattanDistance(pacman,ghosts[i])\n",
    "            if distance < minDis:\n",
    "                minDis = distance\n",
    "                minPos = i\n",
    "        if minPos > -1:\n",
    "            return ghosts[minPos]\n",
    "        else:\n",
    "            return (-1,-1)\n",
    "\n",
    "    def getNearestFoodDis(state):\n",
    "        posList = Qlearn.getFoodPos(state.getFood())\n",
    "        posList = posList + state.getCapsules()\n",
    "        minDis = minDis = float(\"inf\")\n",
    "        #minPos = (-1,-1)\n",
    "        pacPos = state.getPacmanPosition()\n",
    "        for i in posList:\n",
    "            distance = manhattanDistance(pacPos,i)\n",
    "            if distance < minDis:\n",
    "                minDis = distance\n",
    "                #minPos = i\n",
    "        return minDis\n",
    "\n",
    "\n",
    "    def getFoodPos(grid):\n",
    "        posList = []\n",
    "        gridList = grid.asList()\n",
    "        for i in range(len(gridList)):\n",
    "            for j in range(len(gridList[i])):\n",
    "                if gridList[i][j]:\n",
    "                    posList.append((i,j))\n",
    "        return posList\n",
    "\n",
    "    def getBestAction(self,currentState,actions):\n",
    "        if random.random() < self.epsilon:\n",
    "            return random.choice(actions)\n",
    "        maxValue = float(\"-inf\")\n",
    "        maxAction = []\n",
    "        for i in actions:\n",
    "            value = self.getQvalue(currentState,i)\n",
    "            if value > maxValue:\n",
    "                maxValue = value\n",
    "                maxAction = [i]\n",
    "            if value == maxValue:\n",
    "                maxAction.append(i)\n",
    "        #print(maxValue)\n",
    "        #print(maxAction)\n",
    "        return random.choice(maxAction)\n",
    "\n",
    "    def learn(self,currentState,nextState,action,actions,reinforcement):\n",
    "        nextActions = [self.getQvalue(nextState,a) for a in actions]\n",
    "        if len(nextActions) > 0:\n",
    "            newQ = max(nextActions)\n",
    "        else:\n",
    "            newQ = 0\n",
    "        currentQ = self.getQvalue(currentState,action)\n",
    "        self.Qtable[str((currentState,action))] = currentQ + self.alpha * (reinforcement + (self.gamma*newQ) - currentQ)\n",
    "\n",
    "    def setEpsilon(self,epsilon):\n",
    "        self.epsilon = epsilon\n",
    "\n",
    "    def serialize(self,path):\n",
    "        try:\n",
    "            f = open(path,\"w\")\n",
    "            json.dump(self.Qtable,f)\n",
    "            f.close()\n",
    "        except:\n",
    "            raise Exception(\"You've got an error\")\n",
    "\n",
    "    def desserialize(self,path):\n",
    "        try:\n",
    "            f = open(path,\"r\")\n",
    "            self.Qtable = json.load(f)\n",
    "            f.close()\n",
    "        except:\n",
    "            raise Exception(\"You've got an error\")\n",
    "    \n",
    "    def getReward(self,state1,state2,score):\n",
    "        pacGhostDistance1 = manhattanDistance(state1[0],state1[3])\n",
    "        pacGhostDistance2 = manhattanDistance(state2[0],state2[3])\n",
    "        #fDis1 = manhattanDistance(state1[0],state1[1])\n",
    "        #fDis2 = manhattanDistance(state2[0],state2[1])\n",
    "        eatenFood = state2[2] - state1[2]\n",
    "        ghostDistance = pacGhostDistance2 - pacGhostDistance1\n",
    "        foodDistance = state2[1] - state1[1]\n",
    "        scoreDifference = score - self.score\n",
    "        if ghostDistance > 0:\n",
    "            ghostReward = ghostDistance*200\n",
    "        else:\n",
    "            ghostReward = 200*ghostDistance\n",
    "        if foodDistance < 0:\n",
    "            foodReward = -500 * foodDistance\n",
    "        else:\n",
    "            foodReward = 0\n",
    "        if eatenFood > 0:\n",
    "            eatReward = 500*eatenFood\n",
    "        else:\n",
    "            eatReward = 0\n",
    "        if scoreDifference > 0:\n",
    "            scoreReward = 3*scoreDifference\n",
    "        else:\n",
    "            scoreReward = 5*scoreDifference\n",
    "        return ghostReward + foodReward + eatReward + scoreReward\n",
    "    \n",
    "    def win(self,terminal):\n",
    "        self.saveResult(terminal.state.getScore())\n",
    "        self.learn(self.currentState,getState(terminal.state),self.action,terminal.state.getLegalPacmanActions(),20000)\n",
    "    \n",
    "    def lose(self,terminal):\n",
    "        self.saveResult(terminal.state.getScore())\n",
    "        self.learn(self.currentState,getState(terminal.state),self.action,terminal.state.getLegalPacmanActions(),-20000)\n",
    "    \n",
    "    def saveResult(self, score):\n",
    "        self.actions.append(self.currentActions)\n",
    "        self.scores.append(score)\n",
    "        self.rewards.append(self.reward)\n",
    "        self.currentActions = 0\n",
    "        self.reward = 0\n",
    "        self.score = 0\n",
    "    \n",
    "    def printResult(self,k):\n",
    "        episodes = [i for i in range(1,k+1)]\n",
    "        plotGraph(episodes,self.actions,\"Actions per Episode\",\"Episodes\",\"Actions\")\n",
    "        plotGraph(episodes,self.scores,\"Score per Episode\",\"Episodes\",\"Score\")\n",
    "        plotGraph(episodes,self.rewards,\"Reward per Episode\",\"Episodes\",\"Reward\")    "
   ]
  },
  {
   "cell_type": "markdown",
   "metadata": {},
   "source": [
    "Best:  \n",
    "GhostReward = 200/200  \n",
    "FoodReward = -500/0  \n",
    "EatReward = 500/0  \n",
    "ScoreReward = 3/5  \n",
    "Alpha = 0.85  \n",
    "Gamma = 0.5  \n",
    "\n",
    "First Win: 9837  \n",
    "Total win: 84  \n",
    "Average: -343.3107"
   ]
  },
  {
   "cell_type": "code",
   "execution_count": 7,
   "metadata": {},
   "outputs": [],
   "source": [
    "def showResults(agente,k):\n",
    "    for i in range(0,k-1,1000):\n",
    "        try:    \n",
    "            print(\"Episode \"+str(i+1)+\": Number of actions = \"+str(agente.actions[i])+\"; Total score = \"+str(agente.scores[i])+\"; Total Reward = \"+str(agente.rewards[i]))\n",
    "        except(IndexError):\n",
    "            print(\"Index out of range\")\n",
    "            break"
   ]
  },
  {
   "cell_type": "code",
   "execution_count": 8,
   "metadata": {},
   "outputs": [
    {
     "name": "stdout",
     "output_type": "stream",
     "text": [
      "['-q', '--pacman', 'LeftTurnAgent', '--layout', 'smallClassic']\n"
     ]
    }
   ],
   "source": [
    "args = readCommand([\"-q\", \"--pacman\", \"LeftTurnAgent\",\"--layout\",\"smallClassic\"])"
   ]
  },
  {
   "cell_type": "code",
   "execution_count": 9,
   "metadata": {},
   "outputs": [],
   "source": [
    "a = []"
   ]
  },
  {
   "cell_type": "code",
   "execution_count": 10,
   "metadata": {},
   "outputs": [],
   "source": [
    "agente = Qlearn(0.85,0.5,epsilon = 1)\n",
    "args[\"pacman\"] = agente"
   ]
  },
  {
   "cell_type": "code",
   "execution_count": 11,
   "metadata": {},
   "outputs": [
    {
     "name": "stdout",
     "output_type": "stream",
     "text": [
      "Pacman emerges victorious! Score: 664\n",
      "6961\n",
      "Pacman emerges victorious! Score: 587\n",
      "7234\n",
      "Pacman emerges victorious! Score: 881\n",
      "7753\n",
      "Pacman emerges victorious! Score: 710\n",
      "8192\n",
      "Pacman emerges victorious! Score: 895\n",
      "8986\n",
      "Pacman emerges victorious! Score: 599\n",
      "10371\n",
      "Pacman emerges victorious! Score: 970\n",
      "10618\n",
      "Pacman emerges victorious! Score: 910\n",
      "10782\n",
      "Pacman emerges victorious! Score: 831\n",
      "11155\n",
      "Pacman emerges victorious! Score: 650\n",
      "11501\n",
      "Pacman emerges victorious! Score: 483\n",
      "12050\n",
      "Pacman emerges victorious! Score: 646\n",
      "12863\n",
      "Pacman emerges victorious! Score: 774\n",
      "13171\n",
      "Pacman emerges victorious! Score: 734\n",
      "13342\n",
      "Pacman emerges victorious! Score: 653\n",
      "14939\n",
      "Pacman emerges victorious! Score: 516\n",
      "15339\n",
      "Pacman emerges victorious! Score: 774\n",
      "15409\n",
      "Pacman emerges victorious! Score: 815\n",
      "15752\n",
      "Pacman emerges victorious! Score: 651\n",
      "16149\n",
      "Pacman emerges victorious! Score: 537\n",
      "16269\n",
      "Pacman emerges victorious! Score: 892\n",
      "16418\n",
      "Pacman emerges victorious! Score: 699\n",
      "16636\n",
      "Pacman emerges victorious! Score: 592\n",
      "16690\n",
      "Pacman emerges victorious! Score: 628\n",
      "17808\n",
      "Pacman emerges victorious! Score: 291\n",
      "17951\n",
      "Pacman emerges victorious! Score: 831\n",
      "18429\n",
      "Pacman emerges victorious! Score: 641\n",
      "18514\n",
      "Pacman emerges victorious! Score: 1065\n",
      "18971\n",
      "Pacman emerges victorious! Score: 982\n",
      "19128\n",
      "Pacman emerges victorious! Score: 747\n",
      "19339\n",
      "Pacman emerges victorious! Score: 594\n",
      "19398\n",
      "Pacman emerges victorious! Score: 832\n",
      "19420\n",
      "Pacman emerges victorious! Score: 737\n",
      "19806\n",
      "Pacman emerges victorious! Score: 617\n",
      "20074\n",
      "Pacman emerges victorious! Score: 790\n",
      "20131\n",
      "Pacman emerges victorious! Score: 657\n",
      "20333\n",
      "Pacman emerges victorious! Score: 699\n",
      "20967\n",
      "Pacman emerges victorious! Score: 819\n",
      "20979\n",
      "Pacman emerges victorious! Score: 744\n",
      "21304\n",
      "Pacman emerges victorious! Score: 638\n",
      "22175\n",
      "Pacman emerges victorious! Score: 624\n",
      "22289\n",
      "Pacman emerges victorious! Score: 1014\n",
      "22430\n",
      "Pacman emerges victorious! Score: 638\n",
      "22692\n",
      "Pacman emerges victorious! Score: 970\n",
      "22746\n",
      "Pacman emerges victorious! Score: 868\n",
      "22912\n",
      "Pacman emerges victorious! Score: 760\n",
      "22968\n",
      "Pacman emerges victorious! Score: 683\n",
      "23261\n",
      "Pacman emerges victorious! Score: 710\n",
      "23510\n",
      "Pacman emerges victorious! Score: 329\n",
      "23683\n",
      "Pacman emerges victorious! Score: 811\n",
      "23698\n",
      "Pacman emerges victorious! Score: 963\n",
      "24040\n",
      "Pacman emerges victorious! Score: 1016\n",
      "24087\n",
      "Pacman emerges victorious! Score: 835\n",
      "24090\n",
      "Pacman emerges victorious! Score: 757\n",
      "24134\n",
      "Pacman emerges victorious! Score: 844\n",
      "24381\n",
      "Pacman emerges victorious! Score: 608\n",
      "24487\n",
      "Pacman emerges victorious! Score: 756\n",
      "24770\n",
      "Pacman emerges victorious! Score: 814\n",
      "24812\n",
      "Pacman emerges victorious! Score: 906\n",
      "24873\n",
      "Pacman emerges victorious! Score: 825\n",
      "25139\n",
      "Pacman emerges victorious! Score: 789\n",
      "25574\n",
      "Pacman emerges victorious! Score: 642\n",
      "25831\n",
      "Pacman emerges victorious! Score: 637\n",
      "26021\n",
      "Pacman emerges victorious! Score: 618\n",
      "26330\n",
      "Pacman emerges victorious! Score: 962\n",
      "26351\n",
      "Pacman emerges victorious! Score: 598\n",
      "26413\n",
      "Pacman emerges victorious! Score: 1017\n",
      "26547\n",
      "Pacman emerges victorious! Score: 775\n",
      "26552\n",
      "Pacman emerges victorious! Score: 391\n",
      "26613\n",
      "Pacman emerges victorious! Score: 799\n",
      "26839\n",
      "Pacman emerges victorious! Score: 748\n",
      "26995\n",
      "Pacman emerges victorious! Score: 558\n",
      "27005\n",
      "Pacman emerges victorious! Score: 591\n",
      "27650\n",
      "Pacman emerges victorious! Score: 745\n",
      "27809\n",
      "Pacman emerges victorious! Score: 942\n",
      "27999\n",
      "Pacman emerges victorious! Score: 557\n",
      "28152\n",
      "Pacman emerges victorious! Score: 509\n",
      "28270\n",
      "Pacman emerges victorious! Score: 725\n",
      "28382\n",
      "Pacman emerges victorious! Score: 574\n",
      "28509\n",
      "Pacman emerges victorious! Score: 807\n",
      "28766\n",
      "Pacman emerges victorious! Score: 597\n",
      "29218\n",
      "Pacman emerges victorious! Score: 803\n",
      "29387\n",
      "Pacman emerges victorious! Score: 1070\n",
      "30094\n",
      "Pacman emerges victorious! Score: 861\n",
      "30123\n",
      "Pacman emerges victorious! Score: 1161\n",
      "30237\n",
      "Pacman emerges victorious! Score: 682\n",
      "30385\n",
      "Pacman emerges victorious! Score: 499\n",
      "30466\n",
      "Pacman emerges victorious! Score: 689\n",
      "30986\n",
      "Pacman emerges victorious! Score: 881\n",
      "31132\n",
      "Pacman emerges victorious! Score: 603\n",
      "31264\n",
      "Pacman emerges victorious! Score: 723\n",
      "31665\n",
      "Pacman emerges victorious! Score: 662\n",
      "31682\n",
      "Pacman emerges victorious! Score: 674\n",
      "31931\n",
      "Pacman emerges victorious! Score: 696\n",
      "32002\n",
      "Pacman emerges victorious! Score: 612\n",
      "32056\n",
      "Pacman emerges victorious! Score: 1032\n",
      "32217\n",
      "Pacman emerges victorious! Score: 656\n",
      "32705\n",
      "Pacman emerges victorious! Score: 753\n",
      "32848\n",
      "Pacman emerges victorious! Score: 321\n",
      "32898\n",
      "Pacman emerges victorious! Score: 815\n",
      "33196\n",
      "Pacman emerges victorious! Score: 753\n",
      "33229\n",
      "Pacman emerges victorious! Score: 741\n",
      "33383\n",
      "Pacman emerges victorious! Score: 704\n",
      "33695\n",
      "Pacman emerges victorious! Score: 246\n",
      "33961\n",
      "Pacman emerges victorious! Score: 796\n",
      "34319\n",
      "Pacman emerges victorious! Score: 893\n",
      "35294\n",
      "Pacman emerges victorious! Score: 751\n",
      "35358\n",
      "Pacman emerges victorious! Score: 738\n",
      "35638\n",
      "Pacman emerges victorious! Score: 699\n",
      "35724\n",
      "Pacman emerges victorious! Score: 670\n",
      "35997\n",
      "Pacman emerges victorious! Score: 512\n",
      "36208\n",
      "Pacman emerges victorious! Score: 326\n",
      "36267\n",
      "Pacman emerges victorious! Score: 828\n",
      "36558\n",
      "Pacman emerges victorious! Score: 486\n",
      "36780\n",
      "Pacman emerges victorious! Score: 640\n",
      "37267\n",
      "Pacman emerges victorious! Score: 503\n",
      "37428\n",
      "Pacman emerges victorious! Score: 900\n",
      "38199\n",
      "Pacman emerges victorious! Score: 602\n",
      "38382\n",
      "Pacman emerges victorious! Score: 531\n",
      "38486\n",
      "Pacman emerges victorious! Score: 502\n",
      "38489\n",
      "Pacman emerges victorious! Score: 663\n",
      "38498\n",
      "Pacman emerges victorious! Score: 829\n",
      "39379\n",
      "Pacman emerges victorious! Score: 791\n",
      "39858\n",
      "Pacman emerges victorious! Score: 554\n",
      "39932\n",
      "Pacman emerges victorious! Score: 709\n",
      "39936\n"
     ]
    }
   ],
   "source": [
    "victorys = []\n",
    "k = 40000\n",
    "summ = 0\n",
    "for i in range(k):\n",
    "    agente.setEpsilon(1/(i+1))\n",
    "    a.append(runGames(**args))\n",
    "    if a[i][0].state.isLose():\n",
    "        agente.lose(a[i][0])\n",
    "    elif a[i][0].state.isWin():\n",
    "        agente.win(a[i][0])\n",
    "        victorys.append(a[i])\n",
    "        print(i)\n",
    "    summ += a[i][0].state.getScore()"
   ]
  },
  {
   "cell_type": "code",
   "execution_count": 12,
   "metadata": {},
   "outputs": [
    {
     "name": "stdout",
     "output_type": "stream",
     "text": [
      "Episode 1: Number of actions = 14; Total score = -454.0; Total Reward = -19073.0\n",
      "Episode 1001: Number of actions = 33; Total score = -383.0; Total Reward = -15812.0\n",
      "Episode 2001: Number of actions = 211; Total score = -291.0; Total Reward = 35689.0\n",
      "Episode 3001: Number of actions = 86; Total score = -226.0; Total Reward = 15322.0\n",
      "Episode 4001: Number of actions = 327; Total score = -537.0; Total Reward = 30498.0\n",
      "Episode 5001: Number of actions = 58; Total score = -318.0; Total Reward = 10278.0\n",
      "Episode 6001: Number of actions = 68; Total score = -328.0; Total Reward = 10428.0\n",
      "Episode 7001: Number of actions = 144; Total score = -314.0; Total Reward = 4741.0\n",
      "Episode 8001: Number of actions = 157; Total score = -407.0; Total Reward = 21315.0\n",
      "Episode 9001: Number of actions = 168; Total score = -288.0; Total Reward = 35176.0\n",
      "Episode 10001: Number of actions = 327; Total score = -407.0; Total Reward = 47109.0\n",
      "Episode 11001: Number of actions = 206; Total score = -486.0; Total Reward = 23874.0\n",
      "Episode 12001: Number of actions = 80; Total score = -190.0; Total Reward = 15210.0\n",
      "Episode 13001: Number of actions = 177; Total score = -357.0; Total Reward = 36239.0\n",
      "Episode 14001: Number of actions = 198; Total score = -378.0; Total Reward = 16634.0\n",
      "Episode 15001: Number of actions = 108; Total score = -438.0; Total Reward = 13304.0\n",
      "Episode 16001: Number of actions = 155; Total score = -225.0; Total Reward = 22463.0\n",
      "Episode 17001: Number of actions = 147; Total score = -257.0; Total Reward = 24175.0\n",
      "Episode 18001: Number of actions = 320; Total score = -540.0; Total Reward = 41896.0\n",
      "Episode 19001: Number of actions = 283; Total score = -463.0; Total Reward = 43009.0\n",
      "Episode 20001: Number of actions = 146; Total score = -456.0; Total Reward = 7878.0\n",
      "Episode 21001: Number of actions = 90; Total score = -430.0; Total Reward = 21262.0\n",
      "Episode 22001: Number of actions = 180; Total score = -260.0; Total Reward = 26744.0\n",
      "Episode 23001: Number of actions = 333; Total score = -443.0; Total Reward = 26645.0\n",
      "Episode 24001: Number of actions = 65; Total score = -425.0; Total Reward = 10723.0\n",
      "Episode 25001: Number of actions = 390; Total score = -410.0; Total Reward = 48091.0\n",
      "Episode 26001: Number of actions = 154; Total score = -454.0; Total Reward = 13770.0\n",
      "Episode 27001: Number of actions = 286; Total score = -136.0; Total Reward = 65612.0\n",
      "Episode 28001: Number of actions = 471; Total score = -371.0; Total Reward = 53832.0\n",
      "Episode 29001: Number of actions = 300; Total score = -60.0; Total Reward = 68930.0\n",
      "Episode 30001: Number of actions = 92; Total score = -372.0; Total Reward = 14744.0\n",
      "Episode 31001: Number of actions = 86; Total score = -396.0; Total Reward = 9678.0\n",
      "Episode 32001: Number of actions = 182; Total score = -242.0; Total Reward = 26860.0\n",
      "Episode 33001: Number of actions = 182; Total score = -242.0; Total Reward = 24860.0\n",
      "Episode 34001: Number of actions = 72; Total score = -302.0; Total Reward = -6791.0\n",
      "Episode 35001: Number of actions = 249; Total score = -359.0; Total Reward = 38565.0\n",
      "Episode 36001: Number of actions = 62; Total score = -402.0; Total Reward = 5302.0\n",
      "Episode 37001: Number of actions = 111; Total score = -421.0; Total Reward = 10653.0\n",
      "Episode 38001: Number of actions = 106; Total score = -396.0; Total Reward = 18842.0\n",
      "Episode 39001: Number of actions = 74; Total score = -384.0; Total Reward = 14238.0\n"
     ]
    }
   ],
   "source": [
    "showResults(agente,k)"
   ]
  },
  {
   "cell_type": "code",
   "execution_count": 13,
   "metadata": {},
   "outputs": [],
   "source": [
    "agente.serialize(\"../../notebooks/results/small/a085-g03-d110721.json\")"
   ]
  },
  {
   "cell_type": "code",
   "execution_count": 14,
   "metadata": {},
   "outputs": [
    {
     "name": "stdout",
     "output_type": "stream",
     "text": [
      "125\n",
      "-336.336175\n"
     ]
    }
   ],
   "source": [
    "print(len(victorys))\n",
    "print(summ/k)"
   ]
  },
  {
   "cell_type": "code",
   "execution_count": 24,
   "metadata": {},
   "outputs": [
    {
     "data": {
      "image/png": "[encoded data removed]",
      "text/plain": [
       "<Figure size 432x288 with 1 Axes>"
      ]
     },
     "metadata": {
      "needs_background": "light"
     },
     "output_type": "display_data"
    }
   ],
   "source": [
    "episodes = [i for i in range(1,k+1)]\n",
    "plotGraph(episodes,agente.actions,\"Actions per Episode\",\"Episodes\",\"Actions\")"
   ]
  },
  {
   "cell_type": "code",
   "execution_count": 25,
   "metadata": {},
   "outputs": [
    {
     "data": {
      "image/png": "[encoded data removed]",
      "text/plain": [
       "<Figure size 432x288 with 1 Axes>"
      ]
     },
     "metadata": {
      "needs_background": "light"
     },
     "output_type": "display_data"
    }
   ],
   "source": [
    "plotGraph(episodes,agente.scores,\"Score per Episode\",\"Episodes\",\"Score\")"
   ]
  },
  {
   "cell_type": "code",
   "execution_count": 26,
   "metadata": {},
   "outputs": [
    {
     "data": {
      "image/png": "[encoded data removed]",
      "text/plain": [
       "<Figure size 432x288 with 1 Axes>"
      ]
     },
     "metadata": {
      "needs_background": "light"
     },
     "output_type": "display_data"
    }
   ],
   "source": [
    "plotGraph(episodes,agente.rewards,\"Reward per Episode\",\"Episodes\",\"Reward\")  "
   ]
  },
  {
   "cell_type": "code",
   "execution_count": 6,
   "metadata": {},
   "outputs": [
    {
     "name": "stdout",
     "output_type": "stream",
     "text": [
      "['-q', '--pacman', 'LeftTurnAgent', '--layout', 'mediumClassic']\n"
     ]
    }
   ],
   "source": [
    "argsM = readCommand([\"-q\", \"--pacman\", \"LeftTurnAgent\",\"--layout\",\"mediumClassic\"])"
   ]
  },
  {
   "cell_type": "code",
   "execution_count": 7,
   "metadata": {},
   "outputs": [],
   "source": [
    "aM = []"
   ]
  },
  {
   "cell_type": "code",
   "execution_count": 8,
   "metadata": {},
   "outputs": [],
   "source": [
    "agenteM = Qlearn(0.85,0.5,epsilon = 1)\n",
    "argsM[\"pacman\"] = agenteM"
   ]
  },
  {
   "cell_type": "code",
   "execution_count": 9,
   "metadata": {},
   "outputs": [],
   "source": [
    "victorysM = []\n",
    "kM = 40000\n",
    "summM = 0\n",
    "for i in range(kM):\n",
    "    agenteM.setEpsilon(1/(i+1))\n",
    "    aM.append(runGames(**argsM))\n",
    "    if aM[i][0].state.isLose():\n",
    "        agenteM.lose(aM[i][0])\n",
    "    elif aM[i][0].state.isWin():\n",
    "        agenteM.win(aM[i][0])\n",
    "        victorysM.append(aM[i])\n",
    "        print(i)\n",
    "    summM += aM[i][0].state.getScore()"
   ]
  },
  {
   "cell_type": "code",
   "execution_count": 10,
   "metadata": {},
   "outputs": [],
   "source": [
    "agenteM.serialize(\"../../notebooks/results/medium/a085-g05-d110721.json\")"
   ]
  },
  {
   "cell_type": "code",
   "execution_count": null,
   "metadata": {},
   "outputs": [],
   "source": [
    "showResults(agenteM,kM)"
   ]
  },
  {
   "cell_type": "code",
   "execution_count": 11,
   "metadata": {},
   "outputs": [
    {
     "name": "stdout",
     "output_type": "stream",
     "text": [
      "0\n",
      "-387.8459\n"
     ]
    }
   ],
   "source": [
    "print(len(victorysM))\n",
    "print(summM/kM)"
   ]
  },
  {
   "cell_type": "code",
   "execution_count": null,
   "metadata": {},
   "outputs": [],
   "source": [
    "agente.printResult(kM)"
   ]
  },
  {
   "cell_type": "code",
   "execution_count": 9,
   "metadata": {},
   "outputs": [
    {
     "name": "stdout",
     "output_type": "stream",
     "text": [
      "['-q', '--pacman', 'LeftTurnAgent', '--layout', 'originalClassic']\n"
     ]
    }
   ],
   "source": [
    "argsO = readCommand([\"-q\", \"--pacman\", \"LeftTurnAgent\",\"--layout\",\"originalClassic\"])"
   ]
  },
  {
   "cell_type": "code",
   "execution_count": 10,
   "metadata": {},
   "outputs": [],
   "source": [
    "aO = []"
   ]
  },
  {
   "cell_type": "code",
   "execution_count": 11,
   "metadata": {},
   "outputs": [],
   "source": [
    "agenteO = Qlearn(0.85,0.5,epsilon = 1)\n",
    "argsO[\"pacman\"] = agenteO"
   ]
  },
  {
   "cell_type": "code",
   "execution_count": null,
   "metadata": {},
   "outputs": [],
   "source": [
    "victorysO = []\n",
    "kO = 40000\n",
    "summO = 0\n",
    "for i in range(kO):\n",
    "    agenteO.setEpsilon(1/(i+1))\n",
    "    aO.append(runGames(**argsO))\n",
    "    if aO[i][0].state.isLose():\n",
    "        agenteO.lose(aO[i][0])\n",
    "    elif aO[i][0].state.isWin():\n",
    "        agenteO.win(aO[i][0])\n",
    "        victorysO.append(aO[i])\n",
    "        print(i)\n",
    "    summO += aO[i][0].state.getScore()"
   ]
  },
  {
   "cell_type": "code",
   "execution_count": null,
   "metadata": {},
   "outputs": [],
   "source": [
    "agenteO.serialize(\"../../notebooks/results/original/a085-g05-d110721.json\")"
   ]
  },
  {
   "cell_type": "code",
   "execution_count": null,
   "metadata": {},
   "outputs": [],
   "source": [
    "showResults(agenteO,kO)"
   ]
  },
  {
   "cell_type": "code",
   "execution_count": null,
   "metadata": {},
   "outputs": [],
   "source": [
    "print(len(victorysO))\n",
    "print(summO/kO)"
   ]
  },
  {
   "cell_type": "code",
   "execution_count": null,
   "metadata": {},
   "outputs": [],
   "source": [
    "agente.printResult(kM)"
   ]
  },
  {
   "cell_type": "code",
   "execution_count": 12,
   "metadata": {},
   "outputs": [],
   "source": [
    "class smartPacman(Agent):\n",
    "    def __init__(self, path):\n",
    "        self.desserialize(path)\n",
    "        self.score = 0\n",
    "        self.action = 0\n",
    "        self.scores = []\n",
    "        self.actions = []\n",
    "        self.win = 0\n",
    "    \n",
    "    def getQvalue(self,state,action):\n",
    "        pair = str((state,action))\n",
    "        return self.Qtable.get(pair,0.0)\n",
    "    \n",
    "    def getAction(self, state):\n",
    "        actions = state.getLegalPacmanActions()\n",
    "        currentState = getState(state)\n",
    "        action = self.getBestAction(currentState,actions)\n",
    "        return action\n",
    "    \n",
    "    def getBestAction(self,currentState,actions):\n",
    "        maxValue = float(\"-inf\")\n",
    "        maxAction = []\n",
    "        for i in actions:\n",
    "            value = self.getQvalue(currentState,i)\n",
    "            if value > maxValue:\n",
    "                maxValue = value\n",
    "                maxAction = [i]\n",
    "            if value == maxValue:\n",
    "                maxAction.append(i)\n",
    "        #print(maxValue)\n",
    "        #print(maxAction)\n",
    "        self.action += 1\n",
    "        return random.choice(maxAction)\n",
    "    \n",
    "    def desserialize(self,path):\n",
    "        try:\n",
    "            f = open(path,\"r\")\n",
    "            self.Qtable = json.load(f)\n",
    "            f.close()\n",
    "        except:\n",
    "            raise Exception(\"You've got an error\")\n",
    "    def finish(self,state,episode):\n",
    "        if state.isWin():\n",
    "            self.win +=1\n",
    "        self.score = state.getScore()\n",
    "        print(\"Episode: \"+str(episode)+\"; Score = \"+str(self.score)+\"; Actions = \"+str(self.action))\n",
    "        self.scores.append(self.score)\n",
    "        self.actions.append(self.actions)\n",
    "        self.action = 0\n",
    "    \n",
    "    def printResult(self,k):\n",
    "        episodes = [i for i in range(1,k+1)]\n",
    "        plotGraph(episodes,self.actions,\"Actions per Episode\",\"Episodes\",\"Actions\")\n",
    "        plotGraph(episodes,self.scores,\"Score per Episode\",\"Episodes\",\"Score\")\n",
    "    \n",
    "    def winRate(self,k):\n",
    "        summ = 0\n",
    "        for i in self.scores:\n",
    "            summ += i\n",
    "        scoreAverage = summ/k\n",
    "        winRate = (self.win/k) * 100\n",
    "        print(\"Score average = \"+ str(scoreAverage))\n",
    "        print(\"Rate of wins = \"+ str(winRate)+\"%\")"
   ]
  },
  {
   "cell_type": "code",
   "execution_count": 13,
   "metadata": {},
   "outputs": [
    {
     "name": "stdout",
     "output_type": "stream",
     "text": [
      "['--pacman', 'LeftTurnAgent', '--layout', 'mediumClassic']\n"
     ]
    }
   ],
   "source": [
    "#best: agenteEsperto = smartPacman(\"../../notebooks/results/small/a085-g03-d100721-2.json\")\n",
    "agenteEsperto = smartPacman(\"../../notebooks/results/medium/a085-g05-d110721.json\")\n",
    "argsV = readCommand([\"--pacman\", \"LeftTurnAgent\",\"--layout\",\"mediumClassic\"])\n",
    "argsV[\"pacman\"] = agenteEsperto"
   ]
  },
  {
   "cell_type": "code",
   "execution_count": 14,
   "metadata": {},
   "outputs": [
    {
     "name": "stdout",
     "output_type": "stream",
     "text": [
      "False\n",
      "-442.0\n"
     ]
    }
   ],
   "source": [
    "a = runGames(**argsV)\n",
    "print(a[0].state.isWin())\n",
    "print(a[0].state.getScore())"
   ]
  },
  {
   "cell_type": "code",
   "execution_count": null,
   "metadata": {},
   "outputs": [],
   "source": [
    "agenteEspertoS = smartPacman(\"../../notebooks/results/medium/a085-g05-d110721.json\")\n",
    "argsVS = readCommand([\"q\",\"--pacman\", \"LeftTurnAgent\",\"--layout\",\"smallClassic\"])\n",
    "argsVS[\"pacman\"] = agenteEspertoS"
   ]
  },
  {
   "cell_type": "code",
   "execution_count": null,
   "metadata": {},
   "outputs": [],
   "source": [
    "bS = []\n",
    "kP = 10\n",
    "for i in range(kP):\n",
    "    bS.append(runGames(**argsVS))\n",
    "    print(bS[i][0].state.isWin())\n",
    "    print(bS[i][0].state.getScore())\n",
    "    agenteEspertoS.finish(bS[i][0].state,i+1)"
   ]
  },
  {
   "cell_type": "code",
   "execution_count": null,
   "metadata": {},
   "outputs": [],
   "source": [
    "agenteEspertoS.printResult(kP)\n",
    "agenteEspertoS.winRate(kP)"
   ]
  },
  {
   "cell_type": "code",
   "execution_count": null,
   "metadata": {},
   "outputs": [],
   "source": [
    "agenteEspertoM = smartPacman(\"../../notebooks/results/medium/a085-g05-d110721.json\")\n",
    "argsVM = readCommand([\"q\",\"--pacman\", \"LeftTurnAgent\",\"--layout\",\"mediumClassic\"])\n",
    "argsVM[\"pacman\"] = agenteEspertoM"
   ]
  },
  {
   "cell_type": "code",
   "execution_count": null,
   "metadata": {},
   "outputs": [],
   "source": [
    "bM = []\n",
    "kM = 10\n",
    "for i in range(kM):\n",
    "    bM.append(runGames(**argsVM))\n",
    "    print(bM[i][0].state.isWin())\n",
    "    print(bM[i][0].state.getScore())\n",
    "    agenteEspertoM.finish(bM[i][0].state,i+1)"
   ]
  },
  {
   "cell_type": "code",
   "execution_count": null,
   "metadata": {},
   "outputs": [],
   "source": [
    "agenteEspertoM.printResult(kM)\n",
    "agenteEspertoM.winRate(kM)"
   ]
  },
  {
   "cell_type": "code",
   "execution_count": null,
   "metadata": {},
   "outputs": [],
   "source": [
    "agenteEspertoO = smartPacman(\"../../notebooks/results/medium/a085-g05-d110721.json\")\n",
    "argsVO = readCommand([\"q\",\"--pacman\", \"LeftTurnAgent\",\"--layout\",\"originalClassic\"])\n",
    "argsVO[\"pacman\"] = agenteEspertoO"
   ]
  },
  {
   "cell_type": "code",
   "execution_count": null,
   "metadata": {},
   "outputs": [],
   "source": [
    "bO = []\n",
    "kO = 10\n",
    "for i in range(kO):\n",
    "    bO.append(runGames(**argsVO))\n",
    "    print(bO[i][0].state.isWin())\n",
    "    print(bO[i][0].state.getScore())\n",
    "    agenteEspertoO.finish(bO[i][0].state,i+1)"
   ]
  },
  {
   "cell_type": "code",
   "execution_count": null,
   "metadata": {},
   "outputs": [],
   "source": [
    "agenteEspertoO.printResult(kO)\n",
    "agenteEspertoO.winRate(kO)"
   ]
  }
 ],
 "metadata": {
  "interpreter": {
   "hash": "4a33e6643d3d266930a9315102c951dbbb0201b743375bf7e85bc0f4d5308486"
  },
  "kernelspec": {
   "display_name": "Python 3 (ipykernel)",
   "language": "python",
   "name": "python3"
  },
  "language_info": {
   "codemirror_mode": {
    "name": "ipython",
    "version": 3
   },
   "file_extension": ".py",
   "mimetype": "text/x-python",
   "name": "python",
   "nbconvert_exporter": "python",
   "pygments_lexer": "ipython3",
   "version": "3.8.10"
  }
 },
 "nbformat": 4,
 "nbformat_minor": 4
}
