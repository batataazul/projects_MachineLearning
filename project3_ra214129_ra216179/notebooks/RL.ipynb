{
 "cells": [
  {
   "cell_type": "code",
   "execution_count": 1,
   "metadata": {},
   "outputs": [
    {
     "name": "stdout",
     "output_type": "stream",
     "text": [
      "c:\\Users\\Gabriel de Freitas\\OneDrive\\Documentos\\Tarefas\\Universidade\\MC886\\projects_MachineLearning\\project3_ra214129_ra216179\\search\\search\n"
     ]
    }
   ],
   "source": [
    "%cd ../search/search\n",
    "#! python pacman.py --layout originalClassic"
   ]
  },
  {
   "cell_type": "code",
   "execution_count": 11,
   "metadata": {},
   "outputs": [],
   "source": [
    "from pacman import runGames, readCommand\n",
    "from game import Agent, Directions"
   ]
  },
  {
   "cell_type": "code",
   "execution_count": 24,
   "metadata": {},
   "outputs": [],
   "source": [
    "class Qlearn(Agent):\n",
    "    \n",
    "    def __init__(self, Qtable = []):\n",
    "        self.Qtable = Qtable\n",
    "        print(\"Batata\")\n",
    "    \n",
    "    def getAction(self, state):\n",
    "        legal = state.getLegalPacmanActions()\n",
    "        current = state.getPacmanState().configuration.direction\n",
    "        if current == Directions.STOP: current = Directions.NORTH\n",
    "        left = Directions.LEFT[current]\n",
    "        if left in legal: return left\n",
    "        if current in legal: return current\n",
    "        if Directions.RIGHT[current] in legal: return Directions.RIGHT[current]\n",
    "        if Directions.LEFT[left] in legal: return Directions.LEFT[left]\n",
    "        return Directions.STOP"
   ]
  },
  {
   "cell_type": "code",
   "execution_count": 26,
   "metadata": {},
   "outputs": [
    {
     "name": "stdout",
     "output_type": "stream",
     "text": [
      "Batata\n",
      "['-q', '--pacman', 'LeftTurnAgent']\n"
     ]
    }
   ],
   "source": [
    "agente = Qlearn()\n",
    "args = readCommand(['-q', '--pacman', 'LeftTurnAgent'])\n",
    "args[\"pacman\"] = agente"
   ]
  },
  {
   "cell_type": "code",
   "execution_count": 27,
   "metadata": {},
   "outputs": [
    {
     "name": "stdout",
     "output_type": "stream",
     "text": [
      "Pacman died! Score: 595\n",
      "Average Score: 595.0\n",
      "Scores:        595.0\n",
      "Win Rate:      0/1 (0.00)\n",
      "Record:        Loss\n",
      "[<game.Game object at 0x00000253FCAD38C8>]\n"
     ]
    }
   ],
   "source": [
    "a = runGames(**args)\n",
    "print(a)"
   ]
  },
  {
   "cell_type": "code",
   "execution_count": 9,
   "metadata": {},
   "outputs": [
    {
     "name": "stdout",
     "output_type": "stream",
     "text": [
      "False\n"
     ]
    }
   ],
   "source": [
    "print(a[0].state.isWin())"
   ]
  },
  {
   "cell_type": "code",
   "execution_count": null,
   "metadata": {},
   "outputs": [],
   "source": []
  }
 ],
 "metadata": {
  "interpreter": {
   "hash": "4a33e6643d3d266930a9315102c951dbbb0201b743375bf7e85bc0f4d5308486"
  },
  "kernelspec": {
   "display_name": "Python 3.7.4 64-bit ('base': conda)",
   "name": "python3"
  },
  "language_info": {
   "codemirror_mode": {
    "name": "ipython",
    "version": 3
   },
   "file_extension": ".py",
   "mimetype": "text/x-python",
   "name": "python",
   "nbconvert_exporter": "python",
   "pygments_lexer": "ipython3",
   "version": "3.7.4"
  }
 },
 "nbformat": 4,
 "nbformat_minor": 4
}
