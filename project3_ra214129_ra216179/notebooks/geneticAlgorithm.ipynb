{
 "cells": [
  {
   "cell_type": "markdown",
   "id": "ae27b5b5",
   "metadata": {},
   "source": [
    "## Projeto 3 - Machine Learning"
   ]
  },
  {
   "cell_type": "markdown",
   "id": "bc0e0d38",
   "metadata": {},
   "source": [
    "Caio Emanuel Rhoden - RA 214129"
   ]
  },
  {
   "cell_type": "markdown",
   "id": "aff0a516",
   "metadata": {},
   "source": [
    "A ideia inicial era tentar fazer um Programa Genético para buscar os resultados do pacman, para isso tentei fazer um programa baseado em um cromossomo com uma PriorityQueue, estrutura de dados vindas na engine do jogo, que definiria a ordem das ações para diferentes situações de jogo (comida ao lado, comida próxima e em zona de perigo), com um array definindo a ordem de priridade do que se olhar primeiro."
   ]
  },
  {
   "cell_type": "markdown",
   "id": "0d4ceda9",
   "metadata": {},
   "source": [
    "Todavia apesar de existir progresso o algoritmo não convergia, até tinha progresso em resultados mas chegava em um certo numero de gerações que ele não tinha mais evolução. Foi aplicada uma série de modificações, como a adição de um status voltado para a capsulas, ainda assim não adiantou muito. Tendo em visto o baixo progresso foi necessário pivotar a ideia e \"mudar\" um pouco a regra de como o programa funcionava"
   ]
  },
  {
   "cell_type": "markdown",
   "id": "42d3795f",
   "metadata": {},
   "source": [
    "A partir da leitura dos artigos sugeridos e interação com alguns colegas pareceu fazer sentido dar um passa para trás, simplificando a estrutura mas buscando manter ainda o que era pretendido: comer comida quando tiver ao lado, buscar a comida mais próxima quando nçao tiver nenhuma e não morrer para os fantasmas. Tendo em vista esse objetivo a melhor opção pareceu ser mudar para um algoritmo genético e regrar menos o agente"
   ]
  },
  {
   "cell_type": "code",
   "execution_count": 1,
   "id": "8296d680",
   "metadata": {},
   "outputs": [],
   "source": [
    "from pacman2 import runGames,readCommand\n",
    "from game import Agent, Directions\n",
    "from util import manhattanDistance, PriorityQueue\n",
    "import random\n",
    "import statistics\n",
    "import matplotlib.pyplot as plt\n",
    "import operator"
   ]
  },
  {
   "cell_type": "markdown",
   "id": "f962e82c",
   "metadata": {},
   "source": [
    "### Sumário"
   ]
  },
  {
   "cell_type": "markdown",
   "id": "15ad18d3",
   "metadata": {},
   "source": [
    "### Cromossomo"
   ]
  },
  {
   "cell_type": "markdown",
   "id": "f46cb817",
   "metadata": {},
   "source": [
    "A estrutura de cromossomo é bem simples, um array composto por 4 valores que representam\n",
    "as respectivas ações:\n",
    "- Comer comida próxima\n",
    "- Se aproximar da comida\n",
    "- Fantasma próximo\n",
    "- Se aproximar de fantasma\n",
    "\n",
    "Eles são criados a aprtir da função abaixo, que retorna um vetor com 4 valores variando de -10 a 10"
   ]
  },
  {
   "cell_type": "code",
   "execution_count": 2,
   "id": "64363ce2",
   "metadata": {},
   "outputs": [],
   "source": [
    "def create_random_chromossome():\n",
    "    \n",
    "    #array created to stablish the six states that will define the actions:\n",
    "    # - has food\n",
    "    # - get near to food (if not has food in the adjascents)\n",
    "    # - has ghost\n",
    "    # - get away from ghost (if not has ghost in the adjascents)\n",
    "    \n",
    "    chromossome = [random.randrange(-10, 10) for i in range(4)]\n",
    "    \n",
    "    return chromossome"
   ]
  },
  {
   "cell_type": "code",
   "execution_count": 3,
   "id": "913d0d0b",
   "metadata": {},
   "outputs": [
    {
     "data": {
      "text/plain": [
       "[-8, 2, -2, 1]"
      ]
     },
     "execution_count": 3,
     "metadata": {},
     "output_type": "execute_result"
    }
   ],
   "source": [
    "create_random_chromossome()"
   ]
  },
  {
   "cell_type": "markdown",
   "id": "df72d305",
   "metadata": {},
   "source": [
    "### Agente"
   ]
  },
  {
   "cell_type": "markdown",
   "id": "0d3744dd",
   "metadata": {},
   "source": [
    "O agente é uma representação do que é usado pelo jogo, ele é iniciado com um cromosso e quando ele é chamado para a primeira ação ele retorna o numero de comidas no labirinto\n",
    "\n",
    "Ele possui o método tomador de ação (getAction) que pega a possição atual do Pacman e as suas possiveis direções, para cada uma dessas direções é verificado se ele se encaixa em cada uma das situações dos valores do cromossomo, caso ele se encaixe, o valor dessa situação é acrescentado para o \"valor\" da direção, no fim, a direção com o maior valor é a que será tomada\n",
    "\n",
    "Com isso o objetivo é que o pacman desenvolva um valor alto para se aproximar de comida e um valor baixo para se aproximar de fantasmas"
   ]
  },
  {
   "cell_type": "code",
   "execution_count": 4,
   "id": "c937d46a",
   "metadata": {},
   "outputs": [],
   "source": [
    "## Define some rules for the pacman agent\n",
    "\n",
    "class SingleLookAgent(Agent):\n",
    "    \n",
    "    ## Recevies the chromosome, the danger distance from ghosts and initialize de total food of the maze\n",
    "    \n",
    "    def __init__(self, chromo, index=0):\n",
    "        super().__init__(index)\n",
    "        self.chromossome = chromo\n",
    "        self.foodTotal = 0\n",
    "\n",
    "    def getAction(self, state):\n",
    "        if state.getNumFood() > self.foodTotal:\n",
    "            self.foodTotal = state.getNumFood()\n",
    "        \n",
    "        pacman_pos = state.getPacmanPosition()\n",
    "        legalActions = state.getLegalPacmanActions()\n",
    "        directionsValues = {}\n",
    "        \n",
    "        foodAdjascents = False\n",
    "        for i in [-1, 1]:\n",
    "            if state.hasFood(pacman_pos[0]+i, pacman_pos[1]) or state.hasFood(pacman_pos[0], pacman_pos[1]+i):\n",
    "                foodAdjascents = True\n",
    "                break\n",
    "        \n",
    "        for i in legalActions:\n",
    "            directionsValues[i] = 0\n",
    "            if i == \"North\":\n",
    "                position = (pacman_pos[0], pacman_pos[1]+1)\n",
    "            elif i == \"South\":\n",
    "                position = (pacman_pos[0], pacman_pos[1]-1)\n",
    "            elif i == \"West\":\n",
    "                position = (pacman_pos[0]-1, pacman_pos[1])\n",
    "            elif i == \"East\":\n",
    "                position = (pacman_pos[0]+1, pacman_pos[1])\n",
    "            else:\n",
    "                position = (pacman_pos[0], pacman_pos[1])\n",
    "            \n",
    "            #first coeficient\n",
    "            if state.hasFood(position[0], position[1]):\n",
    "                directionsValues[i] += self.chromossome[0]\n",
    "            \n",
    "            #second coeficient\n",
    "            elif not foodAdjascents and len(state.getFood().asList()) > 0:\n",
    "                \n",
    "                currentDistFood = min([manhattanDistance(pacman_pos , j) for j in state.getFood().asList()])\n",
    "                directionDistFood = min([manhattanDistance(position , j) for j in state.getFood().asList()])\n",
    "                \n",
    "                if directionDistFood < currentDistFood:\n",
    "                    directionsValues[i] += self.chromossome[1]\n",
    "            \n",
    "            #third coeficient\n",
    "            if position in state.getGhostPositions():\n",
    "                 directionsValues[i] += self.chromossome[2]\n",
    "            \n",
    "            #fourth coeficient\n",
    "            else:\n",
    "                currentDistGhost = min([manhattanDistance(pacman_pos , j) for j in state.getGhostPositions()])\n",
    "                directionDistGhost = min([manhattanDistance(position , j) for j in state.getGhostPositions()])\n",
    "                \n",
    "                if directionDistGhost < currentDistGhost:\n",
    "                    directionsValues[i] += self.chromossome[3]\n",
    "        \n",
    "        return max(directionsValues.items(), key=operator.itemgetter(1))[0]\n",
    "        \n",
    "            \n",
    "            \n",
    "    "
   ]
  },
  {
   "cell_type": "code",
   "execution_count": 5,
   "id": "5ca364b8",
   "metadata": {
    "tags": []
   },
   "outputs": [
    {
     "name": "stdout",
     "output_type": "stream",
     "text": [
      "[<game.Game object at 0x0000028A819E59D0>]\n"
     ]
    }
   ],
   "source": [
    "\n",
    "agente = SingleLookAgent(create_random_chromossome())\n",
    "args = readCommand(['-q', '--pacman', 'GreedyAgent', '-l', 'smallClassic','-n', '1'])\n",
    "args['pacman'] = agente\n",
    "a = runGames(**args)\n",
    "print(a)\n"
   ]
  },
  {
   "cell_type": "code",
   "execution_count": 6,
   "id": "31a9e806",
   "metadata": {},
   "outputs": [
    {
     "name": "stdout",
     "output_type": "stream",
     "text": [
      "False\n"
     ]
    }
   ],
   "source": [
    "print(a[0].state.isWin())"
   ]
  },
  {
   "cell_type": "markdown",
   "id": "3ff62c3e",
   "metadata": {},
   "source": [
    "### Initiate Random Population"
   ]
  },
  {
   "cell_type": "markdown",
   "id": "c244fa5b",
   "metadata": {},
   "source": [
    "Com essa função é criada uma população aleatória (vetor de cromossomos) de tamanho n"
   ]
  },
  {
   "cell_type": "code",
   "execution_count": 7,
   "id": "1ac31ee1",
   "metadata": {},
   "outputs": [],
   "source": [
    "def randomPopulation(size):\n",
    "    population = []\n",
    "    for i in range(size):\n",
    "        population.append(create_random_chromossome())\n",
    "        \n",
    "    return population"
   ]
  },
  {
   "cell_type": "code",
   "execution_count": 8,
   "id": "5ff2dc21",
   "metadata": {},
   "outputs": [
    {
     "data": {
      "text/plain": [
       "[[1, 7, -7, 9], [5, 3, -8, -8]]"
      ]
     },
     "execution_count": 8,
     "metadata": {},
     "output_type": "execute_result"
    }
   ],
   "source": [
    "randomPopulation(2)"
   ]
  },
  {
   "cell_type": "markdown",
   "id": "62155d1b",
   "metadata": {},
   "source": [
    "### Fitness Function"
   ]
  },
  {
   "cell_type": "markdown",
   "id": "827323ec",
   "metadata": {},
   "source": [
    "Aqui vamos estabelecer como condição de sucesso para os individuos, inicialmente podemos estabelecer como critério de sucesso a vitória para os tabuleiros, e para avaliar a aptidão dos individuos até lá, a pontuação total obtida. Como o score pode flutuar bastante com a ingestão das capsulas e não havia nada de fácil acesso na engine para lidar com a situação dos fantasmas vulneráveis, foi optado por ter como objetivo a vitória no tabuleiro, indiferente do score, dessa forma a nossa aptidão é medida pela quantidade de comidas ingeridas pelo agente\n",
    "\n",
    "Por meio da função abaixo, que recebe o total de comidas no tabuleiro -1 (comida sobre onde o pacman iniciou em cima) e o resultado do jogo, no fim para conseguir as comdias ingeridas é feito total do tabuleiro - número de comidas que sobraram ao final do jogo + 1"
   ]
  },
  {
   "cell_type": "code",
   "execution_count": 9,
   "id": "e588069e",
   "metadata": {},
   "outputs": [],
   "source": [
    "def fitnessFunction(gamesResult, totalFood):\n",
    "    gamesScores = [(totalFood - i.state.getNumFood() + 1) for i in gamesResult]\n",
    "    avgScore = statistics.mean(gamesScores)            \n",
    "    return(avgScore)"
   ]
  },
  {
   "cell_type": "markdown",
   "id": "1f4c0d7a",
   "metadata": {},
   "source": [
    "### Seleção"
   ]
  },
  {
   "cell_type": "markdown",
   "id": "74b4e584",
   "metadata": {},
   "source": [
    "Para seleção aplicaremos o método de roleta, nele quanto maior a aptidão que um individuo conseguiu maior a chance de ser escolhido, mas ele ainda dá espaço para que individuos não tão aptos possam ser escolhidos (algo mais limitado no formato de campeonato), o que é importante para garantir a variabilidade genética\n",
    "\n",
    "Essa função por si só é relativamente simples, ela pega a quantidade de comidas ingeridas para cada e individuo e a soma total dessa quantidade, cria um vetor em que vai marcando o limite de cada individuo nessa soma e por fim sortei aleatoriamente um valor entre 1 e a soma acumulado, e o individuo que tiver nessa marcação será adicionado a um vetor de selecionados"
   ]
  },
  {
   "cell_type": "code",
   "execution_count": 10,
   "id": "c809f024",
   "metadata": {},
   "outputs": [],
   "source": [
    "def selection(layout, population, n, n_games):\n",
    "    selected = []\n",
    "    popScores = []\n",
    "    for i in range(len(population)):\n",
    "        agente =  SingleLookAgent(population[i])\n",
    "        args = readCommand(['-q', '--pacman', 'Agent', '-g', 'DirectionalGhost','-l', layout,'-n', str(n_games)])\n",
    "        args['pacman'] = agente\n",
    "        popScores.append(runGames(**args))\n",
    "    acumulatedScores = []\n",
    "    fitnessScores = [fitnessFunction(i, args['pacman'].foodTotal) for i in popScores]\n",
    "    for i in range(len(popScores)):\n",
    "        if i == 0:\n",
    "            acumulatedScores.append(fitnessFunction(popScores[i], args['pacman'].foodTotal))\n",
    "        else:\n",
    "            acumulatedScores.append(fitnessFunction(popScores[i], args['pacman'].foodTotal)+acumulatedScores[-1])\n",
    "    \n",
    "    totalScore = sum(fitnessScores)\n",
    "    for i in range(n):\n",
    "        rand = random.randrange(1,int(totalScore))\n",
    "        for j in range(0, len(fitnessScores)):\n",
    "            if rand <= acumulatedScores[j]:\n",
    "                selected.append(population[j])\n",
    "                break\n",
    "        \n",
    "    return selected, popScores, fitnessScores"
   ]
  },
  {
   "cell_type": "code",
   "execution_count": 19,
   "id": "e1e082dc",
   "metadata": {},
   "outputs": [
    {
     "name": "stdout",
     "output_type": "stream",
     "text": [
      "[[8, -5, -6, 0], [1, -6, -3, -2], [-9, 9, 3, -2]]\n"
     ]
    },
    {
     "data": {
      "text/plain": [
       "([[8, -5, -6, 0]],\n",
       " [[<game.Game at 0x28aff6fa730>,\n",
       "   <game.Game at 0x28a81ab4880>,\n",
       "   <game.Game at 0x28a81ab4b50>],\n",
       "  [<game.Game at 0x28a81ab4ee0>,\n",
       "   <game.Game at 0x28a81ab4df0>,\n",
       "   <game.Game at 0x28aff6fa8b0>],\n",
       "  [<game.Game at 0x28a81cf7460>,\n",
       "   <game.Game at 0x28a81ce49d0>,\n",
       "   <game.Game at 0x28a81cf7070>]],\n",
       " [7, 18.666666666666668, 1])"
      ]
     },
     "execution_count": 19,
     "metadata": {},
     "output_type": "execute_result"
    }
   ],
   "source": [
    "pop = randomPopulation(3)\n",
    "print(pop)\n",
    "selection('smallClassic',pop,1, 3)"
   ]
  },
  {
   "cell_type": "markdown",
   "id": "c7b6e100",
   "metadata": {},
   "source": [
    "### Crossover"
   ]
  },
  {
   "cell_type": "markdown",
   "id": "b1b75e5e",
   "metadata": {},
   "source": [
    "No crossover é onde vamos utilizar os individuos selecionados anteriormente, essa função vai receber os pais (individuos selecionados), a taxa de crossover (quantos % da nova geração será por crossover) e o tamanho da nova geração. A % que não se encaixar como crossover vai ser apenas uma duplicação dos pais.\n",
    "\n",
    "Para realizar o crossover são selecionados dois cromossomos pais aleatoriamente, depois são selecionadas dois indices de sepração, o primeiro entre 0 e 2, e o segundo entre o primeiro e 3. Dessa forma o novo cromossomo vai ser formado por três segmentos, o primeiro e o terceiro vindo do primeiro pai (menor ou igual ao primeiro indice e maior que o segundo indice), e o segundo do segundo pai (entre o primeiro e segundo indice)"
   ]
  },
  {
   "cell_type": "code",
   "execution_count": 22,
   "id": "2bef5c8b",
   "metadata": {},
   "outputs": [],
   "source": [
    "def reproduction(parents, rate, newGenSize):\n",
    "    newGen = []   \n",
    "    for j in range(int(rate*newGenSize)//1):\n",
    "        \n",
    "        \n",
    "        p1 = random.randrange(len(parents))\n",
    "        p2 = p1\n",
    "        while p2 == p1:\n",
    "            p2 = random.randrange(len(parents))\n",
    "        \n",
    "        parent1 = parents[p1]\n",
    "        parent2 = parents[p2]\n",
    "        \n",
    "        sep1 = random.randrange(0, 2)\n",
    "        sep2 = random.randrange(sep1+1, 3)\n",
    "        \n",
    "        \n",
    "        new_gene = create_random_chromossome()\n",
    "        \n",
    "        for i in range(4):\n",
    "            if i <= sep1:\n",
    "                new_gene[i] = parent1[i]\n",
    "            elif i > sep1 and i <= sep2:\n",
    "                new_gene[i] = parent2[i]\n",
    "            else:\n",
    "                new_gene[i] = parent1[i]\n",
    "        \n",
    "        newGen.append(new_gene)\n",
    "    \n",
    "    \n",
    "    for i in range(newGenSize - int((rate*newGenSize)//1)):\n",
    "        newGen.append(parents[random.randrange(len(parents))])\n",
    "    \n",
    "    return newGen\n",
    "    "
   ]
  },
  {
   "cell_type": "code",
   "execution_count": 23,
   "id": "af3352b9",
   "metadata": {},
   "outputs": [
    {
     "name": "stdout",
     "output_type": "stream",
     "text": [
      "[[8, 6, -8, 2], [2, -9, 5, 0]]\n",
      "\n",
      "\n",
      "[[8, -9, -8, 2], [2, -9, -8, 0]]\n"
     ]
    }
   ],
   "source": [
    "example = randomPopulation(2)\n",
    "print(example)\n",
    "print()\n",
    "print()\n",
    "print(reproduction(example, 1, 2))"
   ]
  },
  {
   "cell_type": "markdown",
   "id": "af3f72fe",
   "metadata": {},
   "source": [
    "### Mutação"
   ]
  },
  {
   "cell_type": "markdown",
   "id": "459540a7",
   "metadata": {},
   "source": [
    "A mutação é um elemento que vai nos garantir também a variabilidade genética entre os membros da nova geração, essa função recebe a população da nova geração e a taxa de mutabilidade\n",
    "\n",
    "A mutação é feita por um simples swap dentro de um cromossomo, trocando de valor os arrays de prioridades de ação. Isso será feito para a % da população passada pela taxa."
   ]
  },
  {
   "cell_type": "code",
   "execution_count": 24,
   "id": "f620e349",
   "metadata": {
    "tags": []
   },
   "outputs": [],
   "source": [
    "def mutation(population, rate):\n",
    "    \n",
    "    population_len = [i for i in range(len(population))]\n",
    "    mutated = random.sample(population_len, int((rate * len(population))// 1))\n",
    "    \n",
    "    \n",
    "    for i in mutated:\n",
    "        mut_1 = random.randrange(4)\n",
    "        mut_2 = mut_1\n",
    "        while mut_1 == mut_2:\n",
    "            mut_2 = random.randrange(4)\n",
    "        saved = population[i][mut_1]\n",
    "        population[i][mut_1] = population[i][mut_2]\n",
    "        population[i][mut_2] = saved\n",
    "\n",
    "    return population \n",
    "        \n",
    "        "
   ]
  },
  {
   "cell_type": "code",
   "execution_count": 25,
   "id": "6ee782e4",
   "metadata": {},
   "outputs": [
    {
     "name": "stdout",
     "output_type": "stream",
     "text": [
      "[[-2, -4, -6, 2], [0, 9, 3, -10], [-2, -2, 2, -8]]\n",
      "[[-2, -4, -6, 2], [0, 9, 3, -10], [-2, -8, 2, -2]]\n"
     ]
    }
   ],
   "source": [
    "example = randomPopulation(3)\n",
    "print(example)\n",
    "print(mutation(example,0.5))"
   ]
  },
  {
   "cell_type": "markdown",
   "id": "e3cf0874",
   "metadata": {},
   "source": [
    "### Treinamento"
   ]
  },
  {
   "cell_type": "markdown",
   "id": "a78c3962",
   "metadata": {},
   "source": []
  },
  {
   "cell_type": "code",
   "execution_count": 16,
   "id": "3957c989",
   "metadata": {},
   "outputs": [],
   "source": [
    "def train(layout, maxGen=1, populationSize=1, selectionSize=1, newGenSize=1,  mutationRate=0.05, \n",
    "          crossoverRate=1, n_games=1):\n",
    "    avgFitnessScores = []\n",
    "    maxFitnessScores = []\n",
    "    avgPacmanScores = []\n",
    "    population = randomPopulation(populationSize)\n",
    "    for i in range(maxGen):\n",
    "        pacmanScores = []\n",
    "        newPopulation = []\n",
    "        parents, gamesResult, scores = selection(layout, population, selectionSize, n_games)\n",
    "        newGen = reproduction(parents, crossoverRate, newGenSize)\n",
    "        cutOffScore = sorted(scores)[populationSize-newGenSize]\n",
    "        for i in range(populationSize):\n",
    "            if scores[i] < cutOffScore:\n",
    "                newGene = newGen.pop()\n",
    "                newPopulation.append(newGene)\n",
    "            else:\n",
    "                newPopulation.append(population[i])\n",
    "        for g in gamesResult:\n",
    "            for j in g:\n",
    "                pacmanScores.append(j.state.getScore())\n",
    "        maxFitnessScores.append(max(scores))\n",
    "        avgFitnessScores.append(statistics.mean(scores))\n",
    "        avgPacmanScores.append(statistics.mean(pacmanScores))\n",
    "        population = mutation(newPopulation, mutationRate)\n",
    "        \n",
    "    \n",
    "    best_ind = population[scores.index(max(scores))]\n",
    "    f, axarr = plt.subplots(1,3)\n",
    "    axarr[0].plot(avgFitnessScores)\n",
    "    #axarr[0].set_xscale('log')\n",
    "    axarr[1].plot(maxFitnessScores)\n",
    "    #axarr[1].set_xscale('log')\n",
    "    axarr[2].plot(avgPacmanScores)\n",
    "    #axarr[2].set_xscale('log')\n",
    "    f.set_size_inches(18, 5)\n",
    "    plt.show()    \n",
    "        \n",
    "    print(f\"Best Score Gen {i}: {max(scores)}\")\n",
    "    return population, best_ind\n",
    "                "
   ]
  },
  {
   "cell_type": "code",
   "execution_count": 17,
   "id": "47a139e4",
   "metadata": {},
   "outputs": [
    {
     "data": {
      "image/png": "[encoded data removed]",
      "text/plain": [
       "<Figure size 1296x360 with 3 Axes>"
      ]
     },
     "metadata": {
      "needs_background": "light"
     },
     "output_type": "display_data"
    },
    {
     "name": "stdout",
     "output_type": "stream",
     "text": [
      "Best Score Gen 19: 22\n"
     ]
    }
   ],
   "source": [
    "pop, best_ind = train('smallClassic',maxGen=30000, populationSize=20, selectionSize=3, newGenSize=18)"
   ]
  },
  {
   "cell_type": "code",
   "execution_count": 18,
   "id": "0b29d7a4",
   "metadata": {},
   "outputs": [
    {
     "data": {
      "text/plain": [
       "[<game.Game at 0x28a81a139a0>]"
      ]
     },
     "execution_count": 18,
     "metadata": {},
     "output_type": "execute_result"
    }
   ],
   "source": [
    "#graphic show\n",
    "best_agent = SingleLookAgent(best_ind)\n",
    "args = readCommand(['--pacman', 'GreedyAgent','-l', 'smallClassic','-n', '1'])\n",
    "args['pacman'] = best_agent\n",
    "runGames(**args)"
   ]
  },
  {
   "cell_type": "markdown",
   "id": "140a8d94",
   "metadata": {},
   "source": [
    "### Treinamento -  Small Classic"
   ]
  },
  {
   "cell_type": "markdown",
   "id": "588113b5",
   "metadata": {},
   "source": [
    "Primeiramente vamos fazer o treinamento para o labirinto pequeno, incialmente vamos ver o comprotamento para 100 gerações para cada um dos métodos de  replacement"
   ]
  },
  {
   "cell_type": "markdown",
   "id": "362ab91a",
   "metadata": {},
   "source": [
    "### Treinamento -  Medium Classic"
   ]
  },
  {
   "cell_type": "markdown",
   "id": "da449152",
   "metadata": {},
   "source": [
    "### Treinamento -  Original Classic"
   ]
  },
  {
   "cell_type": "markdown",
   "id": "049dff2c",
   "metadata": {},
   "source": [
    "### Avaliação Genetic Programming"
   ]
  },
  {
   "cell_type": "code",
   "execution_count": null,
   "id": "d0994698",
   "metadata": {},
   "outputs": [],
   "source": []
  },
  {
   "cell_type": "markdown",
   "id": "291d6eb9",
   "metadata": {},
   "source": [
    "#### "
   ]
  }
 ],
 "metadata": {
  "kernelspec": {
   "display_name": "Python 3",
   "language": "python",
   "name": "python3"
  },
  "language_info": {
   "codemirror_mode": {
    "name": "ipython",
    "version": 3
   },
   "file_extension": ".py",
   "mimetype": "text/x-python",
   "name": "python",
   "nbconvert_exporter": "python",
   "pygments_lexer": "ipython3",
   "version": "3.8.8"
  }
 },
 "nbformat": 4,
 "nbformat_minor": 5
}
