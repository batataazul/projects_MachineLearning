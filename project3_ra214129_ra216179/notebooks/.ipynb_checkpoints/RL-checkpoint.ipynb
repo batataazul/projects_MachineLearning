{
 "cells": [
  {
   "cell_type": "code",
   "execution_count": 1,
   "metadata": {},
   "outputs": [
    {
     "name": "stdout",
     "output_type": "stream",
     "text": [
      "C:\\Users\\Gabriel de Freitas\\OneDrive\\Documentos\\Tarefas\\Universidade\\MC886\\projects_MachineLearning\\project3_ra214129_ra216179\\search\\search\n"
     ]
    }
   ],
   "source": [
    "%cd ../search/search\n",
    "#! python pacman.py --layout originalClassic"
   ]
  },
  {
   "cell_type": "code",
   "execution_count": 2,
   "metadata": {},
   "outputs": [],
   "source": [
    "from pacman import runGames, readCommand\n",
    "from game import Agent, Directions\n",
    "import numpy as np"
   ]
  },
  {
   "cell_type": "code",
   "execution_count": 9,
   "metadata": {},
   "outputs": [],
   "source": [
    "def getDistance(pacman,ghost):\n",
    "    pX = pacman[0]\n",
    "    pY = pacman[1]\n",
    "    gx = ghost[0]\n",
    "    gy = ghost[1]\n",
    "    vector = [gx-px,gy-py]\n",
    "    return np.linalg.norm(vector)"
   ]
  },
  {
   "cell_type": "code",
   "execution_count": 10,
   "metadata": {},
   "outputs": [],
   "source": [
    "class Qlearn(Agent):\n",
    "    \n",
    "    def __init__(self, alpha,gamma,Qtable = {}):\n",
    "        self.Qtable = Qtable\n",
    "        self.alpha = alpha\n",
    "        self.gamma = gamma\n",
    "        self.score = 0\n",
    "    \n",
    "    def getQvalue(self,state,action):\n",
    "        pair = (state,action)\n",
    "        return self.Qtable.get(pair,0.0)\n",
    "    \n",
    "    def getAction(self, state):\n",
    "        actions = state.getLegalPacmanActions()\n",
    "        currentState = {\n",
    "            \"position\" : state.getPacmanPosition() ,\n",
    "            \"food\" : state.getNumFood() + len(state.getCapsules) ,\n",
    "            \"nearestGhost\" : self.nearestGhostPos(state)\n",
    "        }\n",
    "        reinforcement = state.getScore() - self.score\n",
    "        \n",
    "        \n",
    "        \n",
    "        def nearestGhostPos(self,state):\n",
    "            ghostList = state.getGhostPositions()\n",
    "            nearestDistance = self.getNearGhost(state.getPacmanPosition(),ghostList)\n",
    "            return nearestDistance\n",
    "        \n",
    "        def getNearGhost(self,pacman,ghosts):\n",
    "            minDis = float(\"inf\")\n",
    "            minPos = -1\n",
    "            for i in range(len(ghosts)):\n",
    "                distance = getDistance(pacman,ghosts[i])\n",
    "                if distance < minDis:\n",
    "                    minDis = distance\n",
    "                    minPos = i\n",
    "            if minPos > -1:\n",
    "                return ghosts[minPos]\n",
    "            else:\n",
    "                return (-1,-1)"
   ]
  },
  {
   "cell_type": "code",
   "execution_count": 26,
   "metadata": {},
   "outputs": [
    {
     "name": "stdout",
     "output_type": "stream",
     "text": [
      "Batata\n",
      "['-q', '--pacman', 'LeftTurnAgent']\n"
     ]
    }
   ],
   "source": [
    "agente = Qlearn()\n",
    "args = readCommand(['-q', '--pacman', 'LeftTurnAgent'])\n",
    "args[\"pacman\"] = agente"
   ]
  },
  {
   "cell_type": "code",
   "execution_count": 27,
   "metadata": {},
   "outputs": [
    {
     "name": "stdout",
     "output_type": "stream",
     "text": [
      "Pacman died! Score: 595\n",
      "Average Score: 595.0\n",
      "Scores:        595.0\n",
      "Win Rate:      0/1 (0.00)\n",
      "Record:        Loss\n",
      "[<game.Game object at 0x00000253FCAD38C8>]\n"
     ]
    }
   ],
   "source": [
    "a = runGames(**args)\n",
    "print(a)"
   ]
  },
  {
   "cell_type": "code",
   "execution_count": 28,
   "metadata": {},
   "outputs": [
    {
     "name": "stdout",
     "output_type": "stream",
     "text": [
      "False\n"
     ]
    }
   ],
   "source": [
    "print(a[0].state.isWin())"
   ]
  },
  {
   "cell_type": "code",
   "execution_count": 7,
   "metadata": {},
   "outputs": [
    {
     "name": "stdout",
     "output_type": "stream",
     "text": [
      "1.0\n"
     ]
    }
   ],
   "source": [
    "vector = [0-0,1-0]\n",
    "print(np.linalg.norm(vector))"
   ]
  }
 ],
 "metadata": {
  "interpreter": {
   "hash": "4a33e6643d3d266930a9315102c951dbbb0201b743375bf7e85bc0f4d5308486"
  },
  "kernelspec": {
   "display_name": "Python 3",
   "language": "python",
   "name": "python3"
  },
  "language_info": {
   "codemirror_mode": {
    "name": "ipython",
    "version": 3
   },
   "file_extension": ".py",
   "mimetype": "text/x-python",
   "name": "python",
   "nbconvert_exporter": "python",
   "pygments_lexer": "ipython3",
   "version": "3.7.4"
  }
 },
 "nbformat": 4,
 "nbformat_minor": 4
}
