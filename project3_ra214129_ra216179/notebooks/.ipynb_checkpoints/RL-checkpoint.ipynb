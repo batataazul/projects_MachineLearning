{
 "cells": [
  {
   "cell_type": "code",
   "execution_count": 16,
   "metadata": {},
   "outputs": [
    {
     "name": "stdout",
     "output_type": "stream",
     "text": [
      "layout:  mediumClassic\n",
      "layout:  mediumClassic\n",
      "layout:  mediumClassic\n",
      "layout:  mediumClassic\n"
     ]
    },
    {
     "name": "stderr",
     "output_type": "stream",
     "text": [
      "Traceback (most recent call last):\n",
      "  File \"../search/pacman.py\", line 679, in <module>\n",
      "    args = readCommand( sys.argv[1:] ) # Get game components based on input\n",
      "  File \"../search/pacman.py\", line 537, in readCommand\n",
      "    if args['layout'] == None: raise Exception(\"The layout \" + options.layout + \" cannot be found\")\n",
      "Exception: The layout mediumClassic cannot be found\n"
     ]
    }
   ],
   "source": [
    "! python ../search/pacman.py"
   ]
  },
  {
   "cell_type": "code",
   "execution_count": null,
   "metadata": {},
   "outputs": [],
   "source": []
  }
 ],
 "metadata": {
  "kernelspec": {
   "display_name": "Python 3",
   "language": "python",
   "name": "python3"
  },
  "language_info": {
   "codemirror_mode": {
    "name": "ipython",
    "version": 3
   },
   "file_extension": ".py",
   "mimetype": "text/x-python",
   "name": "python",
   "nbconvert_exporter": "python",
   "pygments_lexer": "ipython3",
   "version": "3.7.4"
  }
 },
 "nbformat": 4,
 "nbformat_minor": 4
}
