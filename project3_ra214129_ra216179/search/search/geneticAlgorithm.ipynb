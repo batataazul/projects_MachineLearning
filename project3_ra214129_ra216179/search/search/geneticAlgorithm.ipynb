{
 "cells": [
  {
   "cell_type": "code",
   "execution_count": 3,
   "metadata": {},
   "outputs": [],
   "source": [
    "from pacman import runGames, readCommand"
   ]
  },
  {
   "cell_type": "code",
   "execution_count": 6,
   "metadata": {},
   "outputs": [
    {
     "name": "stdout",
     "output_type": "stream",
     "text": [
      "Pacman died! Score: 171\n",
      "Average Score: 171.0\n",
      "Scores:        171.0\n",
      "Win Rate:      0/1 (0.00)\n",
      "Record:        Loss\n",
      "[<game.Game object at 0x000001B0908C4340>]\n"
     ]
    }
   ],
   "source": [
    "a = runGames(**readCommand(['-q', '--pacman', 'LeftTurnAgent']))\n",
    "print(a)"
   ]
  },
  {
   "cell_type": "code",
   "execution_count": null,
   "metadata": {},
   "outputs": [],
   "source": []
  }
 ],
 "metadata": {
  "kernelspec": {
   "display_name": "Python 3",
   "language": "python",
   "name": "python3"
  },
  "language_info": {
   "codemirror_mode": {
    "name": "ipython",
    "version": 3
   },
   "file_extension": ".py",
   "mimetype": "text/x-python",
   "name": "python",
   "nbconvert_exporter": "python",
   "pygments_lexer": "ipython3",
   "version": "3.7.4"
  }
 },
 "nbformat": 4,
 "nbformat_minor": 5
}
