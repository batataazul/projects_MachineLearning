{
 "cells": [
  {
   "cell_type": "markdown",
   "id": "acute-eleven",
   "metadata": {},
   "source": [
    "## Grupo\n",
    "Nomes: Camila Moraes Brito, Gabriel de Freitas Garcia  \n",
    "Ra: , 216179"
   ]
  },
  {
   "cell_type": "code",
   "execution_count": 1,
   "id": "indian-fabric",
   "metadata": {},
   "outputs": [],
   "source": [
    "import pandas as pd\n",
    "import matplotlib.pyplot as plt\n",
    "import numpy as np\n",
    "import math\n",
    "import json\n",
    "import random"
   ]
  },
  {
   "cell_type": "code",
   "execution_count": 4,
   "id": "accessory-angle",
   "metadata": {},
   "outputs": [],
   "source": [
    "try:\n",
    "    f = open(\"../data/cluster.dat\")\n",
    "except:\n",
    "    print(\"Houston we've got a problem\")\n",
    "dataset = []\n",
    "testset = []\n",
    "random.seed(7)\n",
    "for i in f:\n",
    "    rVar = random.randint(1,10)\n",
    "    stringList = i.split()\n",
    "    try:\n",
    "        dicti = {\n",
    "            \"x\" : float(stringList[0]),\n",
    "            \"y\" : float(stringList[1]),\n",
    "            \"cluster\" : -1\n",
    "        }\n",
    "    except ValueError:\n",
    "        print(\"You had a Value Error\")\n",
    "        break\n",
    "    except:\n",
    "        print(\"You got another Error\")\n",
    "        break\n",
    "    if(rVar == 5):\n",
    "        testset.append(dicti)\n",
    "    else:\n",
    "        dataset.append(dicti)\n",
    "f.close()"
   ]
  },
  {
   "cell_type": "code",
   "execution_count": 6,
   "id": "excellent-fluid",
   "metadata": {},
   "outputs": [],
   "source": [
    "exporting = json.dumps(dataset,indent = 4)\n",
    "exporting2 = json.dumps(testset,indent = 4)\n",
    "try:\n",
    "    f = open(\"../data/teacherData.json\",\"w\")\n",
    "    f.write(exporting)\n",
    "    f.close()\n",
    "    f = open(\"../data/testSet1.json\",\"w\")\n",
    "    f.write(exporting2)\n",
    "    f.close()\n",
    "except:\n",
    "    print(\"Something went wrong\")"
   ]
  }
 ],
 "metadata": {
  "kernelspec": {
   "display_name": "Python 3",
   "language": "python",
   "name": "python3"
  },
  "language_info": {
   "codemirror_mode": {
    "name": "ipython",
    "version": 3
   },
   "file_extension": ".py",
   "mimetype": "text/x-python",
   "name": "python",
   "nbconvert_exporter": "python",
   "pygments_lexer": "ipython3",
   "version": "3.8.3"
  }
 },
 "nbformat": 4,
 "nbformat_minor": 5
}
