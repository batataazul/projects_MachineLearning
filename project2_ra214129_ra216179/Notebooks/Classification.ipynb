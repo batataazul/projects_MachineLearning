{
 "cells": [
  {
   "cell_type": "markdown",
   "metadata": {},
   "source": [
    "# Projeto 2 - Parte II -  Classificação"
   ]
  },
  {
   "cell_type": "markdown",
   "metadata": {},
   "source": [
    "Esse notebook tem como objetivo explorar os algoritmos de aprendizado supervisionado para a classificação em cima do dataset Pen-Based Recognition of Handwritten Digits Data Set. \n"
   ]
  },
  {
   "cell_type": "markdown",
   "metadata": {},
   "source": [
    "O andamento dessa parte do projeto vai seguir de acordo com as seguintes seções:\n",
    "* [Load dataset](#title1)\n",
    "* [Data split](#title2)\n",
    "* [Pre-processing](#title3)\n",
    "* [Vizualization](#title4)\n",
    "* [Training Logistic Regression Multiclass](#title5)\n",
    "* [Training OneVsOne Classifier](#title6)\n",
    "* [Evaluation Logistic Regression Multiclass](#title7)\n",
    "* [Evaluation OneVsOne Classifier](#title8)\n",
    "* [Test Logistic Regression Multiclass](#title9)\n",
    "* [Test OneVsOne Classifier](#title10)"
   ]
  },
  {
   "cell_type": "markdown",
   "metadata": {},
   "source": [
    "### Load Dataset <a name=\"title1\" />"
   ]
  },
  {
   "cell_type": "markdown",
   "metadata": {},
   "source": [
    "Primeiramente vamos importar as bibliotecas importantes para essa parte do trabalho"
   ]
  },
  {
   "cell_type": "code",
   "execution_count": 1,
   "metadata": {},
   "outputs": [],
   "source": [
    "import sklearn\n",
    "import pandas as pd\n",
    "import numpy as np\n",
    "from sklearn.model_selection import train_test_split, KFold\n",
    "from sklearn.datasets import load_digits"
   ]
  },
  {
   "cell_type": "markdown",
   "metadata": {},
   "source": [
    "Em seguida, iremos carregar o nosso dataset e viualizar algumas informações básicas sobre ele, como o seu formato e suas colunas"
   ]
  },
  {
   "cell_type": "code",
   "execution_count": 2,
   "metadata": {},
   "outputs": [],
   "source": [
    "digits = load_digits()\n",
    "data = pd.DataFrame(data= np.c_[digits['data'], digits['target']],\n",
    "                     columns= digits['feature_names'] + ['target'])"
   ]
  },
  {
   "cell_type": "code",
   "execution_count": 3,
   "metadata": {},
   "outputs": [
    {
     "name": "stdout",
     "output_type": "stream",
     "text": [
      "Shape (1797, 65)\n"
     ]
    }
   ],
   "source": [
    "print(\"Shape\", data.shape)"
   ]
  },
  {
   "cell_type": "code",
   "execution_count": 4,
   "metadata": {},
   "outputs": [
    {
     "data": {
      "text/plain": [
       "Index(['pixel_0_0', 'pixel_0_1', 'pixel_0_2', 'pixel_0_3', 'pixel_0_4',\n",
       "       'pixel_0_5', 'pixel_0_6', 'pixel_0_7', 'pixel_1_0', 'pixel_1_1',\n",
       "       'pixel_1_2', 'pixel_1_3', 'pixel_1_4', 'pixel_1_5', 'pixel_1_6',\n",
       "       'pixel_1_7', 'pixel_2_0', 'pixel_2_1', 'pixel_2_2', 'pixel_2_3',\n",
       "       'pixel_2_4', 'pixel_2_5', 'pixel_2_6', 'pixel_2_7', 'pixel_3_0',\n",
       "       'pixel_3_1', 'pixel_3_2', 'pixel_3_3', 'pixel_3_4', 'pixel_3_5',\n",
       "       'pixel_3_6', 'pixel_3_7', 'pixel_4_0', 'pixel_4_1', 'pixel_4_2',\n",
       "       'pixel_4_3', 'pixel_4_4', 'pixel_4_5', 'pixel_4_6', 'pixel_4_7',\n",
       "       'pixel_5_0', 'pixel_5_1', 'pixel_5_2', 'pixel_5_3', 'pixel_5_4',\n",
       "       'pixel_5_5', 'pixel_5_6', 'pixel_5_7', 'pixel_6_0', 'pixel_6_1',\n",
       "       'pixel_6_2', 'pixel_6_3', 'pixel_6_4', 'pixel_6_5', 'pixel_6_6',\n",
       "       'pixel_6_7', 'pixel_7_0', 'pixel_7_1', 'pixel_7_2', 'pixel_7_3',\n",
       "       'pixel_7_4', 'pixel_7_5', 'pixel_7_6', 'pixel_7_7', 'target'],\n",
       "      dtype='object')"
      ]
     },
     "execution_count": 4,
     "metadata": {},
     "output_type": "execute_result"
    }
   ],
   "source": [
    "data.columns"
   ]
  },
  {
   "cell_type": "code",
   "execution_count": 5,
   "metadata": {},
   "outputs": [
    {
     "name": "stdout",
     "output_type": "stream",
     "text": [
      "First line\n"
     ]
    },
    {
     "data": {
      "text/plain": [
       "pixel_0_0     0.0\n",
       "pixel_0_1     0.0\n",
       "pixel_0_2     5.0\n",
       "pixel_0_3    13.0\n",
       "pixel_0_4     9.0\n",
       "             ... \n",
       "pixel_7_4    10.0\n",
       "pixel_7_5     0.0\n",
       "pixel_7_6     0.0\n",
       "pixel_7_7     0.0\n",
       "target        0.0\n",
       "Name: 0, Length: 65, dtype: float64"
      ]
     },
     "execution_count": 5,
     "metadata": {},
     "output_type": "execute_result"
    }
   ],
   "source": [
    "print(\"First line\")\n",
    "data.iloc[0]"
   ]
  },
  {
   "cell_type": "markdown",
   "metadata": {},
   "source": [
    "Uma informação muito importante é entendermos a distibuição de classes no dataset que como podemos ver abaixo é bem próxima para todas elas"
   ]
  },
  {
   "cell_type": "code",
   "execution_count": 6,
   "metadata": {},
   "outputs": [
    {
     "data": {
      "text/plain": [
       "<AxesSubplot:>"
      ]
     },
     "execution_count": 6,
     "metadata": {},
     "output_type": "execute_result"
    },
    {
     "data": {
      "image/png": "[encoded data removed]",
      "text/plain": [
       "<Figure size 432x288 with 1 Axes>"
      ]
     },
     "metadata": {
      "needs_background": "light"
     },
     "output_type": "display_data"
    }
   ],
   "source": [
    "data['target'].hist()"
   ]
  },
  {
   "cell_type": "markdown",
   "metadata": {},
   "source": [
    "Como podemos ver o nosso dataset apresenta classes relativamente bem balanceadas, dessa forma não será performado nada que busque equilibra-las"
   ]
  },
  {
   "cell_type": "markdown",
   "metadata": {},
   "source": [
    "### Data Split <a name=\"title2\" />"
   ]
  },
  {
   "cell_type": "markdown",
   "metadata": {},
   "source": [
    "Agora vamos divir nossos dados para treino e teste seguindo a proporção de 90/10, usando a biblioteca train_test_split com random_state fixado, sendo que esses 10% de teste só serão usados no final para avalair o desempenho dos modelos. Sendo assim, como resultado de nossa divisão temos a seguinte separação:"
   ]
  },
  {
   "cell_type": "code",
   "execution_count": 7,
   "metadata": {},
   "outputs": [
    {
     "name": "stdout",
     "output_type": "stream",
     "text": [
      "Train shape (1617, 65)\n",
      "Test shape (180, 65)\n"
     ]
    }
   ],
   "source": [
    "train, test = train_test_split(data, test_size=0.1,  random_state=1)\n",
    "print(\"Train shape\", train.shape)\n",
    "print(\"Test shape\", test.shape)"
   ]
  },
  {
   "cell_type": "markdown",
   "metadata": {},
   "source": [
    "Abaixo nota-se a proporção de classes entre treino e teste, a de treino parece relativamente balanceada, mas a de teste, pela menor quantia, fica mais evidente a discrêpancia entre as classes presentes"
   ]
  },
  {
   "cell_type": "code",
   "execution_count": 8,
   "metadata": {},
   "outputs": [
    {
     "data": {
      "text/plain": [
       "<AxesSubplot:>"
      ]
     },
     "execution_count": 8,
     "metadata": {},
     "output_type": "execute_result"
    },
    {
     "data": {
      "image/png": "[encoded data removed]",
      "text/plain": [
       "<Figure size 432x288 with 1 Axes>"
      ]
     },
     "metadata": {
      "needs_background": "light"
     },
     "output_type": "display_data"
    }
   ],
   "source": [
    "train['target'].hist()"
   ]
  },
  {
   "cell_type": "code",
   "execution_count": 9,
   "metadata": {},
   "outputs": [
    {
     "data": {
      "text/plain": [
       "<AxesSubplot:>"
      ]
     },
     "execution_count": 9,
     "metadata": {},
     "output_type": "execute_result"
    },
    {
     "data": {
      "image/png": "[encoded data removed]",
      "text/plain": [
       "<Figure size 432x288 with 1 Axes>"
      ]
     },
     "metadata": {
      "needs_background": "light"
     },
     "output_type": "display_data"
    }
   ],
   "source": [
    "test['target'].hist()"
   ]
  },
  {
   "cell_type": "code",
   "execution_count": 10,
   "metadata": {},
   "outputs": [
    {
     "name": "stdout",
     "output_type": "stream",
     "text": [
      "Train dimensiom: (1617, 64) (1617,)\n",
      "Test dimensiom: (180, 64) (180,)\n"
     ]
    }
   ],
   "source": [
    "x_train = train.loc[:, train.columns != 'target']\n",
    "y_train = train['target']\n",
    "x_test = test.loc[:, test.columns != 'target']\n",
    "y_test = test['target']\n",
    "print(\"Train dimensiom:\", x_train.shape, y_train.shape)\n",
    "print(\"Test dimensiom:\", x_test.shape, y_test.shape)"
   ]
  },
  {
   "cell_type": "markdown",
   "metadata": {},
   "source": [
    "Para o treino com validação será usado a estratégia de KFold, com 4 folds, sendo assim, o set de treino será dividido em 4 grupos que se revezarão sequencialmente para servir de validação para o modelo, dessa forma todos os dados do treino em algum momento vão ser usados para validação"
   ]
  },
  {
   "cell_type": "code",
   "execution_count": 11,
   "metadata": {},
   "outputs": [
    {
     "name": "stdout",
     "output_type": "stream",
     "text": [
      "KFold(n_splits=4, random_state=11, shuffle=True)\n"
     ]
    },
    {
     "data": {
      "text/plain": [
       "4"
      ]
     },
     "execution_count": 11,
     "metadata": {},
     "output_type": "execute_result"
    }
   ],
   "source": [
    "kf = KFold(n_splits=4, shuffle=True, random_state= 11)\n",
    "print(kf)\n",
    "kf.get_n_splits(train)"
   ]
  },
  {
   "cell_type": "markdown",
   "metadata": {},
   "source": [
    "### Pre-processing <a name=\"title3\" />"
   ]
  },
  {
   "cell_type": "markdown",
   "metadata": {},
   "source": [
    "Aqui será feita a normalização das features, foi usada a normalização l2, que leva em consideração a distância euclidiana, a opção foi escolhida por ter sido visto, em alto nível, que essa regularização favorece a um resultado único."
   ]
  },
  {
   "cell_type": "code",
   "execution_count": 12,
   "metadata": {},
   "outputs": [
    {
     "name": "stdout",
     "output_type": "stream",
     "text": [
      "0.3183488677277356 0.0\n",
      "0.32031106631923656 0.0\n"
     ]
    }
   ],
   "source": [
    "from sklearn.preprocessing import normalize\n",
    "x_train = normalize(x_train, norm = \"l2\")\n",
    "print(x_train.max(), x_train.min())\n",
    "x_test = normalize(x_test, norm = \"l2\")\n",
    "print(x_test.max(), x_test.min())"
   ]
  },
  {
   "cell_type": "markdown",
   "metadata": {},
   "source": [
    "### Vizualization <a name=\"title4\" />"
   ]
  },
  {
   "cell_type": "markdown",
   "metadata": {},
   "source": [
    "Para mostrar uma vizualização bidimensional de como se comporta a separação entre as classes foi usada a técnica TSNE, que consite em uma redução dimensional capaz de achar conexões não lineares, pela probabilidade de distribuição de vizinhos ao redor de cada ponto (pessoalmente achei bem confuso sobre, acharia interessante se fosso compartilhado mais material sobre =)\n",
    "\n",
    "Como é possível ver abaixo parece haver alguns outliars de algumas classes mas o número 9 em especial se destaca por aparece em diversos pontos distintos da figura\n",
    "\n",
    "Sobre o TSNE, tive como a melhor fonte para compreender esse artigo: https://towardsdatascience.com/t-sne-clearly-explained-d84c537f53a"
   ]
  },
  {
   "cell_type": "code",
   "execution_count": 13,
   "metadata": {},
   "outputs": [
    {
     "data": {
      "text/plain": [
       "(1617, 2)"
      ]
     },
     "execution_count": 13,
     "metadata": {},
     "output_type": "execute_result"
    }
   ],
   "source": [
    "from sklearn.manifold import TSNE\n",
    "train_embedded = TSNE(n_components=2, random_state=11).fit_transform(x_train)\n",
    "train_embedded.shape"
   ]
  },
  {
   "cell_type": "code",
   "execution_count": 14,
   "metadata": {},
   "outputs": [
    {
     "data": {
      "image/png": "[encoded data removed]",
      "text/plain": [
       "<Figure size 432x288 with 1 Axes>"
      ]
     },
     "metadata": {
      "needs_background": "light"
     },
     "output_type": "display_data"
    }
   ],
   "source": [
    "import matplotlib.pyplot as plt\n",
    "colors = [\"red\", \"green\", \"yellow\", \"brown\", \"black\", \"purple\", \"orange\", \"gray\", \"pink\", \"blue\"]\n",
    "color_by_target = []\n",
    "fig, ax = plt.subplots()\n",
    "for i in range(10):\n",
    "    color_i = []\n",
    "    for j in range(1617):\n",
    "        if list(y_train)[j] == i:\n",
    "            color_i.append(train_embedded[j])\n",
    "    color_by_target.append(color_i)\n",
    "for i in range(10):\n",
    "    for j in range(len(color_by_target[i])):\n",
    "        if j == 0:\n",
    "            ax.scatter(color_by_target[i][j][0] , color_by_target[i][j][1] , color = colors[i], alpha=0.7, label=str(i))\n",
    "        else:\n",
    "            ax.scatter(color_by_target[i][j][0] , color_by_target[i][j][1] , color = colors[i], alpha=0.7)\n",
    "ax.legend(loc='center left', bbox_to_anchor=(1, 0.5))\n",
    "plt.show()"
   ]
  },
  {
   "cell_type": "markdown",
   "metadata": {},
   "source": [
    "### Training and Evaluation Logistic Regression Multiclass <a name=\"title5\" />"
   ]
  },
  {
   "cell_type": "markdown",
   "metadata": {},
   "source": [
    "O primeiro algoritmo escolhido foi a Regressão Logistica Multiclass, vista anteriormente em aula, para implemnta-la foi usada a função do scikit-learn. O objetivo nesse momento é testar diversos modelos com diversos hierparametros e avalia-los para escolher o melhor. A avaliação para buscar o melhor modelo foi por conta da acurácia, mas também é demonstrada o F1 score de cada modelo para o conjunto de validação. Nessa seção foram variados os seguintes hiperparâmetros: penalty, solvers e max_iter"
   ]
  },
  {
   "cell_type": "markdown",
   "metadata": {},
   "source": [
    "Para penalidade existem as seguintes opções: l1, l2 e none. Comparando os resultados obtidos nota-se que esse hiperparametro não modifica muito no resultado, nem todas penalidades podem ser usadas com as combinações de outros hiperparametros."
   ]
  },
  {
   "cell_type": "markdown",
   "metadata": {},
   "source": [
    "Para solvers há as seguintes opções:\n",
    "- lbfgs (Limited-memory Broyden–Fletcher–Goldfarb–Shanno):algoritmo de otimização derivado do BFGS, que usa a inversa de uma aproximação implícita da matriz  para encontrar um mínimo local\n",
    "- newton-cg: variação do método de Newton para grande quantidade de dimensões, tende a convergir mais rápido para funções quadráticas\n",
    "- sag:  algortimo de otimização em que gradiente da perda é estimado a cada amostra por vez e o modelo é atualizado ao longo do caminho com uma taxa de aprendizado constante, possui o desempenho mais rápido para datasets grandes (fonte: https://www.kite.com/python/docs/sklearn.linear_model.sag.sag_solver#:~:text=SAG%20solver%20for%20Ridge%20and,are%20on%20the%20same%20scale.)\n",
    "- saga: variação do sag que aceita penalty l1\n",
    "\n",
    "A principal diferneça entre os solvers é que alguns só aceitam certas penalidades, a acurácia e o f1score foi muito semelhante entre todos, provavelmente a principal diferença é o tempo que cada um leva para convergir, para explorar isso expõe-se abaixo um treino variando somente os solvers e mostrando o tempo de execução para cada um"
   ]
  },
  {
   "cell_type": "code",
   "execution_count": 15,
   "metadata": {},
   "outputs": [
    {
     "name": "stdout",
     "output_type": "stream",
     "text": [
      "lbfgs 0.23836016654968262\n",
      "newton-cg 0.203171968460083\n",
      "sag 0.30617427825927734\n",
      "saga 0.48233723640441895\n"
     ]
    }
   ],
   "source": [
    "from sklearn.linear_model import LogisticRegression\n",
    "import warnings\n",
    "import time \n",
    "\n",
    "warnings.filterwarnings('ignore')\n",
    "for s in ['lbfgs', 'newton-cg', 'sag', 'saga']:\n",
    "    for train_set, val_set in kf.split(train):\n",
    "        inicio = time.time()\n",
    "        clf_lr = LogisticRegression(multi_class='multinomial',\n",
    "                penalty='l2', #lasso regression\n",
    "                solver=s,\n",
    "                max_iter=100,\n",
    "                C=10).fit(x_train[train_set], y_train.iloc[train_set])\n",
    "    fim = time.time()\n",
    "    print(s, fim - inicio)\n"
   ]
  },
  {
   "cell_type": "markdown",
   "metadata": {},
   "source": [
    "Além desses houve a variação do parametro max_iter , que é o numero máximo de iterações para que o modelo convirga, entre os valores [1, 10, 100, 1000, 10000]. No geral a mudança mais perceptiva é entre 1 e 10 iterações, que há um aumento muito significativo entre os valores (como esperado). Para a maior parte das variações acima disso ou há um leve aumento ou fica continuo pois o modelo já covnergiu"
   ]
  },
  {
   "cell_type": "markdown",
   "metadata": {},
   "source": [
    "Por fim, o último parametro é o C, que é a intensidade inversa da regularização, um elemento importantissimo para o controle de underfit e overfit, sendo variado entre [0.01, 0.1, 1, 10, 100].  É possível notar que para os valores mais baixos os resultados, provavelmente por conta de underfit"
   ]
  },
  {
   "cell_type": "code",
   "execution_count": 16,
   "metadata": {},
   "outputs": [
    {
     "name": "stdout",
     "output_type": "stream",
     "text": [
      "l2\n",
      "Index 0- Hyp: ['l2', 'lbfgs', 0.01, 1] Accur: 0.4551521818848551  f1 score: 0.42328390970301644\n",
      "Index 1- Hyp: ['l2', 'lbfgs', 0.01, 10] Accur: 0.7216538320498717  f1 score: 0.69886508823112\n",
      "Index 2- Hyp: ['l2', 'lbfgs', 0.01, 100] Accur: 0.7216538320498717  f1 score: 0.69886508823112\n",
      "Index 3- Hyp: ['l2', 'lbfgs', 0.01, 1000] Accur: 0.7216538320498717  f1 score: 0.69886508823112\n",
      "Index 4- Hyp: ['l2', 'lbfgs', 0.01, 10000] Accur: 0.7216538320498717  f1 score: 0.69886508823112\n",
      "Index 5- Hyp: ['l2', 'lbfgs', 0.1, 1] Accur: 0.4551521818848551  f1 score: 0.42328390970301644\n",
      "Index 6- Hyp: ['l2', 'lbfgs', 0.1, 10] Accur: 0.8992039481725951  f1 score: 0.8978433289639414\n",
      "Index 7- Hyp: ['l2', 'lbfgs', 0.1, 100] Accur: 0.8985851362914069  f1 score: 0.8972089945199015\n",
      "Index 8- Hyp: ['l2', 'lbfgs', 0.1, 1000] Accur: 0.8985851362914069  f1 score: 0.8972089945199015\n",
      "Index 9- Hyp: ['l2', 'lbfgs', 0.1, 10000] Accur: 0.8985851362914069  f1 score: 0.8972089945199015\n",
      "Index 10- Hyp: ['l2', 'lbfgs', 1, 1] Accur: 0.4551521818848551  f1 score: 0.42328390970301644\n",
      "Index 11- Hyp: ['l2', 'lbfgs', 1, 10] Accur: 0.9356894022735607  f1 score: 0.935995665234725\n",
      "Index 12- Hyp: ['l2', 'lbfgs', 1, 100] Accur: 0.9387849896100722  f1 score: 0.9388001080562852\n",
      "Index 13- Hyp: ['l2', 'lbfgs', 1, 1000] Accur: 0.9387849896100722  f1 score: 0.9388001080562852\n",
      "Index 14- Hyp: ['l2', 'lbfgs', 1, 10000] Accur: 0.9387849896100722  f1 score: 0.9388001080562852\n",
      "Index 15- Hyp: ['l2', 'lbfgs', 10, 1] Accur: 0.4551521818848551  f1 score: 0.42328390970301644\n",
      "Index 16- Hyp: ['l2', 'lbfgs', 10, 10] Accur: 0.927646375748686  f1 score: 0.9280126408030727\n",
      "Index 17- Hyp: ['l2', 'lbfgs', 10, 100] Accur: 0.9659867375626452  f1 score: 0.9658915815752322\n",
      "Index 18- Hyp: ['l2', 'lbfgs', 10, 1000] Accur: 0.9659867375626452  f1 score: 0.9658915815752322\n",
      "Index 19- Hyp: ['l2', 'lbfgs', 10, 10000] Accur: 0.9659867375626452  f1 score: 0.9658915815752322\n",
      "Index 20- Hyp: ['l2', 'lbfgs', 100, 1] Accur: 0.4551521818848551  f1 score: 0.42328390970301644\n",
      "Index 21- Hyp: ['l2', 'lbfgs', 100, 10] Accur: 0.922706576213177  f1 score: 0.9224327272190886\n",
      "Index 22- Hyp: ['l2', 'lbfgs', 100, 100] Accur: 0.968458929226256  f1 score: 0.9682719267482621\n",
      "Index 23- Hyp: ['l2', 'lbfgs', 100, 1000] Accur: 0.968458929226256  f1 score: 0.9683028740618181\n",
      "Index 24- Hyp: ['l2', 'lbfgs', 100, 10000] Accur: 0.968458929226256  f1 score: 0.9683028740618181\n",
      "Index 25- Hyp: ['l2', 'newton-cg', 0.01, 1] Accur: 0.4551521818848551  f1 score: 0.42328390970301644\n",
      "Index 26- Hyp: ['l2', 'newton-cg', 0.01, 10] Accur: 0.7216538320498717  f1 score: 0.69886508823112\n",
      "Index 27- Hyp: ['l2', 'newton-cg', 0.01, 100] Accur: 0.7216538320498717  f1 score: 0.69886508823112\n",
      "Index 28- Hyp: ['l2', 'newton-cg', 0.01, 1000] Accur: 0.7216538320498717  f1 score: 0.69886508823112\n",
      "Index 29- Hyp: ['l2', 'newton-cg', 0.01, 10000] Accur: 0.7216538320498717  f1 score: 0.69886508823112\n",
      "Index 30- Hyp: ['l2', 'newton-cg', 0.1, 1] Accur: 0.856522735606894  f1 score: 0.8469043154543274\n",
      "Index 31- Hyp: ['l2', 'newton-cg', 0.1, 10] Accur: 0.8985851362914069  f1 score: 0.8972089945199015\n",
      "Index 32- Hyp: ['l2', 'newton-cg', 0.1, 100] Accur: 0.8985851362914069  f1 score: 0.8972089945199015\n",
      "Index 33- Hyp: ['l2', 'newton-cg', 0.1, 1000] Accur: 0.8985851362914069  f1 score: 0.8972089945199015\n",
      "Index 34- Hyp: ['l2', 'newton-cg', 0.1, 10000] Accur: 0.8985851362914069  f1 score: 0.8972089945199015\n",
      "Index 35- Hyp: ['l2', 'newton-cg', 1, 1] Accur: 0.8596167950128346  f1 score: 0.8494834702401941\n",
      "Index 36- Hyp: ['l2', 'newton-cg', 1, 10] Accur: 0.9387849896100722  f1 score: 0.9388001080562852\n",
      "Index 37- Hyp: ['l2', 'newton-cg', 1, 100] Accur: 0.9387849896100722  f1 score: 0.9388001080562852\n",
      "Index 38- Hyp: ['l2', 'newton-cg', 1, 1000] Accur: 0.9387849896100722  f1 score: 0.9388001080562852\n",
      "Index 39- Hyp: ['l2', 'newton-cg', 1, 10000] Accur: 0.9387849896100722  f1 score: 0.9388001080562852\n",
      "Index 40- Hyp: ['l2', 'newton-cg', 10, 1] Accur: 0.8589995110622173  f1 score: 0.8488391161511435\n",
      "Index 41- Hyp: ['l2', 'newton-cg', 10, 10] Accur: 0.9659867375626452  f1 score: 0.9658915815752322\n",
      "Index 42- Hyp: ['l2', 'newton-cg', 10, 100] Accur: 0.9659867375626452  f1 score: 0.9658915815752322\n",
      "Index 43- Hyp: ['l2', 'newton-cg', 10, 1000] Accur: 0.9659867375626452  f1 score: 0.9658915815752322\n",
      "Index 44- Hyp: ['l2', 'newton-cg', 10, 10000] Accur: 0.9659867375626452  f1 score: 0.9658915815752322\n",
      "Index 45- Hyp: ['l2', 'newton-cg', 100, 1] Accur: 0.8589995110622173  f1 score: 0.8488391161511435\n",
      "Index 46- Hyp: ['l2', 'newton-cg', 100, 10] Accur: 0.968458929226256  f1 score: 0.9682719267482621\n",
      "Index 47- Hyp: ['l2', 'newton-cg', 100, 100] Accur: 0.968458929226256  f1 score: 0.9683028740618181\n",
      "Index 48- Hyp: ['l2', 'newton-cg', 100, 1000] Accur: 0.968458929226256  f1 score: 0.9683028740618181\n",
      "Index 49- Hyp: ['l2', 'newton-cg', 100, 10000] Accur: 0.968458929226256  f1 score: 0.9683028740618181\n",
      "Index 50- Hyp: ['l2', 'sag', 0.01, 1] Accur: 0.1713497738662755  f1 score: 0.08722748076064515\n",
      "Index 51- Hyp: ['l2', 'sag', 0.01, 10] Accur: 0.7191953917613982  f1 score: 0.6943353322613854\n",
      "Index 52- Hyp: ['l2', 'sag', 0.01, 100] Accur: 0.722271116000489  f1 score: 0.6994107475854168\n",
      "Index 53- Hyp: ['l2', 'sag', 0.01, 1000] Accur: 0.7216538320498717  f1 score: 0.69886508823112\n",
      "Index 54- Hyp: ['l2', 'sag', 0.01, 10000] Accur: 0.7210350201686836  f1 score: 0.698391905556843\n",
      "Index 55- Hyp: ['l2', 'sag', 0.1, 1] Accur: 0.6975644786700892  f1 score: 0.699519790483939\n",
      "Index 56- Hyp: ['l2', 'sag', 0.1, 10] Accur: 0.8985851362914069  f1 score: 0.8971733599985273\n",
      "Index 57- Hyp: ['l2', 'sag', 0.1, 100] Accur: 0.8985851362914069  f1 score: 0.8972089945199015\n",
      "Index 58- Hyp: ['l2', 'sag', 0.1, 1000] Accur: 0.8985851362914069  f1 score: 0.8972089945199015\n",
      "Index 59- Hyp: ['l2', 'sag', 0.1, 10000] Accur: 0.8985851362914069  f1 score: 0.8972089945199015\n",
      "Index 60- Hyp: ['l2', 'sag', 1, 1] Accur: 0.8423145092287007  f1 score: 0.8334130641857775\n",
      "Index 61- Hyp: ['l2', 'sag', 1, 10] Accur: 0.9400210854418776  f1 score: 0.9400443328815277\n",
      "Index 62- Hyp: ['l2', 'sag', 1, 100] Accur: 0.9387849896100722  f1 score: 0.9388001080562852\n",
      "Index 63- Hyp: ['l2', 'sag', 1, 1000] Accur: 0.9387849896100722  f1 score: 0.9388001080562852\n",
      "Index 64- Hyp: ['l2', 'sag', 1, 10000] Accur: 0.9387849896100722  f1 score: 0.9388001080562852\n",
      "Index 65- Hyp: ['l2', 'sag', 10, 1] Accur: 0.8027808336389194  f1 score: 0.8040199491811773\n",
      "Index 66- Hyp: ['l2', 'sag', 10, 10] Accur: 0.9536150837305952  f1 score: 0.9540461545925706\n",
      "Index 67- Hyp: ['l2', 'sag', 10, 100] Accur: 0.9659867375626452  f1 score: 0.9658915815752322\n",
      "Index 68- Hyp: ['l2', 'sag', 10, 1000] Accur: 0.9659867375626452  f1 score: 0.9658915815752322\n",
      "Index 69- Hyp: ['l2', 'sag', 10, 10000] Accur: 0.9659867375626452  f1 score: 0.9658915815752322\n",
      "Index 70- Hyp: ['l2', 'sag', 100, 1] Accur: 0.8769450556166728  f1 score: 0.873919963766953\n",
      "Index 71- Hyp: ['l2', 'sag', 100, 10] Accur: 0.936306686224178  f1 score: 0.9361789084139986\n",
      "Index 72- Hyp: ['l2', 'sag', 100, 100] Accur: 0.9678416452756387  f1 score: 0.9676288566235601\n",
      "Index 73- Hyp: ['l2', 'sag', 100, 1000] Accur: 0.968458929226256  f1 score: 0.9683028740618181\n",
      "Index 74- Hyp: ['l2', 'sag', 100, 10000] Accur: 0.968458929226256  f1 score: 0.9683028740618181\n",
      "Index 75- Hyp: ['l2', 'saga', 0.01, 1] Accur: 0.27270199242146437  f1 score: 0.20023569741949923\n",
      "Index 76- Hyp: ['l2', 'saga', 0.01, 10] Accur: 0.721030436376971  f1 score: 0.6987616689220627\n",
      "Index 77- Hyp: ['l2', 'saga', 0.01, 100] Accur: 0.7216538320498717  f1 score: 0.69886508823112\n",
      "Index 78- Hyp: ['l2', 'saga', 0.01, 1000] Accur: 0.7216538320498717  f1 score: 0.69886508823112\n",
      "Index 79- Hyp: ['l2', 'saga', 0.01, 10000] Accur: 0.7216538320498717  f1 score: 0.69886508823112\n",
      "Index 80- Hyp: ['l2', 'saga', 0.1, 1] Accur: 0.7150027502750275  f1 score: 0.6986486355727689\n",
      "Index 81- Hyp: ['l2', 'saga', 0.1, 10] Accur: 0.8985851362914069  f1 score: 0.8972089945199015\n",
      "Index 82- Hyp: ['l2', 'saga', 0.1, 100] Accur: 0.8985851362914069  f1 score: 0.8972089945199015\n",
      "Index 83- Hyp: ['l2', 'saga', 0.1, 1000] Accur: 0.8985851362914069  f1 score: 0.8972089945199015\n",
      "Index 84- Hyp: ['l2', 'saga', 0.1, 10000] Accur: 0.8985851362914069  f1 score: 0.8972089945199015\n",
      "Index 85- Hyp: ['l2', 'saga', 1, 1] Accur: 0.9183825326977142  f1 score: 0.9165804803594776\n",
      "Index 86- Hyp: ['l2', 'saga', 1, 10] Accur: 0.9394038014912602  f1 score: 0.9393879011694124\n",
      "Index 87- Hyp: ['l2', 'saga', 1, 100] Accur: 0.9387849896100722  f1 score: 0.9388001080562852\n",
      "Index 88- Hyp: ['l2', 'saga', 1, 1000] Accur: 0.9387849896100722  f1 score: 0.9388001080562852\n",
      "Index 89- Hyp: ['l2', 'saga', 1, 10000] Accur: 0.9387849896100722  f1 score: 0.9388001080562852\n",
      "Index 90- Hyp: ['l2', 'saga', 10, 1] Accur: 0.9233223322332234  f1 score: 0.9239775932462138\n",
      "Index 91- Hyp: ['l2', 'saga', 10, 10] Accur: 0.9641303019190808  f1 score: 0.9640002479838135\n",
      "Index 92- Hyp: ['l2', 'saga', 10, 100] Accur: 0.9659867375626452  f1 score: 0.9658915815752322\n",
      "Index 93- Hyp: ['l2', 'saga', 10, 1000] Accur: 0.9659867375626452  f1 score: 0.9658915815752322\n",
      "Index 94- Hyp: ['l2', 'saga', 10, 10000] Accur: 0.9659867375626452  f1 score: 0.9658915815752322\n",
      "Index 95- Hyp: ['l2', 'saga', 100, 1] Accur: 0.9245584280650287  f1 score: 0.9251175510947693\n",
      "Index 96- Hyp: ['l2', 'saga', 100, 10] Accur: 0.9653709815425987  f1 score: 0.9651100850735723\n",
      "Index 97- Hyp: ['l2', 'saga', 100, 100] Accur: 0.9678416452756387  f1 score: 0.9677238367461354\n",
      "Index 98- Hyp: ['l2', 'saga', 100, 1000] Accur: 0.968458929226256  f1 score: 0.9683028740618181\n",
      "Index 99- Hyp: ['l2', 'saga', 100, 10000] Accur: 0.968458929226256  f1 score: 0.9683028740618181\n",
      "none\n",
      "Index 100- Hyp: ['none', 'lbfgs', 0.01, 1] Accur: 0.4551521818848551  f1 score: 0.42328390970301644\n",
      "Index 101- Hyp: ['none', 'lbfgs', 0.01, 10] Accur: 0.9239441999755531  f1 score: 0.923567197775019\n",
      "Index 102- Hyp: ['none', 'lbfgs', 0.01, 100] Accur: 0.9585701625718127  f1 score: 0.9580470721343384\n",
      "Index 103- Hyp: ['none', 'lbfgs', 0.01, 1000] Accur: 0.9585701625718127  f1 score: 0.9580470721343384\n",
      "Index 104- Hyp: ['none', 'lbfgs', 0.01, 10000] Accur: 0.9585701625718127  f1 score: 0.9580470721343384\n",
      "Index 105- Hyp: ['none', 'lbfgs', 0.1, 1] Accur: 0.4551521818848551  f1 score: 0.42328390970301644\n",
      "Index 106- Hyp: ['none', 'lbfgs', 0.1, 10] Accur: 0.9239441999755531  f1 score: 0.923567197775019\n",
      "Index 107- Hyp: ['none', 'lbfgs', 0.1, 100] Accur: 0.9585701625718127  f1 score: 0.9580470721343384\n",
      "Index 108- Hyp: ['none', 'lbfgs', 0.1, 1000] Accur: 0.9585701625718127  f1 score: 0.9580470721343384\n",
      "Index 109- Hyp: ['none', 'lbfgs', 0.1, 10000] Accur: 0.9585701625718127  f1 score: 0.9580470721343384\n",
      "Index 110- Hyp: ['none', 'lbfgs', 1, 1] Accur: 0.4551521818848551  f1 score: 0.42328390970301644\n",
      "Index 111- Hyp: ['none', 'lbfgs', 1, 10] Accur: 0.9239441999755531  f1 score: 0.923567197775019\n",
      "Index 112- Hyp: ['none', 'lbfgs', 1, 100] Accur: 0.9585701625718127  f1 score: 0.9580470721343384\n",
      "Index 113- Hyp: ['none', 'lbfgs', 1, 1000] Accur: 0.9585701625718127  f1 score: 0.9580470721343384\n",
      "Index 114- Hyp: ['none', 'lbfgs', 1, 10000] Accur: 0.9585701625718127  f1 score: 0.9580470721343384\n",
      "Index 115- Hyp: ['none', 'lbfgs', 10, 1] Accur: 0.4551521818848551  f1 score: 0.42328390970301644\n",
      "Index 116- Hyp: ['none', 'lbfgs', 10, 10] Accur: 0.9239441999755531  f1 score: 0.923567197775019\n",
      "Index 117- Hyp: ['none', 'lbfgs', 10, 100] Accur: 0.9585701625718127  f1 score: 0.9580470721343384\n",
      "Index 118- Hyp: ['none', 'lbfgs', 10, 1000] Accur: 0.9585701625718127  f1 score: 0.9580470721343384\n",
      "Index 119- Hyp: ['none', 'lbfgs', 10, 10000] Accur: 0.9585701625718127  f1 score: 0.9580470721343384\n",
      "Index 120- Hyp: ['none', 'lbfgs', 100, 1] Accur: 0.4551521818848551  f1 score: 0.42328390970301644\n",
      "Index 121- Hyp: ['none', 'lbfgs', 100, 10] Accur: 0.9239441999755531  f1 score: 0.923567197775019\n",
      "Index 122- Hyp: ['none', 'lbfgs', 100, 100] Accur: 0.9585701625718127  f1 score: 0.9580470721343384\n",
      "Index 123- Hyp: ['none', 'lbfgs', 100, 1000] Accur: 0.9585701625718127  f1 score: 0.9580470721343384\n",
      "Index 124- Hyp: ['none', 'lbfgs', 100, 10000] Accur: 0.9585701625718127  f1 score: 0.9580470721343384\n",
      "Index 125- Hyp: ['none', 'newton-cg', 0.01, 1] Accur: 0.8589995110622173  f1 score: 0.8488391161511435\n",
      "Index 126- Hyp: ['none', 'newton-cg', 0.01, 10] Accur: 0.9659867375626451  f1 score: 0.9655780472991583\n",
      "Index 127- Hyp: ['none', 'newton-cg', 0.01, 100] Accur: 0.9616611661166117  f1 score: 0.961185222860942\n",
      "Index 128- Hyp: ['none', 'newton-cg', 0.01, 1000] Accur: 0.9616611661166117  f1 score: 0.961185222860942\n",
      "Index 129- Hyp: ['none', 'newton-cg', 0.01, 10000] Accur: 0.9616611661166117  f1 score: 0.961185222860942\n",
      "Index 130- Hyp: ['none', 'newton-cg', 0.1, 1] Accur: 0.8589995110622173  f1 score: 0.8488391161511435\n",
      "Index 131- Hyp: ['none', 'newton-cg', 0.1, 10] Accur: 0.9659867375626451  f1 score: 0.9655780472991583\n",
      "Index 132- Hyp: ['none', 'newton-cg', 0.1, 100] Accur: 0.9616611661166117  f1 score: 0.961185222860942\n",
      "Index 133- Hyp: ['none', 'newton-cg', 0.1, 1000] Accur: 0.9616611661166117  f1 score: 0.961185222860942\n",
      "Index 134- Hyp: ['none', 'newton-cg', 0.1, 10000] Accur: 0.9616611661166117  f1 score: 0.961185222860942\n",
      "Index 135- Hyp: ['none', 'newton-cg', 1, 1] Accur: 0.8589995110622173  f1 score: 0.8488391161511435\n",
      "Index 136- Hyp: ['none', 'newton-cg', 1, 10] Accur: 0.9659867375626451  f1 score: 0.9655780472991583\n",
      "Index 137- Hyp: ['none', 'newton-cg', 1, 100] Accur: 0.9616611661166117  f1 score: 0.961185222860942\n",
      "Index 138- Hyp: ['none', 'newton-cg', 1, 1000] Accur: 0.9616611661166117  f1 score: 0.961185222860942\n",
      "Index 139- Hyp: ['none', 'newton-cg', 1, 10000] Accur: 0.9616611661166117  f1 score: 0.961185222860942\n",
      "Index 140- Hyp: ['none', 'newton-cg', 10, 1] Accur: 0.8589995110622173  f1 score: 0.8488391161511435\n",
      "Index 141- Hyp: ['none', 'newton-cg', 10, 10] Accur: 0.9659867375626451  f1 score: 0.9655780472991583\n",
      "Index 142- Hyp: ['none', 'newton-cg', 10, 100] Accur: 0.9616611661166117  f1 score: 0.961185222860942\n",
      "Index 143- Hyp: ['none', 'newton-cg', 10, 1000] Accur: 0.9616611661166117  f1 score: 0.961185222860942\n",
      "Index 144- Hyp: ['none', 'newton-cg', 10, 10000] Accur: 0.9616611661166117  f1 score: 0.961185222860942\n",
      "Index 145- Hyp: ['none', 'newton-cg', 100, 1] Accur: 0.8589995110622173  f1 score: 0.8488391161511435\n",
      "Index 146- Hyp: ['none', 'newton-cg', 100, 10] Accur: 0.9659867375626451  f1 score: 0.9655780472991583\n",
      "Index 147- Hyp: ['none', 'newton-cg', 100, 100] Accur: 0.9616611661166117  f1 score: 0.961185222860942\n",
      "Index 148- Hyp: ['none', 'newton-cg', 100, 1000] Accur: 0.9616611661166117  f1 score: 0.961185222860942\n",
      "Index 149- Hyp: ['none', 'newton-cg', 100, 10000] Accur: 0.9616611661166117  f1 score: 0.961185222860942\n",
      "Index 150- Hyp: ['none', 'sag', 0.01, 1] Accur: 0.8701350690624619  f1 score: 0.8670366706238292\n",
      "Index 151- Hyp: ['none', 'sag', 0.01, 10] Accur: 0.9542507028480626  f1 score: 0.9540788675540262\n",
      "Index 152- Hyp: ['none', 'sag', 0.01, 100] Accur: 0.9641287739885099  f1 score: 0.9638388143850388\n",
      "Index 153- Hyp: ['none', 'sag', 0.01, 1000] Accur: 0.9628957340178461  f1 score: 0.9623343501193449\n",
      "Index 154- Hyp: ['none', 'sag', 0.01, 10000] Accur: 0.9641333577802225  f1 score: 0.9634889174362624\n",
      "Index 155- Hyp: ['none', 'sag', 0.1, 1] Accur: 0.8645703459234813  f1 score: 0.861428099514441\n",
      "Index 156- Hyp: ['none', 'sag', 0.1, 10] Accur: 0.9530023835716905  f1 score: 0.9528400561031543\n",
      "Index 157- Hyp: ['none', 'sag', 0.1, 100] Accur: 0.9672213054638797  f1 score: 0.9670150642806028\n",
      "Index 158- Hyp: ['none', 'sag', 0.1, 1000] Accur: 0.9647506417308398  f1 score: 0.9643046726172686\n",
      "Index 159- Hyp: ['none', 'sag', 0.1, 10000] Accur: 0.9653709815425986  f1 score: 0.964855120369305\n",
      "Index 160- Hyp: ['none', 'sag', 1, 1] Accur: 0.8503590636841462  f1 score: 0.8484686694417234\n",
      "Index 161- Hyp: ['none', 'sag', 1, 10] Accur: 0.947445300085564  f1 score: 0.946671228915597\n",
      "Index 162- Hyp: ['none', 'sag', 1, 100] Accur: 0.9659867375626451  f1 score: 0.9656267706949591\n",
      "Index 163- Hyp: ['none', 'sag', 1, 1000] Accur: 0.9641333577802225  f1 score: 0.9636339930858295\n",
      "Index 164- Hyp: ['none', 'sag', 1, 10000] Accur: 0.9641333577802225  f1 score: 0.9635914712345544\n",
      "Index 165- Hyp: ['none', 'sag', 10, 1] Accur: 0.8967378682312676  f1 score: 0.89615231122121\n",
      "Index 166- Hyp: ['none', 'sag', 10, 10] Accur: 0.9511398362058427  f1 score: 0.9511943586181423\n",
      "Index 167- Hyp: ['none', 'sag', 10, 100] Accur: 0.9653663977508862  f1 score: 0.965199240053694\n",
      "Index 168- Hyp: ['none', 'sag', 10, 1000] Accur: 0.9628957340178462  f1 score: 0.9621910843067845\n",
      "Index 169- Hyp: ['none', 'sag', 10, 10000] Accur: 0.9647506417308398  f1 score: 0.9641547027221458\n",
      "Index 170- Hyp: ['none', 'sag', 100, 1] Accur: 0.840433626696003  f1 score: 0.8304114060325494\n",
      "Index 171- Hyp: ['none', 'sag', 100, 10] Accur: 0.9499098520963207  f1 score: 0.9490156119489719\n",
      "Index 172- Hyp: ['none', 'sag', 100, 100] Accur: 0.9672213054638796  f1 score: 0.9668128331440865\n",
      "Index 173- Hyp: ['none', 'sag', 100, 1000] Accur: 0.9641333577802225  f1 score: 0.9635182815539445\n",
      "Index 174- Hyp: ['none', 'sag', 100, 10000] Accur: 0.9635145458990344  f1 score: 0.9629095698921442\n",
      "Index 175- Hyp: ['none', 'saga', 0.01, 1] Accur: 0.9115756020046448  f1 score: 0.9101452938475373\n",
      "Index 176- Hyp: ['none', 'saga', 0.01, 10] Accur: 0.9653709815425986  f1 score: 0.9648496755635301\n",
      "Index 177- Hyp: ['none', 'saga', 0.01, 100] Accur: 0.9672228333944506  f1 score: 0.9667928919465728\n",
      "Index 178- Hyp: ['none', 'saga', 0.01, 1000] Accur: 0.9641333577802225  f1 score: 0.963626262515149\n",
      "Index 179- Hyp: ['none', 'saga', 0.01, 10000] Accur: 0.9647521696614105  f1 score: 0.9642072310780454\n",
      "Index 180- Hyp: ['none', 'saga', 0.1, 1] Accur: 0.9270352035203521  f1 score: 0.9271006630096857\n",
      "Index 181- Hyp: ['none', 'saga', 0.1, 10] Accur: 0.9653725094731694  f1 score: 0.964967292835863\n",
      "Index 182- Hyp: ['none', 'saga', 0.1, 100] Accur: 0.9678416452756387  f1 score: 0.9675275767362052\n",
      "Index 183- Hyp: ['none', 'saga', 0.1, 1000] Accur: 0.9641333577802225  f1 score: 0.963626262515149\n",
      "Index 184- Hyp: ['none', 'saga', 0.1, 10000] Accur: 0.9647521696614105  f1 score: 0.9642072310780454\n",
      "Index 185- Hyp: ['none', 'saga', 1, 1] Accur: 0.9189967607871898  f1 score: 0.918323680831642\n",
      "Index 186- Hyp: ['none', 'saga', 1, 10] Accur: 0.9635160738296051  f1 score: 0.9630408984659106\n",
      "Index 187- Hyp: ['none', 'saga', 1, 100] Accur: 0.9672228333944505  f1 score: 0.9668532432853217\n",
      "Index 188- Hyp: ['none', 'saga', 1, 1000] Accur: 0.9641333577802225  f1 score: 0.963626262515149\n",
      "Index 189- Hyp: ['none', 'saga', 1, 10000] Accur: 0.9647521696614105  f1 score: 0.9642072310780454\n",
      "Index 190- Hyp: ['none', 'saga', 10, 1] Accur: 0.9325999266593326  f1 score: 0.9322886198070224\n",
      "Index 191- Hyp: ['none', 'saga', 10, 10] Accur: 0.9622784500672289  f1 score: 0.961901357202664\n",
      "Index 192- Hyp: ['none', 'saga', 10, 100] Accur: 0.9678416452756387  f1 score: 0.9675275767362052\n",
      "Index 193- Hyp: ['none', 'saga', 10, 1000] Accur: 0.9641333577802225  f1 score: 0.963626262515149\n",
      "Index 194- Hyp: ['none', 'saga', 10, 10000] Accur: 0.9647521696614105  f1 score: 0.9642072310780454\n",
      "Index 195- Hyp: ['none', 'saga', 100, 1] Accur: 0.9134320376482092  f1 score: 0.914955991537758\n",
      "Index 196- Hyp: ['none', 'saga', 100, 10] Accur: 0.9653725094731695  f1 score: 0.9649618271450193\n",
      "Index 197- Hyp: ['none', 'saga', 100, 100] Accur: 0.969079269038015  f1 score: 0.9689935284474099\n",
      "Index 198- Hyp: ['none', 'saga', 100, 1000] Accur: 0.9647521696614105  f1 score: 0.964276132160272\n",
      "Index 199- Hyp: ['none', 'saga', 100, 10000] Accur: 0.9647521696614105  f1 score: 0.9642072310780454\n",
      "l1\n",
      "Index 200- Hyp: ['l1', 'saga', 0.01, 1] Accur: 0.09152304119300819  f1 score: 0.01868967741457581\n",
      "Index 201- Hyp: ['l1', 'saga', 0.01, 10] Accur: 0.09585472436132503  f1 score: 0.017492540398781543\n",
      "Index 202- Hyp: ['l1', 'saga', 0.01, 100] Accur: 0.0884289817870676  f1 score: 0.01622877663501778\n",
      "Index 203- Hyp: ['l1', 'saga', 0.01, 1000] Accur: 0.09709234812370124  f1 score: 0.017687336061751113\n",
      "Index 204- Hyp: ['l1', 'saga', 0.01, 10000] Accur: 0.09523285661899522  f1 score: 0.017385712875033273\n",
      "Index 205- Hyp: ['l1', 'saga', 0.1, 1] Accur: 0.5720266471091553  f1 score: 0.5466199799695787\n",
      "Index 206- Hyp: ['l1', 'saga', 0.1, 10] Accur: 0.7216828627307175  f1 score: 0.6911024535947171\n",
      "Index 207- Hyp: ['l1', 'saga', 0.1, 100] Accur: 0.7229189585625229  f1 score: 0.6933835484272237\n",
      "Index 208- Hyp: ['l1', 'saga', 0.1, 1000] Accur: 0.7229189585625229  f1 score: 0.6934253290592169\n",
      "Index 209- Hyp: ['l1', 'saga', 0.1, 10000] Accur: 0.7229189585625229  f1 score: 0.6933835484272237\n",
      "Index 210- Hyp: ['l1', 'saga', 1, 1] Accur: 0.904163610805525  f1 score: 0.9052441780890997\n",
      "Index 211- Hyp: ['l1', 'saga', 1, 10] Accur: 0.941875993154871  f1 score: 0.941442262187845\n",
      "Index 212- Hyp: ['l1', 'saga', 1, 100] Accur: 0.9437293729372938  f1 score: 0.9430473891853495\n",
      "Index 213- Hyp: ['l1', 'saga', 1, 1000] Accur: 0.9437293729372938  f1 score: 0.9430473891853495\n",
      "Index 214- Hyp: ['l1', 'saga', 1, 10000] Accur: 0.9437293729372938  f1 score: 0.9430473891853495\n",
      "Index 215- Hyp: ['l1', 'saga', 10, 1] Accur: 0.9338406062828506  f1 score: 0.9341418906950971\n",
      "Index 216- Hyp: ['l1', 'saga', 10, 10] Accur: 0.9659913213543576  f1 score: 0.9655890491154171\n",
      "Index 217- Hyp: ['l1', 'saga', 10, 100] Accur: 0.966607077374404  f1 score: 0.9661730275373276\n",
      "Index 218- Hyp: ['l1', 'saga', 10, 1000] Accur: 0.9635160738296051  f1 score: 0.9632509220398922\n",
      "Index 219- Hyp: ['l1', 'saga', 10, 10000] Accur: 0.9635160738296051  f1 score: 0.9632509220398922\n",
      "Index 220- Hyp: ['l1', 'saga', 100, 1] Accur: 0.9165169294707248  f1 score: 0.9173694382176535\n",
      "Index 221- Hyp: ['l1', 'saga', 100, 10] Accur: 0.9647536975919815  f1 score: 0.9643802955605529\n",
      "Index 222- Hyp: ['l1', 'saga', 100, 100] Accur: 0.9684604571568267  f1 score: 0.9681103896379037\n",
      "Index 223- Hyp: ['l1', 'saga', 100, 1000] Accur: 0.9647491138002688  f1 score: 0.964325065861323\n",
      "Index 224- Hyp: ['l1', 'saga', 100, 10000] Accur: 0.9653694536120279  f1 score: 0.964929533159734\n",
      "===========================\n",
      "MAX 197 0.969079269038015\n"
     ]
    }
   ],
   "source": [
    "import warnings\n",
    "from sklearn.metrics import accuracy_score, f1_score\n",
    "warnings.filterwarnings('ignore')\n",
    "\n",
    "penalty = ['l2', 'none', 'l1']\n",
    "solvers = ['lbfgs', 'newton-cg', 'sag', 'saga']\n",
    "c = [0.01, 0.1, 1, 10, 100]\n",
    "max_iter = [1, 10, 100, 1000, 10000]\n",
    "models = []\n",
    "acurr_total = []\n",
    "f1score_total = []\n",
    "index = 0\n",
    "max_score = 0\n",
    "max_index = 0\n",
    "for p in penalty:\n",
    "    print(p)\n",
    "    for s in solvers:\n",
    "        if (s == 'lbfgs' and  p != 'l2' and p != 'none') or (s == 'newton-cg' and  p != 'l2' and p != 'none') or (s == 'sag' and  p != 'l2' and p != 'none'):\n",
    "            continue\n",
    "        else:\n",
    "            for value in c:\n",
    "                for it in max_iter:\n",
    "\n",
    "                    hyperparmeter = [p, s, value, it]\n",
    "                    f1score = []\n",
    "                    acurr = []\n",
    "                    for train_set, val_set in kf.split(train):\n",
    "                        clf_lr = LogisticRegression(multi_class='multinomial',\n",
    "                                penalty=p, #lasso regression\n",
    "                                solver=s,\n",
    "                                max_iter=it,\n",
    "                                C=value).fit(x_train[train_set], y_train.iloc[train_set])\n",
    "\n",
    "                        y_pred = clf_lr.predict(x_train[val_set])\n",
    "                        f1score.append(f1_score(y_train.iloc[val_set], y_pred, average='macro'))\n",
    "                        acurr.append(accuracy_score(y_train.iloc[val_set], y_pred))\n",
    "\n",
    "                    models.append(clf_lr)\n",
    "                    f1score_total.append(sum(f1score)/4)\n",
    "                    acurr_total.append(sum(acurr)/4)\n",
    "\n",
    "                    \n",
    "                    \n",
    "                    if acurr_total[-1] > max_score:\n",
    "                        max_index = index\n",
    "                        max_score = acurr_total[-1]\n",
    "\n",
    "                    print(f'Index {index}- Hyp: {hyperparmeter} Accur: {acurr_total[-1]}  f1 score: {f1score_total[-1]}')\n",
    "                    index += 1\n",
    "print(\"===========================\")\n",
    "print(\"MAX\",max_index, max_score)\n",
    "\n",
    "\n"
   ]
  },
  {
   "cell_type": "markdown",
   "metadata": {},
   "source": [
    "### Training OneVsOne Classifier <a name=\"title6\" />"
   ]
  },
  {
   "cell_type": "markdown",
   "metadata": {},
   "source": [
    "Nessa seção foi usado o método de classificação OneVsOne em conjunto com o LinearCV, os hiperparametros foram quase todos os mesmos que o método anterior, com exceção ao de loss pertencente ao LinearSVC. Esse método consiste, como já visto em aula, na aplicação de um algortimo de classificação binária para todas classes entre elas mesmas, escolhendo a que tiver mais \"votos\". Isso traz um ponto positivo de conseguir lidar bem com um grande volume de datas uma vez que para cada um dos submodelos criados o que vai ser consumido é apenas os dados das classes que estão sendo comparadas"
   ]
  },
  {
   "cell_type": "code",
   "execution_count": 17,
   "metadata": {},
   "outputs": [
    {
     "name": "stdout",
     "output_type": "stream",
     "text": [
      "hinge l2\n",
      "Index 0- Hyp: ['hinge', 'l2', 0.1, 100] Acc: 0.917135741351913 f1 score: 0.9176865358898824\n",
      "Index 1- Hyp: ['hinge', 'l2', 0.1, 1000] Acc: 0.917135741351913 f1 score: 0.9176865358898824\n",
      "Index 2- Hyp: ['hinge', 'l2', 0.1, 10000] Acc: 0.917135741351913 f1 score: 0.9176865358898824\n",
      "Index 3- Hyp: ['hinge', 'l2', 1, 100] Acc: 0.971557572423909 f1 score: 0.9716536282015398\n",
      "Index 4- Hyp: ['hinge', 'l2', 1, 1000] Acc: 0.9709387605427209 f1 score: 0.9710192390760537\n",
      "Index 5- Hyp: ['hinge', 'l2', 1, 10000] Acc: 0.9709387605427209 f1 score: 0.9710192390760537\n",
      "Index 6- Hyp: ['hinge', 'l2', 10, 100] Acc: 0.9833058305830583 f1 score: 0.9834666793123205\n",
      "Index 7- Hyp: ['hinge', 'l2', 10, 1000] Acc: 0.9833058305830582 f1 score: 0.9834793454268924\n",
      "Index 8- Hyp: ['hinge', 'l2', 10, 10000] Acc: 0.9833058305830582 f1 score: 0.9834793454268924\n",
      "Index 9- Hyp: ['hinge', 'l2', 100, 100] Acc: 0.9783553355335534 f1 score: 0.9786096708147521\n",
      "Index 10- Hyp: ['hinge', 'l2', 100, 1000] Acc: 0.9789741474147415 f1 score: 0.9792982896957407\n",
      "Index 11- Hyp: ['hinge', 'l2', 100, 10000] Acc: 0.9802117711771177 f1 score: 0.98050968914584\n",
      "squared_hinge l2\n",
      "Index 12- Hyp: ['squared_hinge', 'l2', 0.1, 100] Acc: 0.9468203764820926 f1 score: 0.9466764321831025\n",
      "Index 13- Hyp: ['squared_hinge', 'l2', 0.1, 1000] Acc: 0.9468203764820926 f1 score: 0.9466764321831025\n",
      "Index 14- Hyp: ['squared_hinge', 'l2', 0.1, 10000] Acc: 0.9468203764820926 f1 score: 0.9466764321831025\n",
      "Index 15- Hyp: ['squared_hinge', 'l2', 1, 100] Acc: 0.9777411074440778 f1 score: 0.9778360445152148\n",
      "Index 16- Hyp: ['squared_hinge', 'l2', 1, 1000] Acc: 0.9777411074440778 f1 score: 0.9778360445152148\n",
      "Index 17- Hyp: ['squared_hinge', 'l2', 1, 10000] Acc: 0.9777411074440778 f1 score: 0.9778360445152148\n",
      "Index 18- Hyp: ['squared_hinge', 'l2', 10, 100] Acc: 0.9851607382960519 f1 score: 0.9852900471111911\n",
      "Index 19- Hyp: ['squared_hinge', 'l2', 10, 1000] Acc: 0.9851607382960519 f1 score: 0.9852900471111911\n",
      "Index 20- Hyp: ['squared_hinge', 'l2', 10, 10000] Acc: 0.9851607382960519 f1 score: 0.9852900471111911\n",
      "Index 21- Hyp: ['squared_hinge', 'l2', 100, 100] Acc: 0.9826854907712993 f1 score: 0.9827963801226989\n",
      "Index 22- Hyp: ['squared_hinge', 'l2', 100, 1000] Acc: 0.9826854907712994 f1 score: 0.982924162398098\n",
      "Index 23- Hyp: ['squared_hinge', 'l2', 100, 10000] Acc: 0.9826854907712994 f1 score: 0.982924162398098\n",
      "===========================\n",
      "MAX 18 0.9851607382960519\n"
     ]
    }
   ],
   "source": [
    "from sklearn.multiclass import OneVsOneClassifier\n",
    "from sklearn.svm import LinearSVC\n",
    "import warnings\n",
    "from sklearn.metrics import accuracy_score, f1_score\n",
    "warnings.filterwarnings('ignore')\n",
    "\n",
    "penalty2 = ['l2']\n",
    "loss2 = ['hinge', 'squared_hinge']\n",
    "c2 = [0.1, 1, 10, 100]\n",
    "max_iter2 = [100, 1000, 10000]\n",
    "models2 = []\n",
    "acurr_total2 = []\n",
    "f1score_total2 = []\n",
    "index = 0\n",
    "max_score2 = 0\n",
    "max_index2 = 0\n",
    "for l in loss2:\n",
    "    for p in penalty2:\n",
    "        print(l, p)\n",
    "        if l =='hinge' and p == 'l1':\n",
    "            continue\n",
    "        else:\n",
    "            for value in c2:\n",
    "                for it in max_iter2:\n",
    "\n",
    "                    hyperparmeter = [l, p, value, it]\n",
    "                    f1score = []\n",
    "                    acurr = []\n",
    "                    for train_set, val_set in kf.split(train):\n",
    "                        clf_oo =  OneVsOneClassifier(LinearSVC(random_state=0,\n",
    "                                loss =l,\n",
    "                                penalty=p,\n",
    "                                max_iter=it,\n",
    "                                C=value)).fit(x_train[train_set], y_train.iloc[train_set])\n",
    "\n",
    "                        y_pred = clf_oo.predict(x_train[val_set])\n",
    "                        acurr.append(accuracy_score(y_train.iloc[val_set], y_pred))\n",
    "                        f1score.append(f1_score(y_train.iloc[val_set], y_pred, average='macro'))\n",
    "\n",
    "                    models2.append(clf_oo)\n",
    "                    f1score_total2.append(sum(f1score)/4)\n",
    "                    acurr_total2.append(sum(acurr)/4)\n",
    "\n",
    "\n",
    "                    if acurr_total2[-1] > max_score2:\n",
    "                        max_index2 = index\n",
    "                        max_score2 = acurr_total2[-1]\n",
    "\n",
    "                    print(f'Index {index}- Hyp: {hyperparmeter} Acc: {acurr_total2[-1]} f1 score: {f1score_total2[-1]}')\n",
    "                    index += 1\n",
    "print(\"===========================\")\n",
    "print(\"MAX\",max_index2, max_score2)"
   ]
  },
  {
   "cell_type": "markdown",
   "metadata": {},
   "source": [
    "### Test Logistic Regression <a name=\"title9\" />"
   ]
  },
  {
   "cell_type": "markdown",
   "metadata": {},
   "source": [
    "Abaixo temos o resultado da Regressão Logistica Multiclass, como podemos ver a acúracia e o f1score ficarma iguais e consdieravelmente altos, o maior problema parece ter sido com o número 9, que apresentou o f1score mais baixo"
   ]
  },
  {
   "cell_type": "code",
   "execution_count": 18,
   "metadata": {},
   "outputs": [
    {
     "name": "stdout",
     "output_type": "stream",
     "text": [
      "The best model using Accuracy was LogisticRegression(C=100, max_iter=10, multi_class='multinomial',\n",
      "                   solver='newton-cg')\n",
      "Test perofrmance\n",
      "              precision    recall  f1-score   support\n",
      "\n",
      "         0.0       1.00      1.00      1.00        20\n",
      "         1.0       1.00      0.95      0.97        19\n",
      "         2.0       1.00      1.00      1.00        21\n",
      "         3.0       1.00      1.00      1.00        22\n",
      "         4.0       1.00      1.00      1.00        18\n",
      "         5.0       0.89      1.00      0.94        17\n",
      "         6.0       1.00      1.00      1.00        16\n",
      "         7.0       1.00      1.00      1.00        21\n",
      "         8.0       1.00      0.93      0.97        15\n",
      "         9.0       0.91      0.91      0.91        11\n",
      "\n",
      "    accuracy                           0.98       180\n",
      "   macro avg       0.98      0.98      0.98       180\n",
      "weighted avg       0.98      0.98      0.98       180\n",
      "\n"
     ]
    },
    {
     "data": {
      "text/plain": [
       "<AxesSubplot:>"
      ]
     },
     "execution_count": 18,
     "metadata": {},
     "output_type": "execute_result"
    },
    {
     "data": {
      "image/png": "[encoded data removed]",
      "text/plain": [
       "<Figure size 720x504 with 2 Axes>"
      ]
     },
     "metadata": {
      "needs_background": "light"
     },
     "output_type": "display_data"
    }
   ],
   "source": [
    "from sklearn.metrics import confusion_matrix\n",
    "from sklearn.metrics import classification_report\n",
    "import seaborn as sn\n",
    "\n",
    "print(f\"The best model using Accuracy was {models[46]}\")\n",
    "\n",
    "y_pred = models[46].predict(x_test)\n",
    "\n",
    "print(f\"Test perofrmance\") \n",
    "print(f\"{classification_report(y_test, y_pred)}\")\n",
    "\n",
    "cm_lr = confusion_matrix(y_test, y_pred)\n",
    "plt.figure(figsize = (10,7))\n",
    "sn.heatmap(cm_lr, annot=True)"
   ]
  },
  {
   "cell_type": "markdown",
   "metadata": {},
   "source": [
    "Ainda aqui vamos tentar comprar esses resultados com os resultados de um modelo com os mesmos parâmetros mas treinando com dados não normalizados para ver o que acontece de diferente"
   ]
  },
  {
   "cell_type": "code",
   "execution_count": 19,
   "metadata": {},
   "outputs": [],
   "source": [
    "train_nn, test_nn = train_test_split(data, test_size=0.1,  random_state=1)\n",
    "x_train_nn = train_nn.loc[:, train.columns != 'target']\n",
    "y_train_nn = train_nn['target']\n",
    "x_test_nn = test_nn.loc[:, test.columns != 'target']\n",
    "y_test_nn = test_nn['target']\n",
    "\n",
    "for train_set, val_set in kf.split(train_nn):\n",
    "    clf_lr_nn =  LogisticRegression(multi_class='multinomial',\n",
    "            penalty='l2', #lasso regression\n",
    "            solver='newton-cg',\n",
    "            max_iter=10,\n",
    "            C=100).fit(x_train_nn.to_numpy()[train_set], y_train_nn.iloc[train_set])\n"
   ]
  },
  {
   "cell_type": "code",
   "execution_count": 20,
   "metadata": {},
   "outputs": [
    {
     "name": "stdout",
     "output_type": "stream",
     "text": [
      "The best model using Accuracy was LogisticRegression(C=100, max_iter=10, multi_class='multinomial',\n",
      "                   solver='newton-cg')\n",
      "Test perofrmance\n",
      "              precision    recall  f1-score   support\n",
      "\n",
      "         0.0       1.00      1.00      1.00        20\n",
      "         1.0       0.94      0.89      0.92        19\n",
      "         2.0       1.00      1.00      1.00        21\n",
      "         3.0       1.00      1.00      1.00        22\n",
      "         4.0       0.95      1.00      0.97        18\n",
      "         5.0       0.89      0.94      0.91        17\n",
      "         6.0       1.00      1.00      1.00        16\n",
      "         7.0       1.00      1.00      1.00        21\n",
      "         8.0       1.00      0.93      0.97        15\n",
      "         9.0       0.91      0.91      0.91        11\n",
      "\n",
      "    accuracy                           0.97       180\n",
      "   macro avg       0.97      0.97      0.97       180\n",
      "weighted avg       0.97      0.97      0.97       180\n",
      "\n"
     ]
    },
    {
     "data": {
      "text/plain": [
       "<AxesSubplot:>"
      ]
     },
     "execution_count": 20,
     "metadata": {},
     "output_type": "execute_result"
    },
    {
     "data": {
      "image/png": "[encoded data removed]",
      "text/plain": [
       "<Figure size 720x504 with 2 Axes>"
      ]
     },
     "metadata": {
      "needs_background": "light"
     },
     "output_type": "display_data"
    }
   ],
   "source": [
    "print(f\"The best model using Accuracy was {clf_lr_nn}\")\n",
    "\n",
    "y_pred = clf_lr_nn.predict(x_test_nn)\n",
    "\n",
    "print(f\"Test perofrmance\") \n",
    "print(f\"{classification_report(y_test_nn, y_pred)}\")\n",
    "\n",
    "cm_lr = confusion_matrix(y_test, y_pred)\n",
    "plt.figure(figsize = (10,7))\n",
    "sn.heatmap(cm_lr, annot=True)"
   ]
  },
  {
   "cell_type": "markdown",
   "metadata": {},
   "source": [
    "Como podemos ver de fato a normalização teve um impacto final positivo, ainda que não extraordinário, algo que deve favorecer isso é os numeros do dataser estarem na mesma escala"
   ]
  },
  {
   "cell_type": "markdown",
   "metadata": {},
   "source": [
    "### Test OneVsOne Classifier <a name=\"title10\" />"
   ]
  },
  {
   "cell_type": "markdown",
   "metadata": {},
   "source": [
    "Como pode ser visto abaixo o modelo também possui resultados bem altos, olhando número a número pode-se notar um desempenho levemente superior (cosndierando o F1 Score) no número 9 e no número 1, tendo tanto precisão quanto recall melhores"
   ]
  },
  {
   "cell_type": "code",
   "execution_count": 21,
   "metadata": {},
   "outputs": [
    {
     "name": "stdout",
     "output_type": "stream",
     "text": [
      "The best model using Accuracy was OneVsOneClassifier(estimator=LinearSVC(C=10, loss='hinge', max_iter=100,\n",
      "                                       random_state=0))\n",
      "Test perofrmance\n",
      "              precision    recall  f1-score   support\n",
      "\n",
      "         0.0       1.00      1.00      1.00        20\n",
      "         1.0       1.00      1.00      1.00        19\n",
      "         2.0       1.00      1.00      1.00        21\n",
      "         3.0       1.00      1.00      1.00        22\n",
      "         4.0       1.00      1.00      1.00        18\n",
      "         5.0       0.89      1.00      0.94        17\n",
      "         6.0       1.00      1.00      1.00        16\n",
      "         7.0       1.00      1.00      1.00        21\n",
      "         8.0       1.00      0.93      0.97        15\n",
      "         9.0       1.00      0.91      0.95        11\n",
      "\n",
      "    accuracy                           0.99       180\n",
      "   macro avg       0.99      0.98      0.99       180\n",
      "weighted avg       0.99      0.99      0.99       180\n",
      "\n"
     ]
    },
    {
     "data": {
      "text/plain": [
       "<AxesSubplot:>"
      ]
     },
     "execution_count": 21,
     "metadata": {},
     "output_type": "execute_result"
    },
    {
     "data": {
      "image/png": "[encoded data removed]",
      "text/plain": [
       "<Figure size 720x504 with 2 Axes>"
      ]
     },
     "metadata": {
      "needs_background": "light"
     },
     "output_type": "display_data"
    }
   ],
   "source": [
    "print(f\"The best model using Accuracy was {models2[6]}\")\n",
    "\n",
    "y_pred = models2[6].predict(x_test)\n",
    "\n",
    "print(f\"Test perofrmance\") \n",
    "print(f\"{classification_report(y_test, y_pred)}\")\n",
    "\n",
    "cm_oo = confusion_matrix(y_test, y_pred)\n",
    "plt.figure(figsize = (10,7))\n",
    "sn.heatmap(cm_oo, annot=True)"
   ]
  },
  {
   "cell_type": "markdown",
   "metadata": {},
   "source": [
    "## Conclusão"
   ]
  },
  {
   "cell_type": "markdown",
   "metadata": {},
   "source": [
    "Como apresentado acima os dois métodos tiveram resultados muito semelhantes no final, com o segundo método sendo levemente superior, mas ainda sim com números muito altos. \n",
    "\n",
    "A ideia principal era a comparação entre dois métodos de classificação, um sendo o LogisticRegression com multiplas classes e o segundo a aplicação de One Vs One com o método de classicação binário LinearSCV, para esse dataset usando o KFold os resultados acabaram sendo muito próximos e com bons resultados, ainda que os algoritmos sejam tão distintos. \n",
    "\n",
    "Por fim um último comentário, a aleatoriedade do desbalanceamento das classes pode ter favorecido um pouco os bons números no teste, que foram iguais ou superiores até que o de validação, já que o que aparenta ser a classe mais problemática (o 9) foi a com menor quantidade de testes."
   ]
  }
 ],
 "metadata": {
  "kernelspec": {
   "display_name": "Python 3",
   "language": "python",
   "name": "python3"
  },
  "language_info": {
   "codemirror_mode": {
    "name": "ipython",
    "version": 3
   },
   "file_extension": ".py",
   "mimetype": "text/x-python",
   "name": "python",
   "nbconvert_exporter": "python",
   "pygments_lexer": "ipython3",
   "version": "3.8.8"
  }
 },
 "nbformat": 4,
 "nbformat_minor": 4
}
