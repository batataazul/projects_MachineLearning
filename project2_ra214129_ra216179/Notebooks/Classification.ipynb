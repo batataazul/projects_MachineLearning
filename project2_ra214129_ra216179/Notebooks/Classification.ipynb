{
 "cells": [
  {
   "cell_type": "markdown",
   "metadata": {},
   "source": [
    "# Projeto 2 - Parte II -  Classificação"
   ]
  },
  {
   "cell_type": "markdown",
   "metadata": {},
   "source": [
    "Esse notebook tem como objetivo explorar os algoritmos de aprendizado supervisionado para a classificação em cima do dataset Pen-Based Recognition of Handwritten Digits Data Set. \n"
   ]
  },
  {
   "cell_type": "markdown",
   "metadata": {},
   "source": [
    "O andamento dessa parte do projeto vai seguir de acordo com as seguintes seções:\n",
    "* [Load dataset](#title1)\n",
    "* [Data split](#title2)\n",
    "* [Pre-processing](#title3)\n",
    "* [Vizualization](#title4)\n",
    "* [Training Logistic Regression Multiclass](#title5)\n",
    "* [Training OneVsOne Classifier](#title6)\n",
    "* [Evaluation Logistic Regression Multiclass](#title7)\n",
    "* [Evaluation OneVsOne Classifier](#title8)\n",
    "* [Test Logistic Regression Multiclass](#title9)\n",
    "* [Test OneVsOne Classifier](#title10)"
   ]
  },
  {
   "cell_type": "markdown",
   "metadata": {},
   "source": [
    "### Load Dataset <a name=\"title1\" />"
   ]
  },
  {
   "cell_type": "markdown",
   "metadata": {},
   "source": [
    "Primeiramente vamos importar as bibliotecas importantes para essa parte do trabalho"
   ]
  },
  {
   "cell_type": "code",
   "execution_count": 1,
   "metadata": {},
   "outputs": [],
   "source": [
    "import sklearn\n",
    "import pandas as pd\n",
    "import numpy as np\n",
    "from sklearn.model_selection import train_test_split, KFold\n",
    "from sklearn.datasets import load_digits"
   ]
  },
  {
   "cell_type": "markdown",
   "metadata": {},
   "source": [
    "Em seguida, iremos carregar o nosso dataset e viualizar algumas informações básicas sobre ele"
   ]
  },
  {
   "cell_type": "code",
   "execution_count": 2,
   "metadata": {},
   "outputs": [],
   "source": [
    "digits = load_digits()\n",
    "data = pd.DataFrame(data= np.c_[digits['data'], digits['target']],\n",
    "                     columns= digits['feature_names'] + ['target'])"
   ]
  },
  {
   "cell_type": "code",
   "execution_count": 3,
   "metadata": {},
   "outputs": [
    {
     "name": "stdout",
     "output_type": "stream",
     "text": [
      "Shape (1797, 65)\n"
     ]
    }
   ],
   "source": [
    "print(\"Shape\", data.shape)"
   ]
  },
  {
   "cell_type": "code",
   "execution_count": 4,
   "metadata": {},
   "outputs": [
    {
     "data": {
      "text/plain": [
       "Index(['pixel_0_0', 'pixel_0_1', 'pixel_0_2', 'pixel_0_3', 'pixel_0_4',\n",
       "       'pixel_0_5', 'pixel_0_6', 'pixel_0_7', 'pixel_1_0', 'pixel_1_1',\n",
       "       'pixel_1_2', 'pixel_1_3', 'pixel_1_4', 'pixel_1_5', 'pixel_1_6',\n",
       "       'pixel_1_7', 'pixel_2_0', 'pixel_2_1', 'pixel_2_2', 'pixel_2_3',\n",
       "       'pixel_2_4', 'pixel_2_5', 'pixel_2_6', 'pixel_2_7', 'pixel_3_0',\n",
       "       'pixel_3_1', 'pixel_3_2', 'pixel_3_3', 'pixel_3_4', 'pixel_3_5',\n",
       "       'pixel_3_6', 'pixel_3_7', 'pixel_4_0', 'pixel_4_1', 'pixel_4_2',\n",
       "       'pixel_4_3', 'pixel_4_4', 'pixel_4_5', 'pixel_4_6', 'pixel_4_7',\n",
       "       'pixel_5_0', 'pixel_5_1', 'pixel_5_2', 'pixel_5_3', 'pixel_5_4',\n",
       "       'pixel_5_5', 'pixel_5_6', 'pixel_5_7', 'pixel_6_0', 'pixel_6_1',\n",
       "       'pixel_6_2', 'pixel_6_3', 'pixel_6_4', 'pixel_6_5', 'pixel_6_6',\n",
       "       'pixel_6_7', 'pixel_7_0', 'pixel_7_1', 'pixel_7_2', 'pixel_7_3',\n",
       "       'pixel_7_4', 'pixel_7_5', 'pixel_7_6', 'pixel_7_7', 'target'],\n",
       "      dtype='object')"
      ]
     },
     "execution_count": 4,
     "metadata": {},
     "output_type": "execute_result"
    }
   ],
   "source": [
    "data.columns"
   ]
  },
  {
   "cell_type": "code",
   "execution_count": 5,
   "metadata": {},
   "outputs": [
    {
     "name": "stdout",
     "output_type": "stream",
     "text": [
      "First line\n"
     ]
    },
    {
     "data": {
      "text/plain": [
       "pixel_0_0     0.0\n",
       "pixel_0_1     0.0\n",
       "pixel_0_2     5.0\n",
       "pixel_0_3    13.0\n",
       "pixel_0_4     9.0\n",
       "             ... \n",
       "pixel_7_4    10.0\n",
       "pixel_7_5     0.0\n",
       "pixel_7_6     0.0\n",
       "pixel_7_7     0.0\n",
       "target        0.0\n",
       "Name: 0, Length: 65, dtype: float64"
      ]
     },
     "execution_count": 5,
     "metadata": {},
     "output_type": "execute_result"
    }
   ],
   "source": [
    "print(\"First line\")\n",
    "data.iloc[0]"
   ]
  },
  {
   "cell_type": "markdown",
   "metadata": {},
   "source": [
    "Uma informação muito importante é entendermos a distibuição de classes no dataset que como podemos ver abaixo é bem próxima para todas elas"
   ]
  },
  {
   "cell_type": "code",
   "execution_count": 6,
   "metadata": {},
   "outputs": [
    {
     "data": {
      "text/plain": [
       "<AxesSubplot:>"
      ]
     },
     "execution_count": 6,
     "metadata": {},
     "output_type": "execute_result"
    },
    {
     "data": {
      "image/png": "[encoded data removed]",
      "text/plain": [
       "<Figure size 432x288 with 1 Axes>"
      ]
     },
     "metadata": {
      "needs_background": "light"
     },
     "output_type": "display_data"
    }
   ],
   "source": [
    "data['target'].hist()"
   ]
  },
  {
   "cell_type": "markdown",
   "metadata": {},
   "source": [
    "### Data Split <a name=\"title2\" />"
   ]
  },
  {
   "cell_type": "markdown",
   "metadata": {},
   "source": []
  },
  {
   "cell_type": "code",
   "execution_count": 7,
   "metadata": {},
   "outputs": [
    {
     "name": "stdout",
     "output_type": "stream",
     "text": [
      "Train shape (1617, 65)\n",
      "Test shape (180, 65)\n"
     ]
    }
   ],
   "source": [
    "train, test = train_test_split(data, test_size=0.1,  random_state=11)\n",
    "print(\"Train shape\", train.shape)\n",
    "print(\"Test shape\", test.shape)"
   ]
  },
  {
   "cell_type": "code",
   "execution_count": 8,
   "metadata": {},
   "outputs": [
    {
     "data": {
      "text/plain": [
       "<AxesSubplot:>"
      ]
     },
     "execution_count": 8,
     "metadata": {},
     "output_type": "execute_result"
    },
    {
     "data": {
      "image/png": "[encoded data removed]",
      "text/plain": [
       "<Figure size 432x288 with 1 Axes>"
      ]
     },
     "metadata": {
      "needs_background": "light"
     },
     "output_type": "display_data"
    }
   ],
   "source": [
    "train['target'].hist()"
   ]
  },
  {
   "cell_type": "code",
   "execution_count": 9,
   "metadata": {},
   "outputs": [
    {
     "data": {
      "text/plain": [
       "<AxesSubplot:>"
      ]
     },
     "execution_count": 9,
     "metadata": {},
     "output_type": "execute_result"
    },
    {
     "data": {
      "image/png": "[encoded data removed]",
      "text/plain": [
       "<Figure size 432x288 with 1 Axes>"
      ]
     },
     "metadata": {
      "needs_background": "light"
     },
     "output_type": "display_data"
    }
   ],
   "source": [
    "test['target'].hist()"
   ]
  },
  {
   "cell_type": "code",
   "execution_count": 10,
   "metadata": {},
   "outputs": [
    {
     "name": "stdout",
     "output_type": "stream",
     "text": [
      "Train dimensiom: (1617, 64) (1617,)\n",
      "Test dimensiom: (180, 64) (180,)\n"
     ]
    }
   ],
   "source": [
    "x_train = train.loc[:, train.columns != 'target']\n",
    "y_train = train['target']\n",
    "x_test = test.loc[:, test.columns != 'target']\n",
    "y_test = test['target']\n",
    "print(\"Train dimensiom:\", x_train.shape, y_train.shape)\n",
    "print(\"Test dimensiom:\", x_test.shape, y_test.shape)"
   ]
  },
  {
   "cell_type": "code",
   "execution_count": 11,
   "metadata": {},
   "outputs": [
    {
     "name": "stdout",
     "output_type": "stream",
     "text": [
      "KFold(n_splits=4, random_state=11, shuffle=True)\n"
     ]
    },
    {
     "data": {
      "text/plain": [
       "4"
      ]
     },
     "execution_count": 11,
     "metadata": {},
     "output_type": "execute_result"
    }
   ],
   "source": [
    "kf = KFold(n_splits=4, shuffle=True, random_state= 11)\n",
    "print(kf)\n",
    "kf.get_n_splits(train)"
   ]
  },
  {
   "cell_type": "markdown",
   "metadata": {},
   "source": [
    "### Pre-processing <a name=\"title3\" />"
   ]
  },
  {
   "cell_type": "code",
   "execution_count": 12,
   "metadata": {},
   "outputs": [
    {
     "name": "stdout",
     "output_type": "stream",
     "text": [
      "0.32031106631923656 0.0\n",
      "0.30866412046611236 0.0\n"
     ]
    }
   ],
   "source": [
    "from sklearn.preprocessing import normalize\n",
    "x_train = normalize(x_train, norm = \"l2\")\n",
    "print(x_train.max(), x_train.min())\n",
    "x_test = normalize(x_test, norm = \"l2\")\n",
    "print(x_test.max(), x_test.min())"
   ]
  },
  {
   "cell_type": "markdown",
   "metadata": {},
   "source": [
    "### Vizualization <a name=\"title4\" />"
   ]
  },
  {
   "cell_type": "code",
   "execution_count": 13,
   "metadata": {},
   "outputs": [
    {
     "data": {
      "text/plain": [
       "(1617, 2)"
      ]
     },
     "execution_count": 13,
     "metadata": {},
     "output_type": "execute_result"
    }
   ],
   "source": [
    "from sklearn.manifold import TSNE\n",
    "train_embedded = TSNE(n_components=2, random_state=11).fit_transform(x_train)\n",
    "train_embedded.shape"
   ]
  },
  {
   "cell_type": "code",
   "execution_count": 14,
   "metadata": {},
   "outputs": [
    {
     "data": {
      "image/png": "[encoded data removed]",
      "text/plain": [
       "<Figure size 432x288 with 1 Axes>"
      ]
     },
     "metadata": {
      "needs_background": "light"
     },
     "output_type": "display_data"
    }
   ],
   "source": [
    "import matplotlib.pyplot as plt\n",
    "colors = [\"red\", \"green\", \"yellow\", \"brown\", \"black\", \"purple\", \"orange\", \"gray\", \"pink\", \"blue\"]\n",
    "color_by_target = []\n",
    "fig, ax = plt.subplots()\n",
    "for i in range(10):\n",
    "    color_i = []\n",
    "    for j in range(1617):\n",
    "        if list(y_train)[j] == i:\n",
    "            color_i.append(train_embedded[j])\n",
    "    color_by_target.append(color_i)\n",
    "for i in range(10):\n",
    "    for j in range(len(color_by_target[i])):\n",
    "        if j == 0:\n",
    "            ax.scatter(color_by_target[i][j][0] , color_by_target[i][j][1] , color = colors[i], alpha=0.7, label=str(i))\n",
    "        else:\n",
    "            ax.scatter(color_by_target[i][j][0] , color_by_target[i][j][1] , color = colors[i], alpha=0.7)\n",
    "ax.legend(loc='center left', bbox_to_anchor=(1, 0.5))\n",
    "plt.show()"
   ]
  },
  {
   "cell_type": "markdown",
   "metadata": {},
   "source": [
    "### Training Logistic Regression Multiclass <a name=\"title5\" />"
   ]
  },
  {
   "cell_type": "code",
   "execution_count": 17,
   "metadata": {},
   "outputs": [
    {
     "name": "stdout",
     "output_type": "stream",
     "text": [
      "l2\n",
      "Index 0- Hyp: ['l2', 'lbfgs', 0.01, 1] Accur: 0.4862043148759321  f1 score: 0.44993882311850114\n",
      "Index 1- Hyp: ['l2', 'lbfgs', 0.01, 10] Accur: 0.6494025791468035  f1 score: 0.6147184373394357\n",
      "Index 2- Hyp: ['l2', 'lbfgs', 0.01, 100] Accur: 0.6494025791468035  f1 score: 0.6147184373394357\n",
      "Index 3- Hyp: ['l2', 'lbfgs', 0.01, 1000] Accur: 0.6494025791468035  f1 score: 0.6147184373394357\n",
      "Index 4- Hyp: ['l2', 'lbfgs', 0.01, 10000] Accur: 0.6494025791468035  f1 score: 0.6147184373394357\n",
      "Index 5- Hyp: ['l2', 'lbfgs', 0.1, 1] Accur: 0.4862043148759321  f1 score: 0.44993882311850114\n",
      "Index 6- Hyp: ['l2', 'lbfgs', 0.1, 10] Accur: 0.8961068329055127  f1 score: 0.8932557827267369\n",
      "Index 7- Hyp: ['l2', 'lbfgs', 0.1, 100] Accur: 0.897344456667889  f1 score: 0.8944735561874939\n",
      "Index 8- Hyp: ['l2', 'lbfgs', 0.1, 1000] Accur: 0.897344456667889  f1 score: 0.8944735561874939\n",
      "Index 9- Hyp: ['l2', 'lbfgs', 0.1, 10000] Accur: 0.897344456667889  f1 score: 0.8944735561874939\n",
      "Index 10- Hyp: ['l2', 'lbfgs', 1, 1] Accur: 0.4862043148759321  f1 score: 0.44993882311850114\n",
      "Index 11- Hyp: ['l2', 'lbfgs', 1, 10] Accur: 0.9381539542843174  f1 score: 0.9370329429076517\n",
      "Index 12- Hyp: ['l2', 'lbfgs', 1, 100] Accur: 0.9393931059772644  f1 score: 0.9382023622382791\n",
      "Index 13- Hyp: ['l2', 'lbfgs', 1, 1000] Accur: 0.9393931059772644  f1 score: 0.9382023622382791\n",
      "Index 14- Hyp: ['l2', 'lbfgs', 1, 10000] Accur: 0.9393931059772644  f1 score: 0.9382023622382791\n",
      "Index 15- Hyp: ['l2', 'lbfgs', 10, 1] Accur: 0.4862043148759321  f1 score: 0.44993882311850114\n",
      "Index 16- Hyp: ['l2', 'lbfgs', 10, 10] Accur: 0.925796051827405  f1 score: 0.924221879695134\n",
      "Index 17- Hyp: ['l2', 'lbfgs', 10, 100] Accur: 0.9628926781567044  f1 score: 0.9621562045498563\n",
      "Index 18- Hyp: ['l2', 'lbfgs', 10, 1000] Accur: 0.9628926781567044  f1 score: 0.9621562045498563\n",
      "Index 19- Hyp: ['l2', 'lbfgs', 10, 10000] Accur: 0.9628926781567044  f1 score: 0.9621562045498563\n",
      "Index 20- Hyp: ['l2', 'lbfgs', 100, 1] Accur: 0.4862043148759321  f1 score: 0.44993882311850114\n",
      "Index 21- Hyp: ['l2', 'lbfgs', 100, 10] Accur: 0.9233162205109401  f1 score: 0.9214140326414542\n",
      "Index 22- Hyp: ['l2', 'lbfgs', 100, 100] Accur: 0.9696980809192031  f1 score: 0.9687956122508693\n",
      "Index 23- Hyp: ['l2', 'lbfgs', 100, 1000] Accur: 0.9696980809192031  f1 score: 0.9687956122508693\n",
      "Index 24- Hyp: ['l2', 'lbfgs', 100, 10000] Accur: 0.9696980809192031  f1 score: 0.9687956122508693\n",
      "Index 25- Hyp: ['l2', 'newton-cg', 0.01, 1] Accur: 0.4862043148759321  f1 score: 0.44993882311850114\n",
      "Index 26- Hyp: ['l2', 'newton-cg', 0.01, 10] Accur: 0.6494025791468035  f1 score: 0.6147184373394357\n",
      "Index 27- Hyp: ['l2', 'newton-cg', 0.01, 100] Accur: 0.6494025791468035  f1 score: 0.6147184373394357\n",
      "Index 28- Hyp: ['l2', 'newton-cg', 0.01, 1000] Accur: 0.6494025791468035  f1 score: 0.6147184373394357\n",
      "Index 29- Hyp: ['l2', 'newton-cg', 0.01, 10000] Accur: 0.6494025791468035  f1 score: 0.6147184373394357\n",
      "Index 30- Hyp: ['l2', 'newton-cg', 0.1, 1] Accur: 0.8515707126268183  f1 score: 0.8428044946104197\n",
      "Index 31- Hyp: ['l2', 'newton-cg', 0.1, 10] Accur: 0.897344456667889  f1 score: 0.8944735561874939\n",
      "Index 32- Hyp: ['l2', 'newton-cg', 0.1, 100] Accur: 0.897344456667889  f1 score: 0.8944735561874939\n",
      "Index 33- Hyp: ['l2', 'newton-cg', 0.1, 1000] Accur: 0.897344456667889  f1 score: 0.8944735561874939\n",
      "Index 34- Hyp: ['l2', 'newton-cg', 0.1, 10000] Accur: 0.897344456667889  f1 score: 0.8944735561874939\n",
      "Index 35- Hyp: ['l2', 'newton-cg', 1, 1] Accur: 0.858373059528175  f1 score: 0.8497530093017356\n",
      "Index 36- Hyp: ['l2', 'newton-cg', 1, 10] Accur: 0.9393931059772644  f1 score: 0.9382023622382791\n",
      "Index 37- Hyp: ['l2', 'newton-cg', 1, 100] Accur: 0.9393931059772644  f1 score: 0.9382023622382791\n",
      "Index 38- Hyp: ['l2', 'newton-cg', 1, 1000] Accur: 0.9393931059772644  f1 score: 0.9382023622382791\n",
      "Index 39- Hyp: ['l2', 'newton-cg', 1, 10000] Accur: 0.9393931059772644  f1 score: 0.9382023622382791\n",
      "Index 40- Hyp: ['l2', 'newton-cg', 10, 1] Accur: 0.8589918714093632  f1 score: 0.8503314168495213\n",
      "Index 41- Hyp: ['l2', 'newton-cg', 10, 10] Accur: 0.9628926781567044  f1 score: 0.9621562045498563\n",
      "Index 42- Hyp: ['l2', 'newton-cg', 10, 100] Accur: 0.9628926781567044  f1 score: 0.9621562045498563\n",
      "Index 43- Hyp: ['l2', 'newton-cg', 10, 1000] Accur: 0.9628926781567044  f1 score: 0.9621562045498563\n",
      "Index 44- Hyp: ['l2', 'newton-cg', 10, 10000] Accur: 0.9628926781567044  f1 score: 0.9621562045498563\n",
      "Index 45- Hyp: ['l2', 'newton-cg', 100, 1] Accur: 0.8589918714093632  f1 score: 0.8503314168495213\n",
      "Index 46- Hyp: ['l2', 'newton-cg', 100, 10] Accur: 0.9709357046815792  f1 score: 0.970088987212618\n",
      "Index 47- Hyp: ['l2', 'newton-cg', 100, 100] Accur: 0.9696980809192031  f1 score: 0.9687956122508693\n",
      "Index 48- Hyp: ['l2', 'newton-cg', 100, 1000] Accur: 0.9696980809192031  f1 score: 0.9687956122508693\n",
      "Index 49- Hyp: ['l2', 'newton-cg', 100, 10000] Accur: 0.9696980809192031  f1 score: 0.9687956122508693\n",
      "Index 50- Hyp: ['l2', 'sag', 0.01, 1] Accur: 0.18428676200953428  f1 score: 0.09491742677828452\n",
      "Index 51- Hyp: ['l2', 'sag', 0.01, 10] Accur: 0.6432052927514974  f1 score: 0.6032024643037146\n",
      "Index 52- Hyp: ['l2', 'sag', 0.01, 100] Accur: 0.6487837672656154  f1 score: 0.6137387767451243\n",
      "Index 53- Hyp: ['l2', 'sag', 0.01, 1000] Accur: 0.6487837672656155  f1 score: 0.6139378484655271\n",
      "Index 54- Hyp: ['l2', 'sag', 0.01, 10000] Accur: 0.6500213910279917  f1 score: 0.615241419608024\n",
      "Index 55- Hyp: ['l2', 'sag', 0.1, 1] Accur: 0.735344089964552  f1 score: 0.7108509902314147\n",
      "Index 56- Hyp: ['l2', 'sag', 0.1, 10] Accur: 0.897344456667889  f1 score: 0.8944203776170739\n",
      "Index 57- Hyp: ['l2', 'sag', 0.1, 100] Accur: 0.897344456667889  f1 score: 0.8944735561874939\n",
      "Index 58- Hyp: ['l2', 'sag', 0.1, 1000] Accur: 0.897344456667889  f1 score: 0.8944735561874939\n",
      "Index 59- Hyp: ['l2', 'sag', 0.1, 10000] Accur: 0.897344456667889  f1 score: 0.8944735561874939\n",
      "Index 60- Hyp: ['l2', 'sag', 1, 1] Accur: 0.7600629507395185  f1 score: 0.7266038068145435\n",
      "Index 61- Hyp: ['l2', 'sag', 1, 10] Accur: 0.9393931059772644  f1 score: 0.9384702115347944\n",
      "Index 62- Hyp: ['l2', 'sag', 1, 100] Accur: 0.9393931059772644  f1 score: 0.9382023622382791\n",
      "Index 63- Hyp: ['l2', 'sag', 1, 1000] Accur: 0.9393931059772644  f1 score: 0.9382023622382791\n",
      "Index 64- Hyp: ['l2', 'sag', 1, 10000] Accur: 0.9393931059772644  f1 score: 0.9382023622382791\n",
      "Index 65- Hyp: ['l2', 'sag', 10, 1] Accur: 0.8645734017846229  f1 score: 0.8638022920703452\n",
      "Index 66- Hyp: ['l2', 'sag', 10, 10] Accur: 0.9505256081163671  f1 score: 0.9503687998661883\n",
      "Index 67- Hyp: ['l2', 'sag', 10, 100] Accur: 0.9628926781567044  f1 score: 0.9621562045498563\n",
      "Index 68- Hyp: ['l2', 'sag', 10, 1000] Accur: 0.9628926781567044  f1 score: 0.9621562045498563\n",
      "Index 69- Hyp: ['l2', 'sag', 10, 10000] Accur: 0.9628926781567044  f1 score: 0.9621562045498563\n",
      "Index 70- Hyp: ['l2', 'sag', 100, 1] Accur: 0.8337000366703337  f1 score: 0.8330145542860666\n",
      "Index 71- Hyp: ['l2', 'sag', 100, 10] Accur: 0.9517525363647477  f1 score: 0.951128897624895\n",
      "Index 72- Hyp: ['l2', 'sag', 100, 100] Accur: 0.9703168928003911  f1 score: 0.9695551104889296\n",
      "Index 73- Hyp: ['l2', 'sag', 100, 1000] Accur: 0.9696980809192031  f1 score: 0.9687956122508693\n",
      "Index 74- Hyp: ['l2', 'sag', 100, 10000] Accur: 0.9696980809192031  f1 score: 0.9687956122508693\n",
      "Index 75- Hyp: ['l2', 'saga', 0.01, 1] Accur: 0.22386780344701135  f1 score: 0.13887970145556947\n",
      "Index 76- Hyp: ['l2', 'saga', 0.01, 10] Accur: 0.6351653220877644  f1 score: 0.5947635098765032\n",
      "Index 77- Hyp: ['l2', 'saga', 0.01, 100] Accur: 0.6494025791468035  f1 score: 0.6147184373394357\n",
      "Index 78- Hyp: ['l2', 'saga', 0.01, 1000] Accur: 0.6494025791468035  f1 score: 0.6147184373394357\n",
      "Index 79- Hyp: ['l2', 'saga', 0.01, 10000] Accur: 0.6494025791468035  f1 score: 0.6147184373394357\n",
      "Index 80- Hyp: ['l2', 'saga', 0.1, 1] Accur: 0.7723750152793059  f1 score: 0.7681874950543341\n",
      "Index 81- Hyp: ['l2', 'saga', 0.1, 10] Accur: 0.8973444566678891  f1 score: 0.8942389409692357\n",
      "Index 82- Hyp: ['l2', 'saga', 0.1, 100] Accur: 0.897344456667889  f1 score: 0.8944735561874939\n",
      "Index 83- Hyp: ['l2', 'saga', 0.1, 1000] Accur: 0.897344456667889  f1 score: 0.8944735561874939\n",
      "Index 84- Hyp: ['l2', 'saga', 0.1, 10000] Accur: 0.897344456667889  f1 score: 0.8944735561874939\n",
      "Index 85- Hyp: ['l2', 'saga', 1, 1] Accur: 0.8991901967974575  f1 score: 0.8987211943590896\n",
      "Index 86- Hyp: ['l2', 'saga', 1, 10] Accur: 0.9393931059772644  f1 score: 0.9382904202519142\n",
      "Index 87- Hyp: ['l2', 'saga', 1, 100] Accur: 0.9393931059772644  f1 score: 0.9382023622382791\n",
      "Index 88- Hyp: ['l2', 'saga', 1, 1000] Accur: 0.9393931059772644  f1 score: 0.9382023622382791\n",
      "Index 89- Hyp: ['l2', 'saga', 1, 10000] Accur: 0.9393931059772644  f1 score: 0.9382023622382791\n",
      "Index 90- Hyp: ['l2', 'saga', 10, 1] Accur: 0.9189891211343356  f1 score: 0.91853977694968\n",
      "Index 91- Hyp: ['l2', 'saga', 10, 10] Accur: 0.9628911502261337  f1 score: 0.9621237667673537\n",
      "Index 92- Hyp: ['l2', 'saga', 10, 100] Accur: 0.9628926781567044  f1 score: 0.9621562045498563\n",
      "Index 93- Hyp: ['l2', 'saga', 10, 1000] Accur: 0.9628926781567044  f1 score: 0.9621562045498563\n",
      "Index 94- Hyp: ['l2', 'saga', 10, 10000] Accur: 0.9628926781567044  f1 score: 0.9621562045498563\n",
      "Index 95- Hyp: ['l2', 'saga', 100, 1] Accur: 0.9134198142036426  f1 score: 0.9106613067344965\n",
      "Index 96- Hyp: ['l2', 'saga', 100, 10] Accur: 0.9622753942060871  f1 score: 0.9614615291993471\n",
      "Index 97- Hyp: ['l2', 'saga', 100, 100] Accur: 0.9703184207309619  f1 score: 0.9694781179144514\n",
      "Index 98- Hyp: ['l2', 'saga', 100, 1000] Accur: 0.9696980809192031  f1 score: 0.9687956122508693\n",
      "Index 99- Hyp: ['l2', 'saga', 100, 10000] Accur: 0.9696980809192031  f1 score: 0.9687956122508693\n",
      "none\n",
      "Index 100- Hyp: ['none', 'lbfgs', 0.01, 1] Accur: 0.4862043148759321  f1 score: 0.44993882311850114\n",
      "Index 101- Hyp: ['none', 'lbfgs', 0.01, 10] Accur: 0.9239365603226989  f1 score: 0.9220266072964176\n",
      "Index 102- Hyp: ['none', 'lbfgs', 0.01, 100] Accur: 0.9567060872753941  f1 score: 0.9559439174112603\n",
      "Index 103- Hyp: ['none', 'lbfgs', 0.01, 1000] Accur: 0.9567060872753941  f1 score: 0.9559439174112603\n",
      "Index 104- Hyp: ['none', 'lbfgs', 0.01, 10000] Accur: 0.9567060872753941  f1 score: 0.9559439174112603\n",
      "Index 105- Hyp: ['none', 'lbfgs', 0.1, 1] Accur: 0.4862043148759321  f1 score: 0.44993882311850114\n",
      "Index 106- Hyp: ['none', 'lbfgs', 0.1, 10] Accur: 0.9239365603226989  f1 score: 0.9220266072964176\n",
      "Index 107- Hyp: ['none', 'lbfgs', 0.1, 100] Accur: 0.9567060872753941  f1 score: 0.9559439174112603\n",
      "Index 108- Hyp: ['none', 'lbfgs', 0.1, 1000] Accur: 0.9567060872753941  f1 score: 0.9559439174112603\n",
      "Index 109- Hyp: ['none', 'lbfgs', 0.1, 10000] Accur: 0.9567060872753941  f1 score: 0.9559439174112603\n",
      "Index 110- Hyp: ['none', 'lbfgs', 1, 1] Accur: 0.4862043148759321  f1 score: 0.44993882311850114\n",
      "Index 111- Hyp: ['none', 'lbfgs', 1, 10] Accur: 0.9239365603226989  f1 score: 0.9220266072964176\n",
      "Index 112- Hyp: ['none', 'lbfgs', 1, 100] Accur: 0.9567060872753941  f1 score: 0.9559439174112603\n",
      "Index 113- Hyp: ['none', 'lbfgs', 1, 1000] Accur: 0.9567060872753941  f1 score: 0.9559439174112603\n",
      "Index 114- Hyp: ['none', 'lbfgs', 1, 10000] Accur: 0.9567060872753941  f1 score: 0.9559439174112603\n",
      "Index 115- Hyp: ['none', 'lbfgs', 10, 1] Accur: 0.4862043148759321  f1 score: 0.44993882311850114\n",
      "Index 116- Hyp: ['none', 'lbfgs', 10, 10] Accur: 0.9239365603226989  f1 score: 0.9220266072964176\n",
      "Index 117- Hyp: ['none', 'lbfgs', 10, 100] Accur: 0.9567060872753941  f1 score: 0.9559439174112603\n",
      "Index 118- Hyp: ['none', 'lbfgs', 10, 1000] Accur: 0.9567060872753941  f1 score: 0.9559439174112603\n",
      "Index 119- Hyp: ['none', 'lbfgs', 10, 10000] Accur: 0.9567060872753941  f1 score: 0.9559439174112603\n",
      "Index 120- Hyp: ['none', 'lbfgs', 100, 1] Accur: 0.4862043148759321  f1 score: 0.44993882311850114\n",
      "Index 121- Hyp: ['none', 'lbfgs', 100, 10] Accur: 0.9239365603226989  f1 score: 0.9220266072964176\n",
      "Index 122- Hyp: ['none', 'lbfgs', 100, 100] Accur: 0.9567060872753941  f1 score: 0.9559439174112603\n",
      "Index 123- Hyp: ['none', 'lbfgs', 100, 1000] Accur: 0.9567060872753941  f1 score: 0.9559439174112603\n",
      "Index 124- Hyp: ['none', 'lbfgs', 100, 10000] Accur: 0.9567060872753941  f1 score: 0.9559439174112603\n",
      "Index 125- Hyp: ['none', 'newton-cg', 0.01, 1] Accur: 0.8583745874587458  f1 score: 0.8495155675342364\n",
      "Index 126- Hyp: ['none', 'newton-cg', 0.01, 10] Accur: 0.9672213054638796  f1 score: 0.966215924806165\n",
      "Index 127- Hyp: ['none', 'newton-cg', 0.01, 100] Accur: 0.9560903312553477  f1 score: 0.9551390854080284\n",
      "Index 128- Hyp: ['none', 'newton-cg', 0.01, 1000] Accur: 0.9560903312553477  f1 score: 0.9551390854080284\n",
      "Index 129- Hyp: ['none', 'newton-cg', 0.01, 10000] Accur: 0.9560903312553477  f1 score: 0.9551390854080284\n",
      "Index 130- Hyp: ['none', 'newton-cg', 0.1, 1] Accur: 0.8583745874587458  f1 score: 0.8495155675342364\n",
      "Index 131- Hyp: ['none', 'newton-cg', 0.1, 10] Accur: 0.9672213054638796  f1 score: 0.966215924806165\n",
      "Index 132- Hyp: ['none', 'newton-cg', 0.1, 100] Accur: 0.9560903312553477  f1 score: 0.9551390854080284\n",
      "Index 133- Hyp: ['none', 'newton-cg', 0.1, 1000] Accur: 0.9560903312553477  f1 score: 0.9551390854080284\n",
      "Index 134- Hyp: ['none', 'newton-cg', 0.1, 10000] Accur: 0.9560903312553477  f1 score: 0.9551390854080284\n",
      "Index 135- Hyp: ['none', 'newton-cg', 1, 1] Accur: 0.8583745874587458  f1 score: 0.8495155675342364\n",
      "Index 136- Hyp: ['none', 'newton-cg', 1, 10] Accur: 0.9672213054638796  f1 score: 0.966215924806165\n",
      "Index 137- Hyp: ['none', 'newton-cg', 1, 100] Accur: 0.9560903312553477  f1 score: 0.9551390854080284\n",
      "Index 138- Hyp: ['none', 'newton-cg', 1, 1000] Accur: 0.9560903312553477  f1 score: 0.9551390854080284\n",
      "Index 139- Hyp: ['none', 'newton-cg', 1, 10000] Accur: 0.9560903312553477  f1 score: 0.9551390854080284\n",
      "Index 140- Hyp: ['none', 'newton-cg', 10, 1] Accur: 0.8583745874587458  f1 score: 0.8495155675342364\n",
      "Index 141- Hyp: ['none', 'newton-cg', 10, 10] Accur: 0.9672213054638796  f1 score: 0.966215924806165\n",
      "Index 142- Hyp: ['none', 'newton-cg', 10, 100] Accur: 0.9560903312553477  f1 score: 0.9551390854080284\n",
      "Index 143- Hyp: ['none', 'newton-cg', 10, 1000] Accur: 0.9560903312553477  f1 score: 0.9551390854080284\n",
      "Index 144- Hyp: ['none', 'newton-cg', 10, 10000] Accur: 0.9560903312553477  f1 score: 0.9551390854080284\n",
      "Index 145- Hyp: ['none', 'newton-cg', 100, 1] Accur: 0.8583745874587458  f1 score: 0.8495155675342364\n",
      "Index 146- Hyp: ['none', 'newton-cg', 100, 10] Accur: 0.9672213054638796  f1 score: 0.966215924806165\n",
      "Index 147- Hyp: ['none', 'newton-cg', 100, 100] Accur: 0.9560903312553477  f1 score: 0.9551390854080284\n",
      "Index 148- Hyp: ['none', 'newton-cg', 100, 1000] Accur: 0.9560903312553477  f1 score: 0.9551390854080284\n",
      "Index 149- Hyp: ['none', 'newton-cg', 100, 10000] Accur: 0.9560903312553477  f1 score: 0.9551390854080284\n",
      "Index 150- Hyp: ['none', 'sag', 0.01, 1] Accur: 0.8428828994010512  f1 score: 0.8308326087315205\n",
      "Index 151- Hyp: ['none', 'sag', 0.01, 10] Accur: 0.938157010145459  f1 score: 0.9368167176557374\n",
      "Index 152- Hyp: ['none', 'sag', 0.01, 100] Accur: 0.9659836817015034  f1 score: 0.9648666883404754\n",
      "Index 153- Hyp: ['none', 'sag', 0.01, 1000] Accur: 0.9641287739885098  f1 score: 0.9630187967491943\n",
      "Index 154- Hyp: ['none', 'sag', 0.01, 10000] Accur: 0.9628926781567044  f1 score: 0.961878488628855\n",
      "Index 155- Hyp: ['none', 'sag', 0.1, 1] Accur: 0.8633052194108299  f1 score: 0.8618150610900505\n",
      "Index 156- Hyp: ['none', 'sag', 0.1, 10] Accur: 0.9461847573646254  f1 score: 0.9443467308081562\n",
      "Index 157- Hyp: ['none', 'sag', 0.1, 100] Accur: 0.9659821537709326  f1 score: 0.965025798070699\n",
      "Index 158- Hyp: ['none', 'sag', 0.1, 1000] Accur: 0.9628926781567044  f1 score: 0.9618149787628703\n",
      "Index 159- Hyp: ['none', 'sag', 0.1, 10000] Accur: 0.9635114900378926  f1 score: 0.9623265936647676\n",
      "Index 160- Hyp: ['none', 'sag', 1, 1] Accur: 0.8515493215988265  f1 score: 0.8475518707405891\n",
      "Index 161- Hyp: ['none', 'sag', 1, 10] Accur: 0.954857291284684  f1 score: 0.9544271113736165\n",
      "Index 162- Hyp: ['none', 'sag', 1, 100] Accur: 0.9647475858696981  f1 score: 0.9636009720483489\n",
      "Index 163- Hyp: ['none', 'sag', 1, 1000] Accur: 0.9622738662755164  f1 score: 0.9611535924749066\n",
      "Index 164- Hyp: ['none', 'sag', 1, 10000] Accur: 0.961037770443711  f1 score: 0.9599119808046777\n",
      "Index 165- Hyp: ['none', 'sag', 10, 1] Accur: 0.8435918591859186  f1 score: 0.8386445576378176\n",
      "Index 166- Hyp: ['none', 'sag', 10, 10] Accur: 0.9567045593448233  f1 score: 0.9562110157525548\n",
      "Index 167- Hyp: ['none', 'sag', 10, 100] Accur: 0.96659943772155  f1 score: 0.9654678357396718\n",
      "Index 168- Hyp: ['none', 'sag', 10, 1000] Accur: 0.9635114900378927  f1 score: 0.9623677444274448\n",
      "Index 169- Hyp: ['none', 'sag', 10, 10000] Accur: 0.9604189585625229  f1 score: 0.9594102041087258\n",
      "Index 170- Hyp: ['none', 'sag', 100, 1] Accur: 0.8076824349101577  f1 score: 0.7996102044494116\n",
      "Index 171- Hyp: ['none', 'sag', 100, 10] Accur: 0.949287984353991  f1 score: 0.9489817516899116\n",
      "Index 172- Hyp: ['none', 'sag', 100, 100] Accur: 0.963508434176751  f1 score: 0.9624662367242431\n",
      "Index 173- Hyp: ['none', 'sag', 100, 1000] Accur: 0.9641287739885098  f1 score: 0.9629839815015067\n",
      "Index 174- Hyp: ['none', 'sag', 100, 10000] Accur: 0.9616550543943283  f1 score: 0.9606222801567428\n",
      "Index 175- Hyp: ['none', 'saga', 0.01, 1] Accur: 0.9288916391639164  f1 score: 0.9260378005542778\n",
      "Index 176- Hyp: ['none', 'saga', 0.01, 10] Accur: 0.9647491138002688  f1 score: 0.9641336454597218\n",
      "Index 177- Hyp: ['none', 'saga', 0.01, 100] Accur: 0.9678416452756387  f1 score: 0.9667343359896696\n",
      "Index 178- Hyp: ['none', 'saga', 0.01, 1000] Accur: 0.96412877398851  f1 score: 0.963000873531985\n",
      "Index 179- Hyp: ['none', 'saga', 0.01, 10000] Accur: 0.9635114900378927  f1 score: 0.9624466263861926\n",
      "Index 180- Hyp: ['none', 'saga', 0.1, 1] Accur: 0.9276448478181152  f1 score: 0.9256382961011671\n",
      "Index 181- Hyp: ['none', 'saga', 0.1, 10] Accur: 0.9628911502261337  f1 score: 0.9620762973492976\n",
      "Index 182- Hyp: ['none', 'saga', 0.1, 100] Accur: 0.9672228333944506  f1 score: 0.9660565911637713\n",
      "Index 183- Hyp: ['none', 'saga', 0.1, 1000] Accur: 0.96412877398851  f1 score: 0.963000873531985\n",
      "Index 184- Hyp: ['none', 'saga', 0.1, 10000] Accur: 0.9628942060872754  f1 score: 0.9618271409562442\n",
      "Index 185- Hyp: ['none', 'saga', 1, 1] Accur: 0.9264163916391639  f1 score: 0.9251772549902237\n",
      "Index 186- Hyp: ['none', 'saga', 1, 10] Accur: 0.9641318298496515  f1 score: 0.9635567608331631\n",
      "Index 187- Hyp: ['none', 'saga', 1, 100] Accur: 0.9678416452756387  f1 score: 0.9666700573202937\n",
      "Index 188- Hyp: ['none', 'saga', 1, 1000] Accur: 0.9647475858696981  f1 score: 0.9636438636753082\n",
      "Index 189- Hyp: ['none', 'saga', 1, 10000] Accur: 0.9628926781567045  f1 score: 0.9617979349732608\n",
      "Index 190- Hyp: ['none', 'saga', 10, 1] Accur: 0.9171342134213422  f1 score: 0.9160759416246451\n",
      "Index 191- Hyp: ['none', 'saga', 10, 10] Accur: 0.9647491138002688  f1 score: 0.9644103566777829\n",
      "Index 192- Hyp: ['none', 'saga', 10, 100] Accur: 0.968458929226256  f1 score: 0.9672828535585553\n",
      "Index 193- Hyp: ['none', 'saga', 10, 1000] Accur: 0.9647475858696981  f1 score: 0.9636438636753082\n",
      "Index 194- Hyp: ['none', 'saga', 10, 10000] Accur: 0.9628942060872754  f1 score: 0.9618271409562442\n",
      "Index 195- Hyp: ['none', 'saga', 100, 1] Accur: 0.917736218066251  f1 score: 0.914251679729313\n",
      "Index 196- Hyp: ['none', 'saga', 100, 10] Accur: 0.9628942060872754  f1 score: 0.9623615210110004\n",
      "Index 197- Hyp: ['none', 'saga', 100, 100] Accur: 0.9672228333944506  f1 score: 0.9660986272238796\n",
      "Index 198- Hyp: ['none', 'saga', 100, 1000] Accur: 0.9635114900378927  f1 score: 0.9624466263861926\n",
      "Index 199- Hyp: ['none', 'saga', 100, 10000] Accur: 0.9628942060872754  f1 score: 0.9618271409562442\n",
      "l1\n",
      "Index 200- Hyp: ['l1', 'saga', 0.01, 1] Accur: 0.08658476958806992  f1 score: 0.015924061464298863\n",
      "Index 201- Hyp: ['l1', 'saga', 0.01, 10] Accur: 0.10141333577802225  f1 score: 0.0184031416851548\n",
      "Index 202- Hyp: ['l1', 'saga', 0.01, 100] Accur: 0.09214032514362547  f1 score: 0.016854483700262497\n",
      "Index 203- Hyp: ['l1', 'saga', 0.01, 1000] Accur: 0.0995660677178829  f1 score: 0.01810394404871107\n",
      "Index 204- Hyp: ['l1', 'saga', 0.01, 10000] Accur: 0.09523438454956606  f1 score: 0.017388241100865266\n",
      "Index 205- Hyp: ['l1', 'saga', 0.1, 1] Accur: 0.787860591614717  f1 score: 0.7819603200799159\n",
      "Index 206- Hyp: ['l1', 'saga', 0.1, 10] Accur: 0.7037464857596871  f1 score: 0.6729999377372208\n",
      "Index 207- Hyp: ['l1', 'saga', 0.1, 100] Accur: 0.701277349957218  f1 score: 0.6711737714525237\n",
      "Index 208- Hyp: ['l1', 'saga', 0.1, 1000] Accur: 0.701277349957218  f1 score: 0.6711737714525237\n",
      "Index 209- Hyp: ['l1', 'saga', 0.1, 10000] Accur: 0.701277349957218  f1 score: 0.6711737714525237\n",
      "Index 210- Hyp: ['l1', 'saga', 1, 1] Accur: 0.9245446766898913  f1 score: 0.9226461245773847\n",
      "Index 211- Hyp: ['l1', 'saga', 1, 10] Accur: 0.9424810536609216  f1 score: 0.9411322880674824\n",
      "Index 212- Hyp: ['l1', 'saga', 1, 100] Accur: 0.94000733406674  f1 score: 0.9387175271287158\n",
      "Index 213- Hyp: ['l1', 'saga', 1, 1000] Accur: 0.9393885221855519  f1 score: 0.9379416035163766\n",
      "Index 214- Hyp: ['l1', 'saga', 1, 10000] Accur: 0.9393885221855519  f1 score: 0.9379416035163766\n",
      "Index 215- Hyp: ['l1', 'saga', 10, 1] Accur: 0.9257914680356925  f1 score: 0.9241885859532374\n",
      "Index 216- Hyp: ['l1', 'saga', 10, 10] Accur: 0.9653663977508862  f1 score: 0.9645570739501191\n",
      "Index 217- Hyp: ['l1', 'saga', 10, 100] Accur: 0.9628942060872754  f1 score: 0.9617611168692796\n",
      "Index 218- Hyp: ['l1', 'saga', 10, 1000] Accur: 0.9628942060872753  f1 score: 0.9619189523763622\n",
      "Index 219- Hyp: ['l1', 'saga', 10, 10000] Accur: 0.9628942060872753  f1 score: 0.9619350681757058\n",
      "Index 220- Hyp: ['l1', 'saga', 100, 1] Accur: 0.9270214521452145  f1 score: 0.9272420782107171\n",
      "Index 221- Hyp: ['l1', 'saga', 100, 10] Accur: 0.9628926781567045  f1 score: 0.9621178359086715\n",
      "Index 222- Hyp: ['l1', 'saga', 100, 100] Accur: 0.9666055494438333  f1 score: 0.9655217509387284\n",
      "Index 223- Hyp: ['l1', 'saga', 100, 1000] Accur: 0.9628926781567044  f1 score: 0.9620659073638729\n",
      "Index 224- Hyp: ['l1', 'saga', 100, 10000] Accur: 0.9598001466813348  f1 score: 0.9589958781530447\n",
      "===========================\n",
      "MAX 46 0.9709357046815792\n"
     ]
    }
   ],
   "source": [
    "import warnings\n",
    "from sklearn.metrics import accuracy_score, f1_score\n",
    "from sklearn.linear_model import LogisticRegression\n",
    "warnings.filterwarnings('ignore')\n",
    "\n",
    "penalty = ['l2', 'none', 'l1']\n",
    "solvers = ['lbfgs', 'newton-cg', 'sag', 'saga']\n",
    "c = [0.01, 0.1, 1, 10, 100]\n",
    "max_iter = [1, 10, 100, 1000, 10000]\n",
    "models = []\n",
    "acurr_total = []\n",
    "f1score_total = []\n",
    "index = 0\n",
    "max_score = 0\n",
    "max_index = 0\n",
    "for p in penalty:\n",
    "    print(p)\n",
    "    for s in solvers:\n",
    "        if (s == 'lbfgs' and  p != 'l2' and p != 'none') or (s == 'newton-cg' and  p != 'l2' and p != 'none') or (s == 'sag' and  p != 'l2' and p != 'none'):\n",
    "            continue\n",
    "        else:\n",
    "            for value in c:\n",
    "                for it in max_iter:\n",
    "\n",
    "                    hyperparmeter = [p, s, value, it]\n",
    "                    f1score = []\n",
    "                    acurr = []\n",
    "                    for train_set, val_set in kf.split(train):\n",
    "                        clf_lr = LogisticRegression(multi_class='multinomial',\n",
    "                                penalty=p, #lasso regression\n",
    "                                solver=s,\n",
    "                                max_iter=it,\n",
    "                                C=value).fit(x_train[train_set], y_train.iloc[train_set])\n",
    "\n",
    "                        y_pred = clf_lr.predict(x_train[val_set])\n",
    "                        f1score.append(f1_score(y_train.iloc[val_set], y_pred, average='macro'))\n",
    "                        acurr.append(accuracy_score(y_train.iloc[val_set], y_pred))\n",
    "\n",
    "                    models.append(clf_lr)\n",
    "                    f1score_total.append(sum(f1score)/4)\n",
    "                    acurr_total.append(sum(acurr)/4)\n",
    "\n",
    "                    \n",
    "                    \n",
    "                    if acurr_total[-1] > max_score:\n",
    "                        max_index = index\n",
    "                        max_score = acurr_total[-1]\n",
    "\n",
    "                    print(f'Index {index}- Hyp: {hyperparmeter} Accur: {acurr_total[-1]}  f1 score: {f1score_total[-1]}')\n",
    "                    index += 1\n",
    "print(\"===========================\")\n",
    "print(\"MAX\",max_index, max_score)\n",
    "\n",
    "\n"
   ]
  },
  {
   "cell_type": "markdown",
   "metadata": {},
   "source": [
    "### Training OneVsOne Classifier <a name=\"title6\" />"
   ]
  },
  {
   "cell_type": "code",
   "execution_count": 20,
   "metadata": {},
   "outputs": [
    {
     "name": "stdout",
     "output_type": "stream",
     "text": [
      "hinge l2\n",
      "Index 0- Hyp: ['hinge', 'l2', 0.1, 100] Acc: 0.9152716660554945 f1 score: 0.9150781042439456\n",
      "Index 1- Hyp: ['hinge', 'l2', 0.1, 1000] Acc: 0.9152716660554945 f1 score: 0.9150781042439456\n",
      "Index 2- Hyp: ['hinge', 'l2', 0.1, 10000] Acc: 0.9152716660554945 f1 score: 0.9150781042439456\n",
      "Index 3- Hyp: ['hinge', 'l2', 1, 100] Acc: 0.9697011367803446 f1 score: 0.9695729223296832\n",
      "Index 4- Hyp: ['hinge', 'l2', 1, 1000] Acc: 0.9690823248991566 f1 score: 0.968915371656768\n",
      "Index 5- Hyp: ['hinge', 'l2', 1, 10000] Acc: 0.9690823248991566 f1 score: 0.968915371656768\n",
      "Index 6- Hyp: ['hinge', 'l2', 10, 100] Acc: 0.9820682068206821 f1 score: 0.982020826791313\n",
      "Index 7- Hyp: ['hinge', 'l2', 10, 1000] Acc: 0.9814509228700647 f1 score: 0.9813758890334289\n",
      "Index 8- Hyp: ['hinge', 'l2', 10, 10000] Acc: 0.9814509228700647 f1 score: 0.9813758890334289\n",
      "Index 9- Hyp: ['hinge', 'l2', 100, 100] Acc: 0.9795929592959296 f1 score: 0.9794883842213072\n",
      "Index 10- Hyp: ['hinge', 'l2', 100, 1000] Acc: 0.9789772032758832 f1 score: 0.9789205900458016\n",
      "Index 11- Hyp: ['hinge', 'l2', 100, 10000] Acc: 0.9795960151570713 f1 score: 0.9795290333266586\n",
      "squared_hinge l2\n",
      "Index 12- Hyp: ['squared_hinge', 'l2', 0.1, 100] Acc: 0.9461985087397629 f1 score: 0.9455713626464423\n",
      "Index 13- Hyp: ['squared_hinge', 'l2', 0.1, 1000] Acc: 0.9461985087397629 f1 score: 0.9455713626464423\n",
      "Index 14- Hyp: ['squared_hinge', 'l2', 0.1, 10000] Acc: 0.9461985087397629 f1 score: 0.9455713626464423\n",
      "Index 15- Hyp: ['squared_hinge', 'l2', 1, 100] Acc: 0.9789741474147415 f1 score: 0.978809849599918\n",
      "Index 16- Hyp: ['squared_hinge', 'l2', 1, 1000] Acc: 0.9789741474147415 f1 score: 0.978809849599918\n",
      "Index 17- Hyp: ['squared_hinge', 'l2', 1, 10000] Acc: 0.9789741474147415 f1 score: 0.978809849599918\n",
      "Index 18- Hyp: ['squared_hinge', 'l2', 10, 100] Acc: 0.9814493949394938 f1 score: 0.9812867563974407\n",
      "Index 19- Hyp: ['squared_hinge', 'l2', 10, 1000] Acc: 0.9814493949394938 f1 score: 0.9812867563974407\n",
      "Index 20- Hyp: ['squared_hinge', 'l2', 10, 10000] Acc: 0.9814493949394938 f1 score: 0.9812867563974407\n",
      "Index 21- Hyp: ['squared_hinge', 'l2', 100, 100] Acc: 0.9802117711771177 f1 score: 0.9800622877691597\n",
      "Index 22- Hyp: ['squared_hinge', 'l2', 100, 1000] Acc: 0.9802117711771177 f1 score: 0.9801301983614115\n",
      "Index 23- Hyp: ['squared_hinge', 'l2', 100, 10000] Acc: 0.9802117711771177 f1 score: 0.9801301983614115\n",
      "===========================\n",
      "MAX 6 0.9820682068206821\n"
     ]
    }
   ],
   "source": [
    "from sklearn.multiclass import OneVsOneClassifier\n",
    "from sklearn.svm import LinearSVC\n",
    "import warnings\n",
    "from sklearn.metrics import accuracy_score, f1_score\n",
    "warnings.filterwarnings('ignore')\n",
    "\n",
    "penalty2 = ['l2']\n",
    "loss2 = ['hinge', 'squared_hinge']\n",
    "c2 = [0.1, 1, 10, 100]\n",
    "max_iter2 = [100, 1000, 10000]\n",
    "models2 = []\n",
    "acurr_total2 = []\n",
    "f1score_total2 = []\n",
    "index = 0\n",
    "max_score2 = 0\n",
    "max_index2 = 0\n",
    "for l in loss2:\n",
    "    for p in penalty2:\n",
    "        print(l, p)\n",
    "        if l =='hinge' and p == 'l1':\n",
    "            continue\n",
    "        else:\n",
    "            for value in c2:\n",
    "                for it in max_iter2:\n",
    "\n",
    "                    hyperparmeter = [l, p, value, it]\n",
    "                    f1score = []\n",
    "                    acurr = []\n",
    "                    for train_set, val_set in kf.split(train):\n",
    "                        clf_oo =  OneVsOneClassifier(LinearSVC(random_state=0,\n",
    "                                loss =l,\n",
    "                                penalty=p,\n",
    "                                max_iter=it,\n",
    "                                C=value)).fit(x_train[train_set], y_train.iloc[train_set])\n",
    "\n",
    "                        y_pred = clf_oo.predict(x_train[val_set])\n",
    "                        acurr.append(accuracy_score(y_train.iloc[val_set], y_pred))\n",
    "                        f1score.append(f1_score(y_train.iloc[val_set], y_pred, average='macro'))\n",
    "\n",
    "                    models2.append(clf_oo)\n",
    "                    f1score_total2.append(sum(f1score)/4)\n",
    "                    acurr_total2.append(sum(acurr)/4)\n",
    "\n",
    "\n",
    "                    if acurr_total2[-1] > max_score2:\n",
    "                        max_index2 = index\n",
    "                        max_score2 = acurr_total2[-1]\n",
    "\n",
    "                    print(f'Index {index}- Hyp: {hyperparmeter} Acc: {acurr_total2[-1]} f1 score: {f1score_total2[-1]}')\n",
    "                    index += 1\n",
    "print(\"===========================\")\n",
    "print(\"MAX\",max_index2, max_score2)"
   ]
  },
  {
   "cell_type": "markdown",
   "metadata": {},
   "source": [
    "### Test Logistic Regression <a name=\"title9\" />"
   ]
  },
  {
   "cell_type": "code",
   "execution_count": 19,
   "metadata": {},
   "outputs": [
    {
     "name": "stdout",
     "output_type": "stream",
     "text": [
      "The best model using Accuracy was LogisticRegression(C=100, max_iter=10, multi_class='multinomial',\n",
      "                   solver='newton-cg')\n",
      "Test perofrmance\n",
      "              precision    recall  f1-score   support\n",
      "\n",
      "         0.0       1.00      1.00      1.00        19\n",
      "         1.0       1.00      0.96      0.98        26\n",
      "         2.0       1.00      1.00      1.00        16\n",
      "         3.0       1.00      1.00      1.00        24\n",
      "         4.0       1.00      1.00      1.00        19\n",
      "         5.0       0.93      1.00      0.97        14\n",
      "         6.0       1.00      0.94      0.97        17\n",
      "         7.0       0.93      0.93      0.93        15\n",
      "         8.0       0.87      0.93      0.90        14\n",
      "         9.0       0.94      0.94      0.94        16\n",
      "\n",
      "    accuracy                           0.97       180\n",
      "   macro avg       0.97      0.97      0.97       180\n",
      "weighted avg       0.97      0.97      0.97       180\n",
      "\n"
     ]
    },
    {
     "data": {
      "text/plain": [
       "<AxesSubplot:>"
      ]
     },
     "execution_count": 19,
     "metadata": {},
     "output_type": "execute_result"
    },
    {
     "data": {
      "image/png": "[encoded data removed]",
      "text/plain": [
       "<Figure size 720x504 with 2 Axes>"
      ]
     },
     "metadata": {
      "needs_background": "light"
     },
     "output_type": "display_data"
    }
   ],
   "source": [
    "from sklearn.metrics import confusion_matrix\n",
    "from sklearn.metrics import classification_report\n",
    "import seaborn as sn\n",
    "\n",
    "print(f\"The best model using Accuracy was {models[46]}\")\n",
    "\n",
    "y_pred = models[46].predict(x_test)\n",
    "\n",
    "print(f\"Test perofrmance\") \n",
    "print(f\"{classification_report(y_test, y_pred)}\")\n",
    "\n",
    "cm_lr = confusion_matrix(y_test, y_pred)\n",
    "plt.figure(figsize = (10,7))\n",
    "sn.heatmap(cm_lr, annot=True)"
   ]
  },
  {
   "cell_type": "markdown",
   "metadata": {},
   "source": [
    "### Test OneVsOne Classifier <a name=\"title10\" />"
   ]
  },
  {
   "cell_type": "code",
   "execution_count": 21,
   "metadata": {},
   "outputs": [
    {
     "name": "stdout",
     "output_type": "stream",
     "text": [
      "The best model using Accuracy was OneVsOneClassifier(estimator=LinearSVC(C=10, loss='hinge', max_iter=100,\n",
      "                                       random_state=0))\n",
      "Test perofrmance\n",
      "              precision    recall  f1-score   support\n",
      "\n",
      "         0.0       1.00      1.00      1.00        19\n",
      "         1.0       1.00      1.00      1.00        26\n",
      "         2.0       1.00      1.00      1.00        16\n",
      "         3.0       1.00      0.96      0.98        24\n",
      "         4.0       1.00      1.00      1.00        19\n",
      "         5.0       1.00      1.00      1.00        14\n",
      "         6.0       1.00      1.00      1.00        17\n",
      "         7.0       0.93      0.93      0.93        15\n",
      "         8.0       0.93      1.00      0.97        14\n",
      "         9.0       0.94      0.94      0.94        16\n",
      "\n",
      "    accuracy                           0.98       180\n",
      "   macro avg       0.98      0.98      0.98       180\n",
      "weighted avg       0.98      0.98      0.98       180\n",
      "\n"
     ]
    },
    {
     "data": {
      "text/plain": [
       "<AxesSubplot:>"
      ]
     },
     "execution_count": 21,
     "metadata": {},
     "output_type": "execute_result"
    },
    {
     "data": {
      "image/png": "[encoded data removed]",
      "text/plain": [
       "<Figure size 720x504 with 2 Axes>"
      ]
     },
     "metadata": {
      "needs_background": "light"
     },
     "output_type": "display_data"
    }
   ],
   "source": [
    "print(f\"The best model using Accuracy was {models2[6]}\")\n",
    "\n",
    "y_pred = models2[6].predict(x_test)\n",
    "\n",
    "print(f\"Test perofrmance\") \n",
    "print(f\"{classification_report(y_test, y_pred)}\")\n",
    "\n",
    "cm_oo = confusion_matrix(y_test, y_pred)\n",
    "plt.figure(figsize = (10,7))\n",
    "sn.heatmap(cm_oo, annot=True)"
   ]
  }
 ],
 "metadata": {
  "kernelspec": {
   "display_name": "Python 3",
   "language": "python",
   "name": "python3"
  },
  "language_info": {
   "codemirror_mode": {
    "name": "ipython",
    "version": 3
   },
   "file_extension": ".py",
   "mimetype": "text/x-python",
   "name": "python",
   "nbconvert_exporter": "python",
   "pygments_lexer": "ipython3",
   "version": "3.8.8"
  }
 },
 "nbformat": 4,
 "nbformat_minor": 4
}
