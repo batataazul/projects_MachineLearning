{
 "cells": [
  {
   "cell_type": "markdown",
   "metadata": {},
   "source": [
    "## Bibliotecas Usadas"
   ]
  },
  {
   "cell_type": "code",
   "execution_count": 1,
   "metadata": {},
   "outputs": [],
   "source": [
    "import matplotlib.pyplot as plt\n",
    "import numpy as np\n",
    "import math\n",
    "import json\n",
    "import random\n",
    "from sklearn import datasets\n",
    "from sklearn.model_selection import train_test_split\n",
    "from mpl_toolkits.mplot3d import Axes3D\n",
    "from sklearn import preprocessing"
   ]
  },
  {
   "cell_type": "markdown",
   "metadata": {},
   "source": [
    "## Hiperparâmetros e constantes"
   ]
  },
  {
   "cell_type": "code",
   "execution_count": 2,
   "metadata": {},
   "outputs": [],
   "source": [
    "a = 0.5\n",
    "err = 0.000001\n",
    "limit = 50000\n",
    "random.seed(7)"
   ]
  },
  {
   "cell_type": "markdown",
   "metadata": {},
   "source": [
    "## Leitura dos dados"
   ]
  },
  {
   "cell_type": "markdown",
   "metadata": {},
   "source": [
    "A função abaixo abre os arquivos onde estão salvos os dados e os salva em três listas de features."
   ]
  },
  {
   "cell_type": "code",
   "execution_count": 3,
   "metadata": {},
   "outputs": [],
   "source": [
    "def readData(path):\n",
    "    try:\n",
    "        f = open(path)\n",
    "    except:\n",
    "        print(\"Houston we've got a file problem\")\n",
    "        return\n",
    "    dataset = [[],[],[]]\n",
    "    for i in f:\n",
    "        stringList = i.split()\n",
    "        try:\n",
    "            for j in range(len(dataset)):\n",
    "                if j < len(stringList):\n",
    "                    dataset[j].append(float(stringList[j]))\n",
    "                else:\n",
    "                    f.close()\n",
    "                    return\n",
    "        except ValueError:\n",
    "            print(\"You had a Value Error\")\n",
    "            f.close()\n",
    "            return\n",
    "        except:\n",
    "            print(\"You got another Error\")\n",
    "            f.close()\n",
    "            return\n",
    "    f.close()\n",
    "    return dataset"
   ]
  },
  {
   "cell_type": "markdown",
   "metadata": {},
   "source": [
    "Esta função separa os dados em conjunto de treino e conjunto de teste."
   ]
  },
  {
   "cell_type": "code",
   "execution_count": 4,
   "metadata": {},
   "outputs": [],
   "source": [
    "def splitData(dataset):\n",
    "    trainset = [0,1,2]\n",
    "    testset = [0,1,2]\n",
    "    trainset[0], testset[0], trainset[1], testset[1], trainset[2], testset[2] = train_test_split(dataset[0], dataset[1], dataset[2], test_size=0.1, random_state=7)\n",
    "    return trainset, testset"
   ]
  },
  {
   "cell_type": "markdown",
   "metadata": {},
   "source": [
    "Esta outra transforma as listas de features em uma lista de pontos."
   ]
  },
  {
   "cell_type": "code",
   "execution_count": 5,
   "metadata": {},
   "outputs": [],
   "source": [
    "def getPointList(dataset):\n",
    "    pointList = []\n",
    "    for i in range(len(dataset[0])):\n",
    "        point = []\n",
    "        for j in dataset:\n",
    "            point.append(j[i])\n",
    "        pointList.append(point)\n",
    "    return pointList"
   ]
  },
  {
   "cell_type": "code",
   "execution_count": 6,
   "metadata": {},
   "outputs": [],
   "source": [
    "def getList(points):\n",
    "    lists = []\n",
    "    for i in range(len(points[0])):\n",
    "        lists.append([])\n",
    "    for i in points:\n",
    "        for j in range(len(i)):\n",
    "            lists[j].append(i[j])\n",
    "    return lists"
   ]
  },
  {
   "cell_type": "markdown",
   "metadata": {},
   "source": [
    "## Plotando gráficos"
   ]
  },
  {
   "cell_type": "code",
   "execution_count": 7,
   "metadata": {},
   "outputs": [],
   "source": [
    "def plotPoints(dataset):\n",
    "    fig = plt.figure()\n",
    "    ax = fig.add_subplot(projection=\"3d\")\n",
    "    X, Y =  np.meshgrid(np.linspace(-3,3,2), np.linspace(0,2,2))\n",
    "    Z =  np.zeros(X.shape)\n",
    "    ax.plot_surface(X, Y, Z, shade=False, color=\"g\", alpha=.4)\n",
    "    ax.plot([-2.5, -2.5, 2.5, 2.5], [0, 1, 1, 0], zdir='z', zs=0, c='g')\n",
    "    ax.plot([-1.25, -1.25, 1.25, 1.25], [0, 0.05, 0.05, 0], zdir='z', zs=0, c='g')\n",
    "    ax.scatter(dataset[0],dataset[1],dataset[2])\n",
    "    return ax"
   ]
  },
  {
   "cell_type": "code",
   "execution_count": 8,
   "metadata": {},
   "outputs": [],
   "source": [
    "def plotPolynom(dataset,X,Y,Z):\n",
    "    ax = plotPoints(dataset)\n",
    "    ax.plot(X,Y,Z)"
   ]
  },
  {
   "cell_type": "markdown",
   "metadata": {},
   "source": [
    "## Conseguindo Pontos de entrada"
   ]
  },
  {
   "cell_type": "code",
   "execution_count": 9,
   "metadata": {},
   "outputs": [],
   "source": [
    "def gettingX(start,end,step):\n",
    "    lengh = end - start + step\n",
    "    numb = int(lengh/step)\n",
    "    x = np.linspace(start,end,num = numb)\n",
    "    return x"
   ]
  },
  {
   "cell_type": "markdown",
   "metadata": {},
   "source": [
    "# Regressão Linear"
   ]
  },
  {
   "cell_type": "code",
   "execution_count": 10,
   "metadata": {},
   "outputs": [],
   "source": [
    "def linearRegression(a,x,y,theta,err):\n",
    "    epoch = 0\n",
    "    difference = 50\n",
    "    prevJ = j(linearH,theta,x,y)\n",
    "    while(difference > err):\n",
    "        if (epoch > limit):\n",
    "            break\n",
    "        temp0 = theta[0] - a*derivative0(linearH,theta,x,y)\n",
    "        temp1 = theta[1] - a*derivative1(linearH,theta,x,y)\n",
    "        theta[0] = temp0\n",
    "        theta[1] = temp1\n",
    "        nowJ = j(linearH,theta,x,y)\n",
    "        dif = abs(nowJ - prevJ)\n",
    "        difference = dif/prevJ\n",
    "        epoch += 1\n",
    "        prevJ = nowJ\n",
    "    print(epoch)\n",
    "    print(j(linearH,theta,x,y))\n",
    "    pass"
   ]
  },
  {
   "cell_type": "code",
   "execution_count": 11,
   "metadata": {},
   "outputs": [],
   "source": [
    "def j(h,theta,x,y):\n",
    "    summ = 0\n",
    "    length = len(x)\n",
    "    for i in range(length):\n",
    "        summ += math.pow(h(theta,x[i]) - y[i],2)\n",
    "    return summ/(2*length)"
   ]
  },
  {
   "cell_type": "code",
   "execution_count": 12,
   "metadata": {},
   "outputs": [],
   "source": [
    "def linearH(theta,x):\n",
    "    return theta[0] + theta[1]*x"
   ]
  },
  {
   "cell_type": "code",
   "execution_count": 13,
   "metadata": {},
   "outputs": [],
   "source": [
    "def derivative0(h,theta,x,y):\n",
    "    summ = 0\n",
    "    length = len(x)\n",
    "    for i in range(length):\n",
    "        summ += h(theta,x[i]) - y[i]\n",
    "    return summ/length"
   ]
  },
  {
   "cell_type": "code",
   "execution_count": 14,
   "metadata": {},
   "outputs": [],
   "source": [
    "def derivative1(h,theta,x,y):\n",
    "    summ = 0\n",
    "    length = len(x)\n",
    "    for i in range(length):\n",
    "        summ += (h(theta,x[i]) - y[i])*x[i]\n",
    "    return summ/length"
   ]
  },
  {
   "cell_type": "markdown",
   "metadata": {},
   "source": [
    "## Regressão Polinomial"
   ]
  },
  {
   "cell_type": "code",
   "execution_count": 15,
   "metadata": {},
   "outputs": [],
   "source": [
    "def generalH(theta,x):\n",
    "    summ = 0\n",
    "    for i in range(len(theta)):\n",
    "        summ += theta[i]*pow(x,i)\n",
    "    return summ"
   ]
  },
  {
   "cell_type": "code",
   "execution_count": 16,
   "metadata": {},
   "outputs": [],
   "source": [
    "def derivative(h,theta,x,y,grau):\n",
    "    summ = 0\n",
    "    length = len(x)\n",
    "    for i in range(length):\n",
    "        summ += (h(theta,x[i]) - y[i])*pow(x[i],grau)\n",
    "    return summ/length"
   ]
  },
  {
   "cell_type": "code",
   "execution_count": 17,
   "metadata": {},
   "outputs": [],
   "source": [
    "def polynomialRegression(a,x,y,theta,err,grau):\n",
    "    epoch = 0\n",
    "    while(epoch < limit):\n",
    "        temp = [0]*(grau+1)\n",
    "        temp[0] = theta[0] - a*derivative0(generalH,theta,x,y)\n",
    "        for i in range(1,grau+1):\n",
    "            temp[i] = theta[i] - a*derivative(generalH,theta,x,y,i)\n",
    "        for i in range(len(temp)):\n",
    "            theta[i] = temp[i]\n",
    "        epoch += 1\n",
    "    print(epoch)\n",
    "    print(j(generalH,theta,x,y))\n",
    "    pass"
   ]
  },
  {
   "cell_type": "markdown",
   "metadata": {},
   "source": [
    "## Erro"
   ]
  },
  {
   "cell_type": "code",
   "execution_count": 18,
   "metadata": {},
   "outputs": [],
   "source": [
    "def mse(ye,y):\n",
    "    lengh = len(y)\n",
    "    summ = 0\n",
    "    for i in range(lengh):\n",
    "        summ += pow(ye[i] - y[i], 2)\n",
    "    result = summ/lengh\n",
    "    return result"
   ]
  },
  {
   "cell_type": "code",
   "execution_count": 19,
   "metadata": {},
   "outputs": [],
   "source": [
    "def rmse(ye,y):\n",
    "    result = math.sqrt(mse(ye,y))\n",
    "    return result"
   ]
  },
  {
   "cell_type": "code",
   "execution_count": 20,
   "metadata": {},
   "outputs": [],
   "source": [
    "def rse(ye,y):\n",
    "    mean = np.mean(y)\n",
    "    summ = 0\n",
    "    summ2 = 0\n",
    "    lengh = len(y)\n",
    "    for i in range(lengh):\n",
    "        summ += pow(y[i] - mean, 2)\n",
    "        summ2 += pow(ye[i] - y[i], 2)\n",
    "    result = summ2/summ\n",
    "    return result"
   ]
  },
  {
   "cell_type": "markdown",
   "metadata": {},
   "source": [
    "## Execução"
   ]
  },
  {
   "cell_type": "markdown",
   "metadata": {},
   "source": [
    "### Aquisição dos dados"
   ]
  },
  {
   "cell_type": "code",
   "execution_count": 21,
   "metadata": {},
   "outputs": [
    {
     "name": "stdout",
     "output_type": "stream",
     "text": [
      "[[-0.21, -0.305, -0.368, -0.37, -0.48, -0.532, -0.575, -0.583, -0.618, -0.702, -0.783, -0.842, -0.882, -0.93, -0.969, -0.989, -1.032, -1.088, -1.104, -1.192], [2.048, 1.999, 1.968, 1.902, 1.841, 1.807, 1.733, 1.69, 1.649, 1.611, 1.568, 1.523, 1.438, 1.408, 1.34, 1.295, 1.244, 1.201, 1.159, 1.109], [0.145, 0.103, 0.149, 0.11, 0.135, 0.111, 0.12, 0.111, 0.108, 0.117, 0.107, 0.104, 0.139, 0.142, 0.111, 0.107, 0.118, 0.119, 0.126, 0.11]]\n"
     ]
    }
   ],
   "source": [
    "dataset = readData(\"../data/kick1.dat\")\n",
    "print(dataset)"
   ]
  },
  {
   "cell_type": "code",
   "execution_count": 22,
   "metadata": {},
   "outputs": [
    {
     "name": "stdout",
     "output_type": "stream",
     "text": [
      "[[-0.105, -0.162, -0.184, -0.185, -0.23, -0.266, -0.287, -0.311, -0.309, -0.331, -0.391, -0.431, -0.441, -0.445, -0.484, -0.514, -0.516, -0.524, -0.552, -0.596], [2.048, 1.999, 1.968, 1.902, 1.841, 1.807, 1.733, 1.69, 1.649, 1.611, 1.568, 1.523, 1.438, 1.408, 1.34, 1.295, 1.244, 1.201, 1.159, 1.109], [0.145, 0.177, 0.172, 0.167, 0.192, 0.219, 0.213, 0.223, 0.25, 0.244, 0.233, 0.269, 0.283, 0.29, 0.263, 0.29, 0.28, 0.281, 0.296, 0.269]]\n"
     ]
    }
   ],
   "source": [
    "dataset2 = readData(\"../data/kick2.dat\")\n",
    "print(dataset2)"
   ]
  },
  {
   "cell_type": "code",
   "execution_count": 23,
   "metadata": {},
   "outputs": [
    {
     "data": {
      "text/plain": [
       "<matplotlib.axes._subplots.Axes3DSubplot at 0x280606ca788>"
      ]
     },
     "execution_count": 23,
     "metadata": {},
     "output_type": "execute_result"
    },
    {
     "data": {
      "image/png": "[encoded data removed]",
      "text/plain": [
       "<Figure size 432x288 with 1 Axes>"
      ]
     },
     "metadata": {
      "needs_background": "light"
     },
     "output_type": "display_data"
    }
   ],
   "source": [
    "plotPoints(dataset)"
   ]
  },
  {
   "cell_type": "code",
   "execution_count": 24,
   "metadata": {},
   "outputs": [
    {
     "data": {
      "text/plain": [
       "<matplotlib.axes._subplots.Axes3DSubplot at 0x280609c2708>"
      ]
     },
     "execution_count": 24,
     "metadata": {},
     "output_type": "execute_result"
    },
    {
     "data": {
      "image/png": "[encoded data removed]",
      "text/plain": [
       "<Figure size 432x288 with 1 Axes>"
      ]
     },
     "metadata": {
      "needs_background": "light"
     },
     "output_type": "display_data"
    }
   ],
   "source": [
    "plotPoints(dataset2)"
   ]
  },
  {
   "cell_type": "code",
   "execution_count": 25,
   "metadata": {},
   "outputs": [
    {
     "name": "stdout",
     "output_type": "stream",
     "text": [
      "20\n"
     ]
    }
   ],
   "source": [
    "x = gettingX(1/60,1/3,1/60)\n",
    "print(len(x))"
   ]
  },
  {
   "cell_type": "code",
   "execution_count": 26,
   "metadata": {},
   "outputs": [
    {
     "name": "stdout",
     "output_type": "stream",
     "text": [
      "81\n"
     ]
    }
   ],
   "source": [
    "x2 = gettingX(-2/3,2/3,1/60)\n",
    "print(len(x2))"
   ]
  },
  {
   "cell_type": "markdown",
   "metadata": {},
   "source": [
    "### Regressão Linear"
   ]
  },
  {
   "cell_type": "code",
   "execution_count": 27,
   "metadata": {},
   "outputs": [
    {
     "name": "stdout",
     "output_type": "stream",
     "text": [
      "1539\n",
      "0.0003586952739931634\n"
     ]
    }
   ],
   "source": [
    "thetaX = [random.random(),random.random()]\n",
    "linearRegression(a,x,dataset[0],thetaX,err)"
   ]
  },
  {
   "cell_type": "code",
   "execution_count": 28,
   "metadata": {},
   "outputs": [
    {
     "name": "stdout",
     "output_type": "stream",
     "text": [
      "1764\n",
      "5.7394282324824956e-05\n"
     ]
    }
   ],
   "source": [
    "thetaY = [random.random(),random.random()]\n",
    "linearRegression(a,x,dataset[1],thetaY,err)"
   ]
  },
  {
   "cell_type": "code",
   "execution_count": 29,
   "metadata": {},
   "outputs": [
    {
     "name": "stdout",
     "output_type": "stream",
     "text": [
      "1186\n",
      "9.72862147170852e-05\n"
     ]
    }
   ],
   "source": [
    "thetaZ = [random.random(),random.random()]\n",
    "linearRegression(a,x,dataset[2],thetaZ,err)"
   ]
  },
  {
   "cell_type": "code",
   "execution_count": 30,
   "metadata": {},
   "outputs": [],
   "source": [
    "Xline = []\n",
    "Yline = []\n",
    "Zline = []\n",
    "for i in x:\n",
    "    Xline.append(linearH(thetaX,i))\n",
    "    Yline.append(linearH(thetaY,i))\n",
    "    Zline.append(linearH(thetaZ,i))"
   ]
  },
  {
   "cell_type": "code",
   "execution_count": 31,
   "metadata": {},
   "outputs": [
    {
     "name": "stdout",
     "output_type": "stream",
     "text": [
      "[-0.2078600864702032, -2.9705403100271814]\n",
      "[2.10021958696311, -2.9918367948518774]\n",
      "[0.12450987015214016, -0.028070176475092305]\n"
     ]
    }
   ],
   "source": [
    "print(thetaX)\n",
    "print(thetaY)\n",
    "print(thetaZ)"
   ]
  },
  {
   "cell_type": "code",
   "execution_count": 32,
   "metadata": {},
   "outputs": [
    {
     "data": {
      "image/png": "[encoded data removed]",
      "text/plain": [
       "<Figure size 432x288 with 1 Axes>"
      ]
     },
     "metadata": {
      "needs_background": "light"
     },
     "output_type": "display_data"
    }
   ],
   "source": [
    "plotPolynom(dataset,Xline,Yline,Zline)"
   ]
  },
  {
   "cell_type": "code",
   "execution_count": 33,
   "metadata": {},
   "outputs": [
    {
     "name": "stdout",
     "output_type": "stream",
     "text": [
      "1519\n",
      "0.000123405883714424\n"
     ]
    }
   ],
   "source": [
    "thetaX2 = [random.uniform(-1,1),random.uniform(-1,1)]\n",
    "linearRegression(a,x,dataset2[0],thetaX2,err)"
   ]
  },
  {
   "cell_type": "code",
   "execution_count": 34,
   "metadata": {},
   "outputs": [
    {
     "name": "stdout",
     "output_type": "stream",
     "text": [
      "1817\n",
      "5.739429513790087e-05\n"
     ]
    }
   ],
   "source": [
    "thetaY2 = [random.uniform(0,2),random.uniform(0,2)]\n",
    "linearRegression(a,x,dataset2[1],thetaY2,err)"
   ]
  },
  {
   "cell_type": "code",
   "execution_count": 35,
   "metadata": {},
   "outputs": [
    {
     "name": "stdout",
     "output_type": "stream",
     "text": [
      "636\n",
      "0.00014763130995373023\n"
     ]
    }
   ],
   "source": [
    "thetaZ2 = [random.random(),random.random()]\n",
    "linearRegression(a,x,dataset2[2],thetaZ2,0.0001)"
   ]
  },
  {
   "cell_type": "code",
   "execution_count": 36,
   "metadata": {},
   "outputs": [],
   "source": [
    "Xline2 = []\n",
    "Yline2 = []\n",
    "Zline2 = []\n",
    "for i in x:\n",
    "    Xline2.append(linearH(thetaX2,i))\n",
    "    Yline2.append(linearH(thetaY2,i))\n",
    "    Zline2.append(linearH(thetaZ2,i))"
   ]
  },
  {
   "cell_type": "code",
   "execution_count": 37,
   "metadata": {},
   "outputs": [
    {
     "name": "stdout",
     "output_type": "stream",
     "text": [
      "[-0.13040362498597943, -0.15490879299857735, -0.17941396101117527, -0.20391912902377318, -0.22842429703637107, -0.25292946504896896, -0.2774346330615669, -0.30193980107416485, -0.32644496908676274, -0.3509501370993606, -0.37545530511195857, -0.39996047312455646, -0.4244656411371544, -0.44897080914975235, -0.47347597716235024, -0.4979811451749481, -0.5224863131875461, -0.546991481200144, -0.5714966492127418, -0.5960018172253398]\n"
     ]
    }
   ],
   "source": [
    "print(Xline2)"
   ]
  },
  {
   "cell_type": "code",
   "execution_count": 38,
   "metadata": {},
   "outputs": [
    {
     "data": {
      "image/png": "[encoded data removed]",
      "text/plain": [
       "<Figure size 432x288 with 1 Axes>"
      ]
     },
     "metadata": {
      "needs_background": "light"
     },
     "output_type": "display_data"
    }
   ],
   "source": [
    "plotPolynom(dataset2,Xline2,Yline2,Zline2)"
   ]
  },
  {
   "cell_type": "markdown",
   "metadata": {},
   "source": [
    "### Regressão Polinomial"
   ]
  },
  {
   "cell_type": "code",
   "execution_count": 39,
   "metadata": {},
   "outputs": [
    {
     "name": "stdout",
     "output_type": "stream",
     "text": [
      "50000\n",
      "0.00035865552631578895\n"
     ]
    }
   ],
   "source": [
    "grau = 1\n",
    "thetaXg1 = []\n",
    "for i in range(grau+1):\n",
    "    thetaXg1.append(random.uniform(-1,1))\n",
    "polynomialRegression(a,x,dataset[0],thetaXg1,err,grau)"
   ]
  },
  {
   "cell_type": "code",
   "execution_count": 40,
   "metadata": {},
   "outputs": [
    {
     "name": "stdout",
     "output_type": "stream",
     "text": [
      "50000\n",
      "5.738795112781932e-05\n"
     ]
    }
   ],
   "source": [
    "grau = 1\n",
    "thetaYg1 = []\n",
    "for i in range(grau+1):\n",
    "    thetaYg1.append(random.uniform(0,2))\n",
    "polynomialRegression(a,x,dataset[1],thetaYg1,err,grau)"
   ]
  },
  {
   "cell_type": "code",
   "execution_count": 41,
   "metadata": {},
   "outputs": [
    {
     "name": "stdout",
     "output_type": "stream",
     "text": [
      "50000\n",
      "9.727548872180453e-05\n"
     ]
    }
   ],
   "source": [
    "grau = 1\n",
    "thetaZg1 = []\n",
    "for i in range(grau+1):\n",
    "    thetaZg1.append(random.random())\n",
    "polynomialRegression(a,x,dataset[2],thetaZg1,err,grau)"
   ]
  },
  {
   "cell_type": "code",
   "execution_count": 42,
   "metadata": {},
   "outputs": [],
   "source": [
    "Xlineg1 = []\n",
    "Ylineg1 = []\n",
    "Zlineg1 = []\n",
    "for i in x:\n",
    "    Xlineg1.append(generalH(thetaXg1,i))\n",
    "    Ylineg1.append(generalH(thetaYg1,i))\n",
    "    Zlineg1.append(generalH(thetaZg1,i))"
   ]
  },
  {
   "cell_type": "code",
   "execution_count": 43,
   "metadata": {},
   "outputs": [
    {
     "name": "stdout",
     "output_type": "stream",
     "text": [
      "[-0.20734210526316632, -2.9734736842104783]\n",
      "[2.1004263157894636, -2.9930075187969374]\n",
      "[0.12477894736842093, -0.02959398496240541]\n"
     ]
    }
   ],
   "source": [
    "print(thetaXg1)\n",
    "print(thetaYg1)\n",
    "print(thetaZg1)"
   ]
  },
  {
   "cell_type": "code",
   "execution_count": 44,
   "metadata": {},
   "outputs": [
    {
     "data": {
      "image/png": "[encoded data removed]",
      "text/plain": [
       "<Figure size 432x288 with 1 Axes>"
      ]
     },
     "metadata": {
      "needs_background": "light"
     },
     "output_type": "display_data"
    }
   ],
   "source": [
    "plotPolynom(dataset,Xlineg1,Ylineg1,Zlineg1)"
   ]
  },
  {
   "cell_type": "code",
   "execution_count": 45,
   "metadata": {},
   "outputs": [
    {
     "name": "stdout",
     "output_type": "stream",
     "text": [
      "50000\n",
      "0.00026377251098927916\n"
     ]
    }
   ],
   "source": [
    "grau = 2\n",
    "thetaXg2 = []\n",
    "for i in range(grau+1):\n",
    "    thetaXg2.append(random.uniform(-1,1))\n",
    "polynomialRegression(a,x,dataset[0],thetaXg2,err,grau)"
   ]
  },
  {
   "cell_type": "code",
   "execution_count": 46,
   "metadata": {},
   "outputs": [
    {
     "name": "stdout",
     "output_type": "stream",
     "text": [
      "50000\n",
      "5.9126520726327715e-05\n"
     ]
    }
   ],
   "source": [
    "grau = 2\n",
    "thetaYg2 = []\n",
    "for i in range(grau+1):\n",
    "    thetaYg2.append(random.uniform(0,2))\n",
    "polynomialRegression(a,x,dataset[1],thetaYg2,err,grau)"
   ]
  },
  {
   "cell_type": "code",
   "execution_count": 47,
   "metadata": {},
   "outputs": [
    {
     "name": "stdout",
     "output_type": "stream",
     "text": [
      "50000\n",
      "9.24188510259078e-05\n"
     ]
    }
   ],
   "source": [
    "grau = 2\n",
    "thetaZg2 = []\n",
    "for i in range(grau+1):\n",
    "    thetaZg2.append(random.random())\n",
    "polynomialRegression(a,x,dataset[2],thetaZg2,err,grau)"
   ]
  },
  {
   "cell_type": "code",
   "execution_count": 48,
   "metadata": {},
   "outputs": [],
   "source": [
    "Xlineg2 = []\n",
    "Ylineg2 = []\n",
    "Zlineg2 = []\n",
    "for i in x:\n",
    "    Xlineg2.append(generalH(thetaXg2,i))\n",
    "    Ylineg2.append(generalH(thetaYg2,i))\n",
    "    Zlineg2.append(generalH(thetaZg2,i))"
   ]
  },
  {
   "cell_type": "code",
   "execution_count": 49,
   "metadata": {},
   "outputs": [
    {
     "data": {
      "image/png": "[encoded data removed]",
      "text/plain": [
       "<Figure size 432x288 with 1 Axes>"
      ]
     },
     "metadata": {
      "needs_background": "light"
     },
     "output_type": "display_data"
    }
   ],
   "source": [
    "plotPolynom(dataset,Xlineg2,Ylineg2,Zlineg2)"
   ]
  },
  {
   "cell_type": "code",
   "execution_count": 50,
   "metadata": {},
   "outputs": [
    {
     "name": "stdout",
     "output_type": "stream",
     "text": [
      "50000\n",
      "0.0002618781940436772\n"
     ]
    }
   ],
   "source": [
    "grau = 5\n",
    "thetaXg5 = []\n",
    "for i in range(grau+1):\n",
    "    thetaXg5.append(random.uniform(-1,1))\n",
    "polynomialRegression(a,x,dataset[0],thetaXg5,err,grau)"
   ]
  },
  {
   "cell_type": "code",
   "execution_count": 51,
   "metadata": {},
   "outputs": [
    {
     "name": "stdout",
     "output_type": "stream",
     "text": [
      "50000\n",
      "5.699893633168397e-05\n"
     ]
    }
   ],
   "source": [
    "grau = 5\n",
    "thetaYg5 = []\n",
    "for i in range(grau+1):\n",
    "    thetaYg5.append(random.uniform(0,2))\n",
    "polynomialRegression(a,x,dataset[1],thetaYg5,err,grau)"
   ]
  },
  {
   "cell_type": "code",
   "execution_count": 52,
   "metadata": {},
   "outputs": [
    {
     "name": "stdout",
     "output_type": "stream",
     "text": [
      "50000\n",
      "9.517403112223925e-05\n"
     ]
    }
   ],
   "source": [
    "grau = 5\n",
    "thetaZg5 = []\n",
    "for i in range(grau+1):\n",
    "    thetaZg5.append(random.random())\n",
    "polynomialRegression(a,x,dataset[2],thetaZg5,err,grau)"
   ]
  },
  {
   "cell_type": "code",
   "execution_count": 53,
   "metadata": {},
   "outputs": [],
   "source": [
    "Xlineg5 = []\n",
    "Ylineg5 = []\n",
    "Zlineg5 = []\n",
    "for i in x:\n",
    "    Xlineg5.append(generalH(thetaXg5,i))\n",
    "    Ylineg5.append(generalH(thetaYg5,i))\n",
    "    Zlineg5.append(generalH(thetaZg5,i))"
   ]
  },
  {
   "cell_type": "code",
   "execution_count": 54,
   "metadata": {},
   "outputs": [
    {
     "data": {
      "image/png": "[encoded data removed]",
      "text/plain": [
       "<Figure size 432x288 with 1 Axes>"
      ]
     },
     "metadata": {
      "needs_background": "light"
     },
     "output_type": "display_data"
    }
   ],
   "source": [
    "plotPolynom(dataset,Xlineg5,Ylineg5,Zlineg5)"
   ]
  },
  {
   "cell_type": "code",
   "execution_count": 55,
   "metadata": {},
   "outputs": [
    {
     "name": "stdout",
     "output_type": "stream",
     "text": [
      "50000\n",
      "0.0002609288352398164\n"
     ]
    }
   ],
   "source": [
    "grau = 10\n",
    "thetaXg10 = []\n",
    "for i in range(grau+1):\n",
    "    thetaXg10.append(random.uniform(-1,1))\n",
    "polynomialRegression(a,x,dataset[0],thetaXg10,err,grau)"
   ]
  },
  {
   "cell_type": "code",
   "execution_count": 56,
   "metadata": {},
   "outputs": [
    {
     "name": "stdout",
     "output_type": "stream",
     "text": [
      "[-0.1787434087429464, -3.4121243869657225, 0.9900859787517777, 0.8519305607335381, -0.23093716743257592, 1.0356697802990598, -0.737357886884381, -0.1549427683644666, 0.5171068694532459, -0.695147205236532, -0.021802247815964702]\n"
     ]
    }
   ],
   "source": [
    "print(thetaXg10)"
   ]
  },
  {
   "cell_type": "code",
   "execution_count": null,
   "metadata": {},
   "outputs": [],
   "source": [
    "grau = 10\n",
    "thetaYg10 = []\n",
    "for i in range(grau+1):\n",
    "    thetaYg10.append(random.uniform(0,2))\n",
    "polynomialRegression(a,x,dataset[1],thetaYg10,err,grau)"
   ]
  },
  {
   "cell_type": "code",
   "execution_count": null,
   "metadata": {},
   "outputs": [],
   "source": [
    "grau = 10\n",
    "thetaZg10 = []\n",
    "for i in range(grau+1):\n",
    "    thetaZg10.append(random.random())\n",
    "polynomialRegression(a,x,dataset[2],thetaZg10,err,grau)"
   ]
  },
  {
   "cell_type": "code",
   "execution_count": null,
   "metadata": {},
   "outputs": [],
   "source": [
    "Xlineg10 = []\n",
    "Ylineg10 = []\n",
    "Zlineg10 = []\n",
    "for i in x2:\n",
    "    Xlineg10.append(generalH(thetaXg10,i))\n",
    "    Ylineg10.append(generalH(thetaYg10,i))\n",
    "    Zlineg10.append(generalH(thetaZg10,i))"
   ]
  },
  {
   "cell_type": "code",
   "execution_count": null,
   "metadata": {},
   "outputs": [],
   "source": [
    "plotPolynom(dataset,Xlineg10,Ylineg10,Zlineg10)"
   ]
  },
  {
   "cell_type": "code",
   "execution_count": null,
   "metadata": {},
   "outputs": [],
   "source": [
    "grau = 1\n",
    "theta2Xg1 = []\n",
    "for i in range(grau+1):\n",
    "    theta2Xg1.append(random.uniform(-1,1))\n",
    "polynomialRegression(a,x,dataset2[0],theta2Xg1,err,grau)"
   ]
  },
  {
   "cell_type": "code",
   "execution_count": null,
   "metadata": {},
   "outputs": [],
   "source": [
    "grau = 1\n",
    "theta2Yg1 = []\n",
    "for i in range(grau+1):\n",
    "    theta2Yg1.append(random.uniform(0,2))\n",
    "polynomialRegression(a,x,dataset2[1],theta2Yg1,err,grau)"
   ]
  },
  {
   "cell_type": "code",
   "execution_count": null,
   "metadata": {},
   "outputs": [],
   "source": [
    "grau = 1\n",
    "theta2Zg1 = []\n",
    "for i in range(grau+1):\n",
    "    theta2Zg1.append(random.random())\n",
    "polynomialRegression(a,x,dataset2[2],theta2Zg1,err,grau)"
   ]
  },
  {
   "cell_type": "code",
   "execution_count": null,
   "metadata": {},
   "outputs": [],
   "source": [
    "Xline2g1 = []\n",
    "Yline2g1 = []\n",
    "Zline2g1 = []\n",
    "for i in x:\n",
    "    Xline2g1.append(generalH(theta2Xg1,i))\n",
    "    Yline2g1.append(generalH(theta2Yg1,i))\n",
    "    Zline2g1.append(generalH(theta2Zg1,i))"
   ]
  },
  {
   "cell_type": "code",
   "execution_count": null,
   "metadata": {},
   "outputs": [],
   "source": [
    "plotPolynom(dataset2,Xline2g1,Yline2g1,Zline2g1)"
   ]
  },
  {
   "cell_type": "code",
   "execution_count": null,
   "metadata": {},
   "outputs": [],
   "source": [
    "grau = 1\n",
    "theta2Xg2 = []\n",
    "for i in range(grau+1):\n",
    "    theta2Xg2.append(random.uniform(-1,1))\n",
    "polynomialRegression(a,x,dataset2[0],theta2Xg2,err,grau)"
   ]
  },
  {
   "cell_type": "code",
   "execution_count": null,
   "metadata": {},
   "outputs": [],
   "source": [
    "grau = 1\n",
    "theta2Yg2 = []\n",
    "for i in range(grau+1):\n",
    "    theta2Yg2.append(random.uniform(0,2))\n",
    "polynomialRegression(a,x,dataset2[1],theta2Yg2,err,grau)"
   ]
  },
  {
   "cell_type": "code",
   "execution_count": null,
   "metadata": {},
   "outputs": [],
   "source": [
    "grau = 2\n",
    "theta2Zg2 = []\n",
    "for i in range(grau+1):\n",
    "    theta2Zg2.append(random.random())\n",
    "polynomialRegression(a,x,dataset2[2],theta2Zg2,err,grau)"
   ]
  },
  {
   "cell_type": "code",
   "execution_count": null,
   "metadata": {},
   "outputs": [],
   "source": [
    "Xline2g2 = []\n",
    "Yline2g2 = []\n",
    "Zline2g2 = []\n",
    "for i in x:\n",
    "    Xline2g2.append(generalH(theta2Xg2,i))\n",
    "    Yline2g2.append(generalH(theta2Yg2,i))\n",
    "    Zline2g2.append(generalH(theta2Zg2,i))"
   ]
  },
  {
   "cell_type": "code",
   "execution_count": null,
   "metadata": {},
   "outputs": [],
   "source": [
    "plotPolynom(dataset2,Xline2g2,Yline2g2,Zline2g2)"
   ]
  },
  {
   "cell_type": "code",
   "execution_count": null,
   "metadata": {},
   "outputs": [],
   "source": [
    "grau = 2\n",
    "theta2Xg2t = []\n",
    "for i in range(grau+1):\n",
    "    theta2Xg2t.append(random.uniform(-1,1))\n",
    "polynomialRegression(a,x,dataset2[0],theta2Xg2t,err,grau)"
   ]
  },
  {
   "cell_type": "code",
   "execution_count": null,
   "metadata": {},
   "outputs": [],
   "source": [
    "grau = 2\n",
    "theta2Yg2t = []\n",
    "for i in range(grau+1):\n",
    "    theta2Yg2t.append(random.uniform(0,2))\n",
    "polynomialRegression(a,x,dataset2[1],theta2Yg2t,err,grau)"
   ]
  },
  {
   "cell_type": "code",
   "execution_count": null,
   "metadata": {},
   "outputs": [],
   "source": [
    "grau = 2\n",
    "theta2Zg2t = []\n",
    "for i in range(grau+1):\n",
    "    theta2Zg2t.append(random.random())\n",
    "polynomialRegression(a,x,dataset2[2],theta2Zg2t,err,grau)"
   ]
  },
  {
   "cell_type": "code",
   "execution_count": null,
   "metadata": {},
   "outputs": [],
   "source": [
    "Xline2g2t = []\n",
    "Yline2g2t = []\n",
    "Zline2g2t = []\n",
    "for i in x:\n",
    "    Xline2g2t.append(generalH(theta2Xg2t,i))\n",
    "    Yline2g2t.append(generalH(theta2Yg2t,i))\n",
    "    Zline2g2t.append(generalH(theta2Zg2t,i))"
   ]
  },
  {
   "cell_type": "code",
   "execution_count": null,
   "metadata": {},
   "outputs": [],
   "source": [
    "plotPolynom(dataset2,Xline2g2t,Yline2g2t,Zline2g2t)"
   ]
  },
  {
   "cell_type": "code",
   "execution_count": null,
   "metadata": {},
   "outputs": [],
   "source": [
    "grau = 1\n",
    "theta2Xg5 = []\n",
    "for i in range(grau+1):\n",
    "    theta2Xg5.append(random.uniform(-1,1))\n",
    "polynomialRegression(a,x,dataset2[0],theta2Xg5,err,grau)"
   ]
  },
  {
   "cell_type": "code",
   "execution_count": null,
   "metadata": {},
   "outputs": [],
   "source": [
    "grau = 1\n",
    "theta2Yg5 = []\n",
    "for i in range(grau+1):\n",
    "    theta2Yg5.append(random.uniform(0,2))\n",
    "polynomialRegression(a,x,dataset2[1],theta2Yg5,err,grau)"
   ]
  },
  {
   "cell_type": "code",
   "execution_count": null,
   "metadata": {},
   "outputs": [],
   "source": [
    "grau = 5\n",
    "theta2Zg5 = []\n",
    "for i in range(grau+1):\n",
    "    theta2Zg5.append(random.random())\n",
    "polynomialRegression(a,x,dataset2[2],theta2Zg5,err,grau)"
   ]
  },
  {
   "cell_type": "code",
   "execution_count": null,
   "metadata": {},
   "outputs": [],
   "source": [
    "Xline2g5 = []\n",
    "Yline2g5 = []\n",
    "Zline2g5 = []\n",
    "for i in x2:\n",
    "    Xline2g5.append(generalH(theta2Xg5,i))\n",
    "    Yline2g5.append(generalH(theta2Yg5,i))\n",
    "    Zline2g5.append(generalH(theta2Zg5,i))"
   ]
  },
  {
   "cell_type": "code",
   "execution_count": null,
   "metadata": {},
   "outputs": [],
   "source": [
    "plotPolynom(dataset2,Xline2g5,Yline2g5,Zline2g5)"
   ]
  },
  {
   "cell_type": "code",
   "execution_count": null,
   "metadata": {},
   "outputs": [],
   "source": [
    "x3 = gettingX(-2/3,2,1/60)"
   ]
  },
  {
   "cell_type": "code",
   "execution_count": null,
   "metadata": {},
   "outputs": [],
   "source": [
    "grau = 1\n",
    "theta2Xg10 = []\n",
    "for i in range(grau+1):\n",
    "    theta2Xg10.append(random.uniform(-1,1))\n",
    "polynomialRegression(a,x,dataset2[0],theta2Xg10,err,grau)"
   ]
  },
  {
   "cell_type": "code",
   "execution_count": null,
   "metadata": {},
   "outputs": [],
   "source": [
    "grau = 1\n",
    "theta2Yg10 = []\n",
    "for i in range(grau+1):\n",
    "    theta2Yg10.append(random.uniform(0,2))\n",
    "polynomialRegression(a,x,dataset2[1],theta2Yg10,err,grau)"
   ]
  },
  {
   "cell_type": "code",
   "execution_count": null,
   "metadata": {},
   "outputs": [],
   "source": [
    "grau = 10\n",
    "theta2Zg10 = []\n",
    "for i in range(grau+1):\n",
    "    theta2Zg10.append(random.random())\n",
    "polynomialRegression(a,x,dataset2[2],theta2Zg10,err,grau)"
   ]
  },
  {
   "cell_type": "code",
   "execution_count": null,
   "metadata": {},
   "outputs": [],
   "source": [
    "Xline2g10 = []\n",
    "Yline2g10 = []\n",
    "Zline2g10 = []\n",
    "for i in x2:\n",
    "    Xline2g10.append(generalH(theta2Xg10,i))\n",
    "    Yline2g10.append(generalH(theta2Yg10,i))\n",
    "    Zline2g10.append(generalH(theta2Zg10,i))"
   ]
  },
  {
   "cell_type": "code",
   "execution_count": null,
   "metadata": {},
   "outputs": [],
   "source": [
    "plotPolynom(dataset2,Xline2g10,Yline2g10,Zline2g10)"
   ]
  },
  {
   "cell_type": "markdown",
   "metadata": {},
   "source": [
    "### Variando a taxa de aprendizado"
   ]
  },
  {
   "cell_type": "code",
   "execution_count": null,
   "metadata": {},
   "outputs": [],
   "source": [
    "grau = 1\n",
    "thetaXg1a1 = []\n",
    "for i in range(grau+1):\n",
    "    thetaXg1a1.append(random.uniform(-1,1))\n",
    "polynomialRegression(0.001,x,dataset[0],thetaXg1a1,err,grau)"
   ]
  },
  {
   "cell_type": "code",
   "execution_count": null,
   "metadata": {},
   "outputs": [],
   "source": [
    "grau = 1\n",
    "thetaYg1a1 = []\n",
    "for i in range(grau+1):\n",
    "    thetaYg1a1.append(random.uniform(0,2))\n",
    "polynomialRegression(0.001,x,dataset[1],thetaYg1a1,err,grau)"
   ]
  },
  {
   "cell_type": "code",
   "execution_count": null,
   "metadata": {},
   "outputs": [],
   "source": [
    "grau = 1\n",
    "thetaZg1a1 = []\n",
    "for i in range(grau+1):\n",
    "    thetaZg1a1.append(random.random())\n",
    "polynomialRegression(0.001,x,dataset[2],thetaZg1a1,err,grau)"
   ]
  },
  {
   "cell_type": "code",
   "execution_count": null,
   "metadata": {},
   "outputs": [],
   "source": [
    "Xlineg1a1 = []\n",
    "Ylineg1a1 = []\n",
    "Zlineg1a1 = []\n",
    "for i in x:\n",
    "    Xlineg1a1.append(generalH(thetaXg1a1,i))\n",
    "    Ylineg1a1.append(generalH(thetaYg1a1,i))\n",
    "    Zlineg1a1.append(generalH(thetaZg1a1,i))"
   ]
  },
  {
   "cell_type": "code",
   "execution_count": null,
   "metadata": {},
   "outputs": [],
   "source": [
    "plotPolynom(dataset,Xlineg1a1,Ylineg1a1,Zlineg1a1)"
   ]
  },
  {
   "cell_type": "code",
   "execution_count": null,
   "metadata": {},
   "outputs": [],
   "source": [
    "grau = 1\n",
    "theta2Xg2a1 = []\n",
    "for i in range(grau+1):\n",
    "    theta2Xg2a1.append(random.uniform(-1,1))\n",
    "polynomialRegression(0.001,x,dataset2[0],theta2Xg2a1,err,grau)"
   ]
  },
  {
   "cell_type": "code",
   "execution_count": null,
   "metadata": {},
   "outputs": [],
   "source": [
    "grau = 1\n",
    "theta2Yg2a1 = []\n",
    "for i in range(grau+1):\n",
    "    theta2Yg2a1.append(random.uniform(0,2))\n",
    "polynomialRegression(0.001,x,dataset2[1],theta2Yg2a1,err,grau)"
   ]
  },
  {
   "cell_type": "code",
   "execution_count": null,
   "metadata": {},
   "outputs": [],
   "source": [
    "grau = 2\n",
    "theta2Zg2a1 = []\n",
    "for i in range(grau+1):\n",
    "    theta2Zg2a1.append(random.random())\n",
    "polynomialRegression(0.001,x,dataset2[2],theta2Zg2a1,err,grau)"
   ]
  },
  {
   "cell_type": "code",
   "execution_count": null,
   "metadata": {},
   "outputs": [],
   "source": [
    "Xline2g2a1 = []\n",
    "Yline2g2a1 = []\n",
    "Zline2g2a1 = []\n",
    "for i in x:\n",
    "    Xline2g2a1.append(generalH(theta2Xg2a1,i))\n",
    "    Yline2g2a1.append(generalH(theta2Yg2a1,i))\n",
    "    Zline2g2a1.append(generalH(theta2Zg2a1,i))"
   ]
  },
  {
   "cell_type": "code",
   "execution_count": null,
   "metadata": {},
   "outputs": [],
   "source": [
    "plotPolynom(dataset2,Xline2g2a1,Yline2g2a1,Zline2g2a1)"
   ]
  },
  {
   "cell_type": "code",
   "execution_count": null,
   "metadata": {},
   "outputs": [],
   "source": [
    "grau = 1\n",
    "thetaXg1a2 = []\n",
    "for i in range(grau+1):\n",
    "    thetaXg1a2.append(random.uniform(-1,1))\n",
    "polynomialRegression(0.01,x,dataset[0],thetaXg1a2,err,grau)"
   ]
  },
  {
   "cell_type": "code",
   "execution_count": null,
   "metadata": {},
   "outputs": [],
   "source": [
    "grau = 1\n",
    "thetaYg1a2 = []\n",
    "for i in range(grau+1):\n",
    "    thetaYg1a2.append(random.uniform(0,2))\n",
    "polynomialRegression(0.01,x,dataset[1],thetaYg1a2,err,grau)"
   ]
  },
  {
   "cell_type": "code",
   "execution_count": null,
   "metadata": {},
   "outputs": [],
   "source": [
    "grau = 1\n",
    "thetaZg1a2 = []\n",
    "for i in range(grau+1):\n",
    "    thetaZg1a2.append(random.random())\n",
    "polynomialRegression(0.01,x,dataset[2],thetaZg1a2,err,grau)"
   ]
  },
  {
   "cell_type": "code",
   "execution_count": null,
   "metadata": {},
   "outputs": [],
   "source": [
    "Xlineg1a2 = []\n",
    "Ylineg1a2 = []\n",
    "Zlineg1a2 = []\n",
    "for i in x:\n",
    "    Xlineg1a2.append(generalH(thetaXg1a2,i))\n",
    "    Ylineg1a2.append(generalH(thetaYg1a2,i))\n",
    "    Zlineg1a2.append(generalH(thetaZg1a2,i))"
   ]
  },
  {
   "cell_type": "code",
   "execution_count": null,
   "metadata": {},
   "outputs": [],
   "source": [
    "plotPolynom(dataset,Xlineg1a2,Ylineg1a2,Zlineg1a2)"
   ]
  },
  {
   "cell_type": "code",
   "execution_count": null,
   "metadata": {},
   "outputs": [],
   "source": [
    "grau = 1\n",
    "theta2Xg2a2 = []\n",
    "for i in range(grau+1):\n",
    "    theta2Xg2a2.append(random.uniform(-1,1))\n",
    "polynomialRegression(0.01,x,dataset2[0],theta2Xg2a2,err,grau)"
   ]
  },
  {
   "cell_type": "code",
   "execution_count": null,
   "metadata": {},
   "outputs": [],
   "source": [
    "grau = 1\n",
    "theta2Yg2a2 = []\n",
    "for i in range(grau+1):\n",
    "    theta2Yg2a2.append(random.uniform(0,2))\n",
    "polynomialRegression(0.01,x,dataset2[1],theta2Yg2a2,err,grau)"
   ]
  },
  {
   "cell_type": "code",
   "execution_count": null,
   "metadata": {},
   "outputs": [],
   "source": [
    "grau = 2\n",
    "theta2Zg2a2 = []\n",
    "for i in range(grau+1):\n",
    "    theta2Zg2a2.append(random.random())\n",
    "polynomialRegression(0.01,x,dataset2[2],theta2Zg2a2,err,grau)"
   ]
  },
  {
   "cell_type": "code",
   "execution_count": null,
   "metadata": {},
   "outputs": [],
   "source": [
    "Xline2g2a2 = []\n",
    "Yline2g2a2 = []\n",
    "Zline2g2a2 = []\n",
    "for i in x:\n",
    "    Xline2g2a2.append(generalH(theta2Xg2a2,i))\n",
    "    Yline2g2a2.append(generalH(theta2Yg2a2,i))\n",
    "    Zline2g2a2.append(generalH(theta2Zg2a2,i))"
   ]
  },
  {
   "cell_type": "code",
   "execution_count": null,
   "metadata": {},
   "outputs": [],
   "source": [
    "plotPolynom(dataset2,Xline2g2a2,Yline2g2a2,Zline2g2a2)"
   ]
  },
  {
   "cell_type": "code",
   "execution_count": null,
   "metadata": {},
   "outputs": [],
   "source": [
    "grau = 1\n",
    "thetaXg1a3 = []\n",
    "for i in range(grau+1):\n",
    "    thetaXg1a3.append(random.uniform(-1,1))\n",
    "polynomialRegression(0.1,x,dataset[0],thetaXg1a3,err,grau)"
   ]
  },
  {
   "cell_type": "code",
   "execution_count": null,
   "metadata": {},
   "outputs": [],
   "source": [
    "grau = 1\n",
    "thetaYg1a3 = []\n",
    "for i in range(grau+1):\n",
    "    thetaYg1a3.append(random.uniform(0,2))\n",
    "polynomialRegression(0.1,x,dataset[1],thetaYg1a3,err,grau)"
   ]
  },
  {
   "cell_type": "code",
   "execution_count": null,
   "metadata": {},
   "outputs": [],
   "source": [
    "grau = 1\n",
    "thetaZg1a3 = []\n",
    "for i in range(grau+1):\n",
    "    thetaZg1a3.append(random.random())\n",
    "polynomialRegression(0.1,x,dataset[2],thetaZg1a3,err,grau)"
   ]
  },
  {
   "cell_type": "code",
   "execution_count": null,
   "metadata": {},
   "outputs": [],
   "source": [
    "Xlineg1a3 = []\n",
    "Ylineg1a3 = []\n",
    "Zlineg1a3 = []\n",
    "for i in x:\n",
    "    Xlineg1a3.append(generalH(thetaXg1a2,i))\n",
    "    Ylineg1a3.append(generalH(thetaYg1a2,i))\n",
    "    Zlineg1a3.append(generalH(thetaZg1a2,i))"
   ]
  },
  {
   "cell_type": "code",
   "execution_count": null,
   "metadata": {},
   "outputs": [],
   "source": [
    "plotPolynom(dataset,Xlineg1a3,Ylineg1a3,Zlineg1a3)"
   ]
  },
  {
   "cell_type": "code",
   "execution_count": null,
   "metadata": {},
   "outputs": [],
   "source": [
    "grau = 1\n",
    "theta2Xg2a3 = []\n",
    "for i in range(grau+1):\n",
    "    theta2Xg2a3.append(random.uniform(-1,1))\n",
    "polynomialRegression(0.1,x,dataset2[0],theta2Xg2a3,err,grau)"
   ]
  },
  {
   "cell_type": "code",
   "execution_count": null,
   "metadata": {},
   "outputs": [],
   "source": [
    "grau = 1\n",
    "theta2Yg2a3 = []\n",
    "for i in range(grau+1):\n",
    "    theta2Yg2a3.append(random.uniform(0,2))\n",
    "polynomialRegression(0.1,x,dataset2[1],theta2Yg2a3,err,grau)"
   ]
  },
  {
   "cell_type": "code",
   "execution_count": null,
   "metadata": {},
   "outputs": [],
   "source": [
    "grau = 2\n",
    "theta2Zg2a3 = []\n",
    "for i in range(grau+1):\n",
    "    theta2Zg2a3.append(random.random())\n",
    "polynomialRegression(0.1,x,dataset2[2],theta2Zg2a3,err,grau)"
   ]
  },
  {
   "cell_type": "code",
   "execution_count": null,
   "metadata": {},
   "outputs": [],
   "source": [
    "Xline2g2a3 = []\n",
    "Yline2g2a3 = []\n",
    "Zline2g2a3 = []\n",
    "for i in x:\n",
    "    Xline2g2a3.append(generalH(theta2Xg2a3,i))\n",
    "    Yline2g2a3.append(generalH(theta2Yg2a3,i))\n",
    "    Zline2g2a3.append(generalH(theta2Zg2a3,i))"
   ]
  },
  {
   "cell_type": "code",
   "execution_count": null,
   "metadata": {},
   "outputs": [],
   "source": [
    "plotPolynom(dataset2,Xline2g2a3,Yline2g2a3,Zline2g2a3)"
   ]
  },
  {
   "cell_type": "code",
   "execution_count": null,
   "metadata": {},
   "outputs": [],
   "source": [
    "grau = 1\n",
    "thetaXg1a4 = []\n",
    "for i in range(grau+1):\n",
    "    thetaXg1a4.append(random.uniform(-1,1))\n",
    "polynomialRegression(1,x,dataset[0],thetaXg1a4,err,grau)"
   ]
  },
  {
   "cell_type": "code",
   "execution_count": null,
   "metadata": {},
   "outputs": [],
   "source": [
    "grau = 1\n",
    "thetaYg1a4 = []\n",
    "for i in range(grau+1):\n",
    "    thetaYg1a4.append(random.uniform(0,2))\n",
    "polynomialRegression(1,x,dataset[1],thetaYg1a4,err,grau)"
   ]
  },
  {
   "cell_type": "code",
   "execution_count": null,
   "metadata": {},
   "outputs": [],
   "source": [
    "grau = 1\n",
    "thetaZg1a4 = []\n",
    "for i in range(grau+1):\n",
    "    thetaZg1a4.append(random.random())\n",
    "polynomialRegression(1,x,dataset[2],thetaZg1a4,err,grau)"
   ]
  },
  {
   "cell_type": "code",
   "execution_count": null,
   "metadata": {},
   "outputs": [],
   "source": [
    "Xlineg1a4 = []\n",
    "Ylineg1a4 = []\n",
    "Zlineg1a4 = []\n",
    "for i in x:\n",
    "    Xlineg1a4.append(generalH(thetaXg1a4,i))\n",
    "    Ylineg1a4.append(generalH(thetaYg1a4,i))\n",
    "    Zlineg1a4.append(generalH(thetaZg1a4,i))"
   ]
  },
  {
   "cell_type": "code",
   "execution_count": null,
   "metadata": {},
   "outputs": [],
   "source": [
    "plotPolynom(dataset,Xlineg1a4,Ylineg1a4,Zlineg1a4)"
   ]
  },
  {
   "cell_type": "code",
   "execution_count": null,
   "metadata": {},
   "outputs": [],
   "source": [
    "grau = 1\n",
    "theta2Xg2a4 = []\n",
    "for i in range(grau+1):\n",
    "    theta2Xg2a4.append(random.uniform(-1,1))\n",
    "polynomialRegression(1,x,dataset2[0],theta2Xg2a4,err,grau)"
   ]
  },
  {
   "cell_type": "code",
   "execution_count": null,
   "metadata": {},
   "outputs": [],
   "source": [
    "grau = 1\n",
    "theta2Yg2a4 = []\n",
    "for i in range(grau+1):\n",
    "    theta2Yg2a4.append(random.uniform(0,2))\n",
    "polynomialRegression(1,x,dataset2[1],theta2Yg2a4,err,grau)"
   ]
  },
  {
   "cell_type": "code",
   "execution_count": null,
   "metadata": {},
   "outputs": [],
   "source": [
    "grau = 2\n",
    "theta2Zg2a4 = []\n",
    "for i in range(grau+1):\n",
    "    theta2Zg2a4.append(random.random())\n",
    "polynomialRegression(1,x,dataset2[2],theta2Zg2a4,err,grau)"
   ]
  },
  {
   "cell_type": "code",
   "execution_count": null,
   "metadata": {},
   "outputs": [],
   "source": [
    "Xline2g2a4 = []\n",
    "Yline2g2a4 = []\n",
    "Zline2g2a4 = []\n",
    "for i in x:\n",
    "    Xline2g2a4.append(generalH(theta2Xg2a4,i))\n",
    "    Yline2g2a4.append(generalH(theta2Yg2a4,i))\n",
    "    Zline2g2a4.append(generalH(theta2Zg2a4,i))"
   ]
  },
  {
   "cell_type": "code",
   "execution_count": null,
   "metadata": {},
   "outputs": [],
   "source": [
    "plotPolynom(dataset2,Xline2g2a4,Yline2g2a4,Zline2g2a4)"
   ]
  },
  {
   "cell_type": "code",
   "execution_count": null,
   "metadata": {},
   "outputs": [],
   "source": [
    "grau = 1\n",
    "thetaXg1a5 = []\n",
    "for i in range(grau+1):\n",
    "    thetaXg1a5.append(random.uniform(-1,1))\n",
    "polynomialRegression(2,x,dataset[0],thetaXg1a5,err,grau)"
   ]
  },
  {
   "cell_type": "code",
   "execution_count": null,
   "metadata": {},
   "outputs": [],
   "source": [
    "grau = 1\n",
    "thetaYg1a5 = []\n",
    "for i in range(grau+1):\n",
    "    thetaYg1a5.append(random.uniform(0,2))\n",
    "polynomialRegression(2,x,dataset[1],thetaYg1a5,err,grau)"
   ]
  },
  {
   "cell_type": "code",
   "execution_count": null,
   "metadata": {},
   "outputs": [],
   "source": [
    "grau = 1\n",
    "thetaZg1a5 = []\n",
    "for i in range(grau+1):\n",
    "    thetaZg1a5.append(random.random())\n",
    "polynomialRegression(2,x,dataset[2],thetaZg1a5,err,grau)"
   ]
  },
  {
   "cell_type": "code",
   "execution_count": null,
   "metadata": {},
   "outputs": [],
   "source": [
    "Xlineg1a5 = []\n",
    "Ylineg1a5 = []\n",
    "Zlineg1a5 = []\n",
    "for i in x:\n",
    "    Xlineg1a5.append(generalH(thetaXg1a5,i))\n",
    "    Ylineg1a5.append(generalH(thetaYg1a5,i))\n",
    "    Zlineg1a5.append(generalH(thetaZg1a5,i))"
   ]
  },
  {
   "cell_type": "code",
   "execution_count": null,
   "metadata": {},
   "outputs": [],
   "source": [
    "plotPolynom(dataset,Xlineg1a5,Ylineg1a5,Zlineg1a5)"
   ]
  },
  {
   "cell_type": "code",
   "execution_count": null,
   "metadata": {},
   "outputs": [],
   "source": [
    "grau = 1\n",
    "theta2Xg2a5 = []\n",
    "for i in range(grau+1):\n",
    "    theta2Xg2a5.append(random.uniform(-1,1))\n",
    "polynomialRegression(2,x,dataset2[0],theta2Xg2a5,err,grau)"
   ]
  },
  {
   "cell_type": "code",
   "execution_count": null,
   "metadata": {},
   "outputs": [],
   "source": [
    "grau = 1\n",
    "theta2Yg2a5 = []\n",
    "for i in range(grau+1):\n",
    "    theta2Yg2a5.append(random.uniform(0,2))\n",
    "polynomialRegression(2,x,dataset2[1],theta2Yg2a5,err,grau)"
   ]
  },
  {
   "cell_type": "code",
   "execution_count": null,
   "metadata": {},
   "outputs": [],
   "source": [
    "grau = 2\n",
    "theta2Zg2a5 = []\n",
    "for i in range(grau+1):\n",
    "    theta2Zg2a5.append(random.random())\n",
    "polynomialRegression(2,x,dataset2[2],theta2Zg2a5,err,grau)"
   ]
  },
  {
   "cell_type": "code",
   "execution_count": null,
   "metadata": {},
   "outputs": [],
   "source": [
    "Xline2g2a5 = []\n",
    "Yline2g2a5 = []\n",
    "Zline2g2a5 = []\n",
    "for i in x:\n",
    "    Xline2g2a5.append(generalH(theta2Xg2a5,i))\n",
    "    Yline2g2a5.append(generalH(theta2Yg2a5,i))\n",
    "    Zline2g2a5.append(generalH(theta2Zg2a5,i))"
   ]
  },
  {
   "cell_type": "code",
   "execution_count": null,
   "metadata": {},
   "outputs": [],
   "source": [
    "plotPolynom(dataset2,Xline2g2a5,Yline2g2a5,Zline2g2a5)"
   ]
  },
  {
   "cell_type": "code",
   "execution_count": null,
   "metadata": {},
   "outputs": [],
   "source": [
    "print(Xlineg1a5)\n",
    "print(Ylineg1a5)\n",
    "print(Zlineg1a5)"
   ]
  },
  {
   "cell_type": "markdown",
   "metadata": {},
   "source": [
    "### Avaliação do erro"
   ]
  },
  {
   "cell_type": "markdown",
   "metadata": {},
   "source": [
    "Os resultados ficaram nas seguintes variáveis: \n",
    "\n",
    "Variável   | Resultado\n",
    "---------  | ---------\n",
    "Dlinen     | Resultado regressão linear na dimensão D e chute n\n",
    "Dlinengm   | Resultado regressão polinomial na dimensão D, chute n e grau m\n",
    "Dline2g2t  | Resultado de teste para regressão polinomial de grau 2\n",
    "Dlinengmas | Resultado regressão polinomial na dimensão D, chute n, grau m e learning rate a = s  \n",
    "\n",
    "**Tabela 1:** Explicação dos nomes dos resultados"
   ]
  },
  {
   "cell_type": "markdown",
   "metadata": {},
   "source": [
    "#### Efeito do grau"
   ]
  },
  {
   "cell_type": "code",
   "execution_count": null,
   "metadata": {},
   "outputs": [],
   "source": [
    "Xrmse = rmse(Xline,dataset[0])\n",
    "Yrmse = rmse(Yline,dataset[1])\n",
    "Zrmse = rmse(Zline, dataset[2])\n",
    "Xrse = rse(Xline,dataset[0])\n",
    "Yrse = rse(Yline,dataset[1])\n",
    "Zrse = rse(Zline, dataset[2])\n",
    "print(\"RMSE regressão Linear Chute 1:\")\n",
    "print(\"X:\",Xrmse)\n",
    "print(\"Y:\", Yrmse)\n",
    "print(\"Z\", Zrmse)\n",
    "print(\"RSE regressão Linear Chute 1:\")\n",
    "print(\"X:\", Xrse)\n",
    "print(\"Y:\", Yrse)\n",
    "print(\"Z:\", Zrse)"
   ]
  },
  {
   "cell_type": "code",
   "execution_count": null,
   "metadata": {},
   "outputs": [],
   "source": [
    "Xrmseg2 = rmse(Xlineg2,dataset[0])\n",
    "Yrmseg2 = rmse(Ylineg2,dataset[1])\n",
    "Zrmseg2 = rmse(Zlineg2, dataset[2])\n",
    "Xrseg2 = rse(Xlineg2,dataset[0])\n",
    "Yrseg2 = rse(Ylineg2,dataset[1])\n",
    "Zrseg2 = rse(Zlineg2, dataset[2])\n",
    "print(\"RMSE regressão Polinomial grau 2 Chute 1:\")\n",
    "print(\"X:\",Xrmseg2)\n",
    "print(\"Y:\", Yrmseg2)\n",
    "print(\"Z\", Zrmseg2)\n",
    "print(\"RSE regressão Polinomial grau 2 Chute 1:\")\n",
    "print(\"X:\",Xrseg2)\n",
    "print(\"Y:\", Yrseg2)\n",
    "print(\"Z:\", Zrseg2)"
   ]
  },
  {
   "cell_type": "code",
   "execution_count": null,
   "metadata": {},
   "outputs": [],
   "source": [
    "Xrmseg5 = rmse(Xlineg5,dataset[0])\n",
    "Yrmseg5 = rmse(Ylineg5,dataset[1])\n",
    "Zrmseg5 = rmse(Zlineg5, dataset[2])\n",
    "Xrseg5 = rse(Xlineg5,dataset[0])\n",
    "Yrseg5 = rse(Ylineg5,dataset[1])\n",
    "Zrseg5 = rse(Zlineg5, dataset[2])\n",
    "print(\"RMSE regressão Polinomial grau 5 Chute 1:\")\n",
    "print(\"X:\",Xrmseg5)\n",
    "print(\"Y:\", Yrmseg5)\n",
    "print(\"Z\", Zrmseg5)\n",
    "print(\"RSE regressão Polinomial grau 5 Chute 1:\")\n",
    "print(\"X:\",Xrseg5)\n",
    "print(\"Y:\", Yrseg5)\n",
    "print(\"Z:\", Zrseg5)"
   ]
  },
  {
   "cell_type": "code",
   "execution_count": null,
   "metadata": {},
   "outputs": [],
   "source": [
    "Xrmseg10 = rmse(Xlineg10,dataset[0])\n",
    "Yrmseg10 = rmse(Ylineg10,dataset[1])\n",
    "Zrmseg10 = rmse(Zlineg10, dataset[2])\n",
    "Xrseg10 = rse(Xlineg10,dataset[0])\n",
    "Yrseg10 = rse(Ylineg10,dataset[1])\n",
    "Zrseg10 = rse(Zlineg10, dataset[2])\n",
    "print(\"RMSE regressão Polinomial grau 10 Chute 1:\")\n",
    "print(\"X:\",Xrmseg10)\n",
    "print(\"Y:\", Yrmseg10)\n",
    "print(\"Z\", Zrmseg10)\n",
    "print(\"RSE regressão Polinomial grau 10 Chute 1:\")\n",
    "print(\"X:\",Xrseg10)\n",
    "print(\"Y:\", Yrseg10)\n",
    "print(\"Z\", Zrseg10)"
   ]
  }
 ],
 "metadata": {
  "kernelspec": {
   "display_name": "Python 3",
   "language": "python",
   "name": "python3"
  },
  "language_info": {
   "codemirror_mode": {
    "name": "ipython",
    "version": 3
   },
   "file_extension": ".py",
   "mimetype": "text/x-python",
   "name": "python",
   "nbconvert_exporter": "python",
   "pygments_lexer": "ipython3",
   "version": "3.7.4"
  }
 },
 "nbformat": 4,
 "nbformat_minor": 4
}
