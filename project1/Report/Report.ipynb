{
 "cells": [
  {
   "cell_type": "markdown",
   "id": "vital-rebel",
   "metadata": {},
   "source": [
    "# Projeto 1: Unsupervised Learning"
   ]
  },
  {
   "cell_type": "markdown",
   "id": "sudden-yield",
   "metadata": {},
   "source": [
    "## Grupo\n",
    "Nomes: Camila Moraes Brito, Gabriel de Freitas Garcia  \n",
    "Ra: , 216179"
   ]
  },
  {
   "cell_type": "markdown",
   "id": "silver-reverse",
   "metadata": {},
   "source": [
    "# Tratamento dos Dados\n",
    "\n",
    "Foram usados dois datasets em nosso projeto, eles podem ser encontrados em: \"../data\". O primerio foi um dataset de duas dimensões fornecido pela professora, o segundo foi um dataset sobre ataques cardíacos encontrado em [Dataset ataque cardíaco](https://www.kaggle.com/fedesoriano/stroke-prediction-dataset). Em ambos os datasets optou-se por fazer fazer a leitura dos dados e depois seriaizá-los em formato JSON para evitar execuções desnecessárias do algoritmo de recuperação dos dados e por JSON ser mais fácil de recuperar que os formatos fornecidos. O padrão dos objetos JSON será exibido a seguir:  \n",
    "![teacher data](teacherData.png)\n",
    "![stroke data](strokeData.png)\n"
   ]
  },
  {
   "cell_type": "markdown",
   "id": "municipal-bonus",
   "metadata": {},
   "source": [
    "Os notebooks onde este tratamento é feito se encontram em [Teacher Data](../Notebooks/parsingData1.ipynb) e [Stroke Data](../Notebooks/parsingData1.ipynb). Para o dataset fornecido o tratamento foi apenas verificar se havia dados não numéricos entre os dados corretos, por meio de tratamento de exceção. Para o outro dataset o tratamento será explicado em detalhes mais abaixo. Nesta etapa nenhum dado foi normalizado."
   ]
  },
  {
   "cell_type": "markdown",
   "id": "passive-compact",
   "metadata": {},
   "source": [
    "O dataset sobre ataques cardíacos possui 12 features, uma delas, porém, o ID, representa um identificador único de cada indivíduo. Essa feature abrange uma gama muito grande de valores que não possui, provavelmente, nenhum significado e não serve para classificação dos elementos, ou seja, não é relevante para a análise e pode prejudicá-la, portanto optou-se por desprezá-la. As outras features e o tipo de dado que contem são: gênero - classificação (Homem, mulher ou outro), idade - inteiro, hipertensão - booleano, doença cardíaca - booleano, já foi casado - booleano, tipo de trabalho - classificação (Criança, desempregado, autônomo, funcionário privado ou funcionário público), tipo de habitação - classificação (Urbana ou Privada), nível médio de glicose - número contínuo, índice de massa corpórea - número contínuo, status de fumo - classificação (nunca fumou, ex-fumante, fumante ou desconhecido), ataque cardíaco - booleano."
   ]
  },
  {
   "cell_type": "markdown",
   "id": "nasty-greenhouse",
   "metadata": {},
   "source": [
    "Tendo em vista que os métodos de aprendizado não supervisionado utilizados precisam de números para trabalhar, todos os dados que não fossem numéricos precisaram ser adaptados, utilizando uma codificação desenvolvida por um dos membros da equipe que será explicada abaixo"
   ]
  },
  {
   "cell_type": "markdown",
   "id": "surrounded-norman",
   "metadata": {},
   "source": [
    "Gênero:  \n",
    "Mulher : 1  \n",
    "Outro : 2  \n",
    "Homem : 3  \n",
    "\n",
    "Essa decisão foi tomada com base numa ideia de proximidade, Mulher e homem são diferentes e opostos em termos classificatórios já outro, o desenvolvedor da codificação optou por não entrar em discussões que fogem ao escopo do projeto, porém interpretou que está igualmente perto de homem ou mulher, sem privilegiar nenhum. Por isso foi escolhidos os valores referenciados acima"
   ]
  },
  {
   "cell_type": "markdown",
   "id": "passive-andrew",
   "metadata": {},
   "source": [
    "Tipo de trabalho:  \n",
    "Criança : 0  \n",
    "Desempregado : 1  \n",
    "Autônomo : 2  \n",
    "Funcionário privado : 3  \n",
    "Funcionário público : 4\n",
    "\n",
    "Neste caso, a classificação se deu pelo nível de formalidade da ocupação, quanto mais formal, maior o número, crianças ficam com zero pois não podem trabalhar. Desta forma, tipos de emprego mais próximos, em questão de formalidade, ficam mais próximos e os muito díspares ficam mais distantes entre si."
   ]
  },
  {
   "cell_type": "markdown",
   "id": "structural-designer",
   "metadata": {},
   "source": [
    "Tipo de habitação:  \n",
    "Rural : 0  \n",
    "Urbano : 1  \n",
    "\n",
    "Essa feature é binária, portanto, 0 e 1 foi a escolha natural para esse caso, qualquer outros dois valores diferentes poderiam ser usados, esses porém mantém a consistência com as dimensões booleanas do dataset."
   ]
  },
  {
   "cell_type": "markdown",
   "id": "educational-indiana",
   "metadata": {},
   "source": [
    "Status de fumo:\n",
    "Nunca fumou : 0  \n",
    "Parou de fumar: 1  \n",
    "Fuma : 2  \n",
    "Desconhecido : -1  \n",
    "\n",
    "Neste caso, fumantes e não fumantes são opções diametralmente opostas, com ex-fumante estando entre as duas opções por já ter fumado, porém não fumar mais. Há uma quarta opção, desconhecido, que significa que esse dado não está disponível e deixou-se em -1, uma vez que todos os dados são positivos. Essa escolha é consistente com outras dimensões, que optou-se por marcar -1 toda vez que houvesse uma célula vazia."
   ]
  },
  {
   "cell_type": "markdown",
   "id": "joined-genre",
   "metadata": {},
   "source": [
    "Para as outras dimensões, manteve-se o número que estava na entrada, apenas tomando o cuidado de verificar se era um valor válido, se não, registrou-se -1. A dimensão \"Já foi casado\" ao invés de 0 e 1, como nas outras colunas booleanas, tinha \"sim e não\", que foram devidamente substituídas por 0 e 1, mantendo-se a consistência dos dados."
   ]
  },
  {
   "cell_type": "markdown",
   "id": "neither-instrument",
   "metadata": {},
   "source": [
    "As leituras nesse dataset foram feitas por meio da biblioteca Pandas, que possui uma série de funções adequadas para leitura e manipulação de dados, o que inclui leitura de arquivos CSV (comma separated values), o formato de entrada deste dataset. "
   ]
  },
  {
   "cell_type": "markdown",
   "id": "needed-remark",
   "metadata": {},
   "source": [
    "O dataset fornecido foi lido por meio das funções padrão de leitura de arquivos da liguagem Python, devido ao seu formato de dois números por linha separados por espaço, sem cabeçalho."
   ]
  },
  {
   "cell_type": "markdown",
   "id": "smoking-cloud",
   "metadata": {},
   "source": [
    "Ambas as fontes de dados foram separadas em conjuntos de aprendizado e teste de tamanho aproximadamente 90% e 10% respectivamente. Isso se deu por meio de escolha aleatória de 10% dos pontos de cada dataset, algoritmo que mantém a distribuição da amostra retirada. Um dos códigos feitos para isso será mostrado abaixo, o código para o outro dataset é análogo e pode ser encontrado junto com todo o código desta etapa do projeto nos notebooks anteriormente anexados."
   ]
  },
  {
   "cell_type": "code",
   "execution_count": null,
   "id": "secondary-mountain",
   "metadata": {},
   "outputs": [],
   "source": [
    "try:\n",
    "    f = open(\"../data/cluster.dat\")\n",
    "except:\n",
    "    print(\"Houston we've got a problem\")\n",
    "dataset = []\n",
    "testset = []\n",
    "for i in f:\n",
    "    rVar = random.randint(1,10)\n",
    "    stringList = i.split()\n",
    "    try:\n",
    "        dicti = {\n",
    "            \"x\" : float(stringList[0]),\n",
    "            \"y\" : float(stringList[1]),\n",
    "            \"cluster\" : -1\n",
    "        }\n",
    "    except ValueError:\n",
    "        print(\"You had a Value Error\")\n",
    "        break\n",
    "    except:\n",
    "        print(\"You got another Error\")\n",
    "        break\n",
    "    if(rVar == 5):\n",
    "        testset.append(dicti)\n",
    "    else:\n",
    "        dataset.append(dicti)\n",
    "f.close()"
   ]
  },
  {
   "cell_type": "markdown",
   "id": "awful-lodge",
   "metadata": {},
   "source": [
    "# Kmeans"
   ]
  }
 ],
 "metadata": {
  "kernelspec": {
   "display_name": "Python 3",
   "language": "python",
   "name": "python3"
  },
  "language_info": {
   "codemirror_mode": {
    "name": "ipython",
    "version": 3
   },
   "file_extension": ".py",
   "mimetype": "text/x-python",
   "name": "python",
   "nbconvert_exporter": "python",
   "pygments_lexer": "ipython3",
   "version": "3.8.3"
  }
 },
 "nbformat": 4,
 "nbformat_minor": 5
}
