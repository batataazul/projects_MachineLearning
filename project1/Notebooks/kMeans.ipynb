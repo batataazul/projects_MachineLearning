{
 "cells": [
  {
   "cell_type": "code",
   "execution_count": 75,
   "id": "collective-arthritis",
   "metadata": {},
   "outputs": [],
   "source": [
    "import math\n",
    "import numpy as np\n",
    "import json\n",
    "import random\n",
    "import matplotlib.pyplot as plt"
   ]
  },
  {
   "cell_type": "code",
   "execution_count": 73,
   "id": "automated-trinity",
   "metadata": {},
   "outputs": [],
   "source": [
    "def kmeans(dataset,k):\n",
    "    centers = [] \n",
    "    for i in range(k):\n",
    "        centers.append(initialize(dataset))\n",
    "    for i in dataset:\n",
    "        i[\"cluster\"] = getCluster(getPoint(i),centers)\n",
    "    k = 0\n",
    "    oldCenters = centers\n",
    "    while(True):\n",
    "        if k > 30:\n",
    "            break\n",
    "        elif change(centers,oldCenters) and k > 0:\n",
    "            break\n",
    "        oldCenters = centers\n",
    "        for i in range(len(centers)):\n",
    "            centers[i] = getCenter(getClusterPoints(dataset,i))\n",
    "        for i in dataset:\n",
    "            i[\"cluster\"] = getCluster(getPoint(i),centers)\n",
    "        k+=1\n",
    "        print(k)\n",
    "    return dataset"
   ]
  },
  {
   "cell_type": "code",
   "execution_count": 2,
   "id": "advisory-elimination",
   "metadata": {},
   "outputs": [],
   "source": [
    "def distance(element1,element2):\n",
    "    print(\"This is a dumb function\")"
   ]
  },
  {
   "cell_type": "code",
   "execution_count": 33,
   "id": "stone-exhibition",
   "metadata": {},
   "outputs": [],
   "source": [
    "def initialize(dataset):\n",
    "    center = []\n",
    "    for i in dataset[0]:\n",
    "        if i == \"cluster\":\n",
    "            continue\n",
    "        array = getList(dataset,i)\n",
    "        center.append(random.uniform(min(array),max(array)))\n",
    "    return center"
   ]
  },
  {
   "cell_type": "code",
   "execution_count": 64,
   "id": "bibliographic-insight",
   "metadata": {},
   "outputs": [],
   "source": [
    "def getCenter(clusterPoints):\n",
    "    newCenter = []\n",
    "    for i in range(len(clusterPoints[0])):\n",
    "        array = []\n",
    "        for j in clusterPoints:\n",
    "            array.append(j[i])\n",
    "        newCenter.append(np.average(np.array(array)))\n",
    "    return newCenter"
   ]
  },
  {
   "cell_type": "code",
   "execution_count": 15,
   "id": "global-homework",
   "metadata": {},
   "outputs": [],
   "source": [
    "def getList(dataset,feature):\n",
    "    array = []\n",
    "    for i in dataset:\n",
    "        array.append(i[feature])\n",
    "    return array"
   ]
  },
  {
   "cell_type": "code",
   "execution_count": 21,
   "id": "imported-coast",
   "metadata": {},
   "outputs": [],
   "source": [
    "def module(point):\n",
    "    cModule = 0\n",
    "    for i in point:\n",
    "        cModule += point[i]**2\n",
    "    return math.sqrt(cModule)"
   ]
  },
  {
   "cell_type": "code",
   "execution_count": 38,
   "id": "impressed-powder",
   "metadata": {},
   "outputs": [],
   "source": [
    "def getPoint(dPoint):\n",
    "    point = []\n",
    "    for i in dPoint:\n",
    "        if i == \"cluster\":\n",
    "            continue\n",
    "        point.append(dPoint[i])\n",
    "    return point"
   ]
  },
  {
   "cell_type": "code",
   "execution_count": 68,
   "id": "conditional-oracle",
   "metadata": {},
   "outputs": [],
   "source": [
    "def change(centers,oldCenters):\n",
    "    change = False\n",
    "    for i in range(len(centers)):\n",
    "        if ((np.linalg.norm(np.array(centers[i]) - np.array(oldCenters[i]))) > 0.01):\n",
    "            change = True\n",
    "            break\n",
    "    return change"
   ]
  },
  {
   "cell_type": "code",
   "execution_count": 40,
   "id": "apart-environment",
   "metadata": {},
   "outputs": [],
   "source": [
    "def getCluster(point,centers):\n",
    "    minDis = np.linalg.norm(np.array(centers[0]) - np.array(point))\n",
    "    minPos = 0\n",
    "    for i in range(1,len(centers)):\n",
    "        dis = np.linalg.norm(np.array(centers[i]) - np.array(point))\n",
    "        if minDis > dis:\n",
    "            minDis = dis\n",
    "            minPos = i\n",
    "    return minPos"
   ]
  },
  {
   "cell_type": "code",
   "execution_count": 27,
   "id": "dimensional-checklist",
   "metadata": {},
   "outputs": [],
   "source": [
    "def getClusterPoints(dataset,cluster):\n",
    "    clusterPoints = []\n",
    "    for i in dataset:\n",
    "        if i[\"cluster\"] == cluster:\n",
    "            clusterPoints.append(getPoint(i))\n",
    "    return clusterPoints"
   ]
  },
  {
   "cell_type": "code",
   "execution_count": 78,
   "id": "intellectual-correlation",
   "metadata": {},
   "outputs": [
    {
     "name": "stdout",
     "output_type": "stream",
     "text": [
      "1\n",
      "2\n",
      "3\n",
      "4\n",
      "5\n",
      "6\n",
      "7\n",
      "8\n",
      "9\n",
      "10\n",
      "11\n",
      "12\n",
      "13\n",
      "14\n",
      "15\n",
      "16\n",
      "17\n",
      "18\n",
      "19\n",
      "20\n",
      "21\n",
      "22\n",
      "23\n",
      "24\n",
      "25\n",
      "26\n",
      "27\n",
      "28\n",
      "29\n",
      "30\n",
      "31\n"
     ]
    },
    {
     "data": {
      "image/png": "[encoded data removed]",
      "text/plain": [
       "<Figure size 432x288 with 1 Axes>"
      ]
     },
     "metadata": {
      "needs_background": "light"
     },
     "output_type": "display_data"
    }
   ],
   "source": [
    "exist = True\n",
    "try:\n",
    "    f = open(\"../data/strokeData.json\",\"r\")\n",
    "    stringSet = f.read()\n",
    "    f.close()\n",
    "except:\n",
    "    print(\"Arquivo não existe\")\n",
    "    exist = False\n",
    "if(exist):\n",
    "    clusterCount = [0]*5\n",
    "    dataset = kmeans(dataset,5)\n",
    "    for i in range(5):\n",
    "        clusterCount[i] = len(getClusterPoints(dataset,i))\n",
    "    plt.bar([0,1,2,3,4],clusterCount)\n",
    "    plt.title(\"Clusters length\")\n",
    "    plt.xlabel(\"Cluster\")\n",
    "    plt.ylabel(\"Number of elements in cluster\")\n",
    "    plt.grid(True)\n",
    "\n",
    "    plt.savefig(\"clusterLength.png\")\n",
    "    "
   ]
  }
 ],
 "metadata": {
  "kernelspec": {
   "display_name": "Python 3",
   "language": "python",
   "name": "python3"
  },
  "language_info": {
   "codemirror_mode": {
    "name": "ipython",
    "version": 3
   },
   "file_extension": ".py",
   "mimetype": "text/x-python",
   "name": "python",
   "nbconvert_exporter": "python",
   "pygments_lexer": "ipython3",
   "version": "3.8.3"
  }
 },
 "nbformat": 4,
 "nbformat_minor": 5
}
