{
 "cells": [
  {
   "cell_type": "code",
   "execution_count": 4,
   "id": "minus-cyprus",
   "metadata": {},
   "outputs": [],
   "source": [
    "import pandas as pd\n",
    "import matplotlib.pyplot as plt\n",
    "import numpy as np\n",
    "import math\n",
    "import json"
   ]
  },
  {
   "cell_type": "code",
   "execution_count": 5,
   "id": "unexpected-equation",
   "metadata": {},
   "outputs": [],
   "source": [
    "try:\n",
    "    f = open(\"../data/cluster.dat\")\n",
    "except:\n",
    "    print(\"Houston we've got a problem\")\n",
    "dataset = []\n",
    "for i in f:\n",
    "    stringList = i.split()\n",
    "    try:\n",
    "        dicti = {\n",
    "            \"x\" : float(stringList[0]),\n",
    "            \"y\" : float(stringList[1]),\n",
    "            \"cluster\" : -1\n",
    "        }\n",
    "    except ValueError:\n",
    "        print(\"You had a Value Error\")\n",
    "        break\n",
    "    except:\n",
    "        print(\"You got another Error\")\n",
    "        break\n",
    "    dataset.append(dicti)\n",
    "f.close()"
   ]
  },
  {
   "cell_type": "code",
   "execution_count": 6,
   "id": "dated-marsh",
   "metadata": {},
   "outputs": [],
   "source": [
    "exporting = json.dumps(dataset,indent = 4)\n",
    "try:\n",
    "    f = open(\"../data/teacherData.json\",\"w\")\n",
    "    f.write(exporting)\n",
    "    f.close()\n",
    "except:\n",
    "    print(\"Something went wrong\")"
   ]
  }
 ],
 "metadata": {
  "kernelspec": {
   "display_name": "Python 3",
   "language": "python",
   "name": "python3"
  },
  "language_info": {
   "codemirror_mode": {
    "name": "ipython",
    "version": 3
   },
   "file_extension": ".py",
   "mimetype": "text/x-python",
   "name": "python",
   "nbconvert_exporter": "python",
   "pygments_lexer": "ipython3",
   "version": "3.8.3"
  }
 },
 "nbformat": 4,
 "nbformat_minor": 5
}
