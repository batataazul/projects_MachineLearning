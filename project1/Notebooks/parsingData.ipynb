{
 "cells": [
  {
   "cell_type": "code",
   "execution_count": 1,
   "id": "dress-memorial",
   "metadata": {},
   "outputs": [],
   "source": [
    "import pandas as pd\n",
    "import matplotlib.pyplot as plt\n",
    "import numpy as np\n",
    "import math\n",
    "import json\n",
    "import random\n",
    "import copy"
   ]
  },
  {
   "cell_type": "code",
   "execution_count": 2,
   "id": "split-inflation",
   "metadata": {},
   "outputs": [
    {
     "data": {
      "text/html": [
       "<div>\n",
       "<style scoped>\n",
       "    .dataframe tbody tr th:only-of-type {\n",
       "        vertical-align: middle;\n",
       "    }\n",
       "\n",
       "    .dataframe tbody tr th {\n",
       "        vertical-align: top;\n",
       "    }\n",
       "\n",
       "    .dataframe thead th {\n",
       "        text-align: right;\n",
       "    }\n",
       "</style>\n",
       "<table border=\"1\" class=\"dataframe\">\n",
       "  <thead>\n",
       "    <tr style=\"text-align: right;\">\n",
       "      <th></th>\n",
       "      <th>id</th>\n",
       "      <th>gender</th>\n",
       "      <th>age</th>\n",
       "      <th>hypertension</th>\n",
       "      <th>heart_disease</th>\n",
       "      <th>ever_married</th>\n",
       "      <th>work_type</th>\n",
       "      <th>Residence_type</th>\n",
       "      <th>avg_glucose_level</th>\n",
       "      <th>bmi</th>\n",
       "      <th>smoking_status</th>\n",
       "      <th>stroke</th>\n",
       "    </tr>\n",
       "  </thead>\n",
       "  <tbody>\n",
       "    <tr>\n",
       "      <td>0</td>\n",
       "      <td>9046</td>\n",
       "      <td>Male</td>\n",
       "      <td>67.0</td>\n",
       "      <td>0</td>\n",
       "      <td>1</td>\n",
       "      <td>Yes</td>\n",
       "      <td>Private</td>\n",
       "      <td>Urban</td>\n",
       "      <td>228.69</td>\n",
       "      <td>36.6</td>\n",
       "      <td>formerly smoked</td>\n",
       "      <td>1</td>\n",
       "    </tr>\n",
       "    <tr>\n",
       "      <td>1</td>\n",
       "      <td>51676</td>\n",
       "      <td>Female</td>\n",
       "      <td>61.0</td>\n",
       "      <td>0</td>\n",
       "      <td>0</td>\n",
       "      <td>Yes</td>\n",
       "      <td>Self-employed</td>\n",
       "      <td>Rural</td>\n",
       "      <td>202.21</td>\n",
       "      <td>NaN</td>\n",
       "      <td>never smoked</td>\n",
       "      <td>1</td>\n",
       "    </tr>\n",
       "    <tr>\n",
       "      <td>2</td>\n",
       "      <td>31112</td>\n",
       "      <td>Male</td>\n",
       "      <td>80.0</td>\n",
       "      <td>0</td>\n",
       "      <td>1</td>\n",
       "      <td>Yes</td>\n",
       "      <td>Private</td>\n",
       "      <td>Rural</td>\n",
       "      <td>105.92</td>\n",
       "      <td>32.5</td>\n",
       "      <td>never smoked</td>\n",
       "      <td>1</td>\n",
       "    </tr>\n",
       "    <tr>\n",
       "      <td>3</td>\n",
       "      <td>60182</td>\n",
       "      <td>Female</td>\n",
       "      <td>49.0</td>\n",
       "      <td>0</td>\n",
       "      <td>0</td>\n",
       "      <td>Yes</td>\n",
       "      <td>Private</td>\n",
       "      <td>Urban</td>\n",
       "      <td>171.23</td>\n",
       "      <td>34.4</td>\n",
       "      <td>smokes</td>\n",
       "      <td>1</td>\n",
       "    </tr>\n",
       "    <tr>\n",
       "      <td>4</td>\n",
       "      <td>1665</td>\n",
       "      <td>Female</td>\n",
       "      <td>79.0</td>\n",
       "      <td>1</td>\n",
       "      <td>0</td>\n",
       "      <td>Yes</td>\n",
       "      <td>Self-employed</td>\n",
       "      <td>Rural</td>\n",
       "      <td>174.12</td>\n",
       "      <td>24.0</td>\n",
       "      <td>never smoked</td>\n",
       "      <td>1</td>\n",
       "    </tr>\n",
       "  </tbody>\n",
       "</table>\n",
       "</div>"
      ],
      "text/plain": [
       "      id  gender   age  hypertension  heart_disease ever_married  \\\n",
       "0   9046    Male  67.0             0              1          Yes   \n",
       "1  51676  Female  61.0             0              0          Yes   \n",
       "2  31112    Male  80.0             0              1          Yes   \n",
       "3  60182  Female  49.0             0              0          Yes   \n",
       "4   1665  Female  79.0             1              0          Yes   \n",
       "\n",
       "       work_type Residence_type  avg_glucose_level   bmi   smoking_status  \\\n",
       "0        Private          Urban             228.69  36.6  formerly smoked   \n",
       "1  Self-employed          Rural             202.21   NaN     never smoked   \n",
       "2        Private          Rural             105.92  32.5     never smoked   \n",
       "3        Private          Urban             171.23  34.4           smokes   \n",
       "4  Self-employed          Rural             174.12  24.0     never smoked   \n",
       "\n",
       "   stroke  \n",
       "0       1  \n",
       "1       1  \n",
       "2       1  \n",
       "3       1  \n",
       "4       1  "
      ]
     },
     "execution_count": 2,
     "metadata": {},
     "output_type": "execute_result"
    }
   ],
   "source": [
    "strokeDt = pd.read_csv(\"../data/healthcare-dataset-stroke-data.csv\")\n",
    "strokeDt = strokeDt.drop_duplicates()\n",
    "strokeDt.head()"
   ]
  },
  {
   "cell_type": "code",
   "execution_count": 3,
   "id": "second-holder",
   "metadata": {},
   "outputs": [
    {
     "name": "stdout",
     "output_type": "stream",
     "text": [
      "id                     int64\n",
      "gender                object\n",
      "age                  float64\n",
      "hypertension           int64\n",
      "heart_disease          int64\n",
      "ever_married          object\n",
      "work_type             object\n",
      "Residence_type        object\n",
      "avg_glucose_level    float64\n",
      "bmi                  float64\n",
      "smoking_status        object\n",
      "stroke                 int64\n",
      "dtype: object\n"
     ]
    }
   ],
   "source": [
    "print(strokeDt.dtypes)"
   ]
  },
  {
   "cell_type": "code",
   "execution_count": 4,
   "id": "bright-mortgage",
   "metadata": {},
   "outputs": [],
   "source": [
    "people = []\n",
    "for i in strokeDt[\"gender\"]:\n",
    "    person = {\"gender\" : \"\",\n",
    "              \"age\" : \"\",\n",
    "              \"hypertension\": \"\",\n",
    "              \"heart_disease\" : \"\",\n",
    "              \"ever_married\": \"\",\n",
    "              \"work_type\": \"\",\n",
    "              \"Residence_type\": \"\",\n",
    "              \"avg_glucose_level\": \"\",\n",
    "              \"smoking_status\" : \"\",\n",
    "              \"stroke\" : \"\",\n",
    "              \"cluster\" : -1\n",
    "             }\n",
    "    if i == \"Female\":\n",
    "        person[\"gender\"] = 1\n",
    "        people.append(person)\n",
    "    elif i == \"Male\":\n",
    "        person[\"gender\"] = 3\n",
    "        people.append(person)\n",
    "    else:\n",
    "        person[\"gender\"] = 2\n",
    "        people.append(person)"
   ]
  },
  {
   "cell_type": "code",
   "execution_count": 5,
   "id": "welcome-campbell",
   "metadata": {},
   "outputs": [
    {
     "name": "stdout",
     "output_type": "stream",
     "text": [
      "5110\n",
      "5110\n"
     ]
    }
   ],
   "source": [
    "print(len(strokeDt[\"gender\"]))\n",
    "print(len(people))"
   ]
  },
  {
   "cell_type": "code",
   "execution_count": 6,
   "id": "molecular-saint",
   "metadata": {},
   "outputs": [
    {
     "name": "stdout",
     "output_type": "stream",
     "text": [
      "3\n",
      "1\n",
      "3\n",
      "1\n",
      "1\n",
      "3\n",
      "3\n",
      "1\n",
      "1\n",
      "1\n"
     ]
    }
   ],
   "source": [
    "for i in people[0:10]:\n",
    "    print(i[\"gender\"])"
   ]
  },
  {
   "cell_type": "code",
   "execution_count": 7,
   "id": "august-insured",
   "metadata": {},
   "outputs": [],
   "source": [
    "j = 0\n",
    "for i in strokeDt[\"age\"]:\n",
    "    if math.isnan(i):\n",
    "        people[j][\"age\"] = -1\n",
    "    else:\n",
    "        people[j][\"age\"] = i\n",
    "    j += 1"
   ]
  },
  {
   "cell_type": "code",
   "execution_count": 8,
   "id": "brown-executive",
   "metadata": {},
   "outputs": [],
   "source": [
    "j = 0\n",
    "for i in strokeDt[\"hypertension\"]:\n",
    "    if math.isnan(i):\n",
    "        people[j][\"hypertension\"] = -1\n",
    "    else:\n",
    "        people[j][\"hypertension\"] = i\n",
    "    j += 1"
   ]
  },
  {
   "cell_type": "code",
   "execution_count": 9,
   "id": "disabled-bench",
   "metadata": {},
   "outputs": [],
   "source": [
    "j = 0\n",
    "for i in strokeDt[\"heart_disease\"]:\n",
    "    if math.isnan(i):\n",
    "        people[j][\"heart_disease\"] = -1\n",
    "    else:\n",
    "        people[j][\"heart_disease\"] = i\n",
    "    j += 1"
   ]
  },
  {
   "cell_type": "code",
   "execution_count": 10,
   "id": "civic-player",
   "metadata": {},
   "outputs": [],
   "source": [
    "j = 0\n",
    "for i in strokeDt[\"ever_married\"]:\n",
    "    if i == \"Yes\":\n",
    "        people[j][\"ever_married\"] = 0\n",
    "    elif i == \"No\":\n",
    "        people[j][\"ever_married\"] = 1\n",
    "    else:\n",
    "        people[j][\"ever_married\"] = 2\n",
    "    j += 1"
   ]
  },
  {
   "cell_type": "code",
   "execution_count": 11,
   "id": "upset-workstation",
   "metadata": {},
   "outputs": [],
   "source": [
    "j = 0\n",
    "for i in strokeDt[\"work_type\"]:\n",
    "    if i == \"children\":\n",
    "        people[j][\"work_type\"] = 0\n",
    "    elif i == \"Govt_jov\":\n",
    "        people[j][\"work_type\"] = 4\n",
    "    elif i == \"Never_worked\":\n",
    "        people[j][\"work_type\"] = 1\n",
    "    elif i == \"Private\":\n",
    "        people[j][\"work_type\"] = 3\n",
    "    else:\n",
    "        people[j][\"work_type\"] = 2\n",
    "    j += 1"
   ]
  },
  {
   "cell_type": "code",
   "execution_count": 12,
   "id": "specified-powell",
   "metadata": {},
   "outputs": [],
   "source": [
    "j = 0\n",
    "for i in strokeDt[\"Residence_type\"]:\n",
    "    if i == \"Rural\":\n",
    "        people[j][\"Residence_type\"] = 0\n",
    "    else:\n",
    "        people[j][\"Residence_type\"] = 1\n",
    "    j += 1"
   ]
  },
  {
   "cell_type": "code",
   "execution_count": 13,
   "id": "aboriginal-threshold",
   "metadata": {},
   "outputs": [],
   "source": [
    "j = 0\n",
    "for i in strokeDt[\"avg_glucose_level\"]:\n",
    "    people[j][\"avg_glucose_level\"] = i\n",
    "    j += 1"
   ]
  },
  {
   "cell_type": "code",
   "execution_count": 14,
   "id": "immediate-progressive",
   "metadata": {},
   "outputs": [],
   "source": [
    "j = 0\n",
    "for i in strokeDt[\"bmi\"]:\n",
    "    if math.isnan(i):\n",
    "        people[j][\"bmi\"] = -1\n",
    "    else:\n",
    "        people[j][\"bmi\"] = i\n",
    "    j += 1"
   ]
  },
  {
   "cell_type": "code",
   "execution_count": 15,
   "id": "behavioral-slovak",
   "metadata": {},
   "outputs": [],
   "source": [
    "j = 0\n",
    "for i in strokeDt[\"smoking_status\"]:\n",
    "    if i == \"formerly smoked\":\n",
    "        people[j][\"smoking_status\"] = 1\n",
    "    elif i == \"never smoked\":\n",
    "        people[j][\"smoking_status\"] = 0\n",
    "    elif i == \"smokes\":\n",
    "        people[j][\"smoking_status\"] = 2\n",
    "    else:\n",
    "        people[j][\"smoking_status\"] = -1\n",
    "    j += 1"
   ]
  },
  {
   "cell_type": "code",
   "execution_count": 16,
   "id": "forced-governor",
   "metadata": {},
   "outputs": [],
   "source": [
    "j = 0\n",
    "for i in strokeDt[\"stroke\"]:\n",
    "    if math.isnan(i):\n",
    "        people[j][\"stroke\"] = -1\n",
    "    else:\n",
    "        people[j][\"stroke\"] = i\n",
    "    j += 1"
   ]
  },
  {
   "cell_type": "code",
   "execution_count": 17,
   "id": "stunning-acquisition",
   "metadata": {},
   "outputs": [
    {
     "name": "stdout",
     "output_type": "stream",
     "text": [
      "{'gender': 3, 'age': 67.0, 'hypertension': 0, 'heart_disease': 1, 'ever_married': 0, 'work_type': 3, 'Residence_type': 1, 'avg_glucose_level': 228.69, 'smoking_status': 1, 'stroke': 1, 'cluster': -1, 'bmi': 36.6}\n"
     ]
    }
   ],
   "source": [
    "print(people[0])"
   ]
  },
  {
   "cell_type": "code",
   "execution_count": 18,
   "id": "dangerous-salvation",
   "metadata": {},
   "outputs": [],
   "source": [
    "testset = []\n",
    "leng = len(people)\n",
    "vPos = []\n",
    "for i in range(leng):\n",
    "    rPos = random.randint(0,10)\n",
    "    if (rPos == 5):\n",
    "        testset.append(copy.deepcopy(people[i]))\n",
    "        vPos.append(i)\n",
    "for i in range(len(vPos)):\n",
    "    del people[vPos[i]-i]"
   ]
  },
  {
   "cell_type": "code",
   "execution_count": 19,
   "id": "adult-eleven",
   "metadata": {},
   "outputs": [],
   "source": [
    "exporting = json.dumps(people,indent = 4)\n",
    "exporting2 = json.dumps(testset,indent = 4)"
   ]
  },
  {
   "cell_type": "code",
   "execution_count": 20,
   "id": "moved-healing",
   "metadata": {},
   "outputs": [],
   "source": [
    "f = open(\"../data/strokeData.json\",\"w\")\n",
    "f.write(exporting)\n",
    "f.close()\n",
    "f = open(\"../data/testSet2.json\",\"w\")\n",
    "f.write(exporting2)\n",
    "f.close()"
   ]
  }
 ],
 "metadata": {
  "kernelspec": {
   "display_name": "Python 3",
   "language": "python",
   "name": "python3"
  },
  "language_info": {
   "codemirror_mode": {
    "name": "ipython",
    "version": 3
   },
   "file_extension": ".py",
   "mimetype": "text/x-python",
   "name": "python",
   "nbconvert_exporter": "python",
   "pygments_lexer": "ipython3",
   "version": "3.8.3"
  }
 },
 "nbformat": 4,
 "nbformat_minor": 5
}
